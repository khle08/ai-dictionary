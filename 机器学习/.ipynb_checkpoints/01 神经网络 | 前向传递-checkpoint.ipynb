{
 "cells": [
  {
   "cell_type": "markdown",
   "metadata": {},
   "source": [
    "# 简介\n",
    "人工神经网络这个想法的发明可以被追溯到1943年。然而却因为当时的计算机性能较差，这项研究无法顺利的被进行下去。在往后的日子里，随着计算机技术的升级，人们发明了多种策略预防法来优化网络。`反向传播`（`Back propagation`）就是当时众多发明的方法里最聪明的点子之一，而它的发明人则是大名鼎鼎的教授 Geoffrey Hinton。如今，该技术已成为现阶段神经网络在训练过程中必备的存在，如果没有反向传播，神经网络算法基本很难找到替代的训练方案。\n",
    "\n",
    "![neuron.png](pics/neuron.png)\n",
    "\n",
    "神经网络的想法其实是发想于生物大脑的结构，细胞将电子信号作为输入，经过一些非线性处理后，输出的信号接着被作为下一层网络的输入进入到对应的神经元中，而非线性的过程可以是指数形式，也可以是多项式形式，甚至可以是随机变量的形式进行。人工神经网络的工作原理也类似于自然界神经网络，不过其中非线性的部分比较单一，统一由一个激活函数完成。\n",
    "\n",
    "到了2012年，新算法`AlexNet`在世界范围的图像分类竞赛中击败了其他算法，网络结构相较于传统模型来说，深度加深了许多，从此，人工神经网络蓬勃发展的时代来临了，随着网络被设计的越来越深层，分类任务的准确性也相对的更上一层楼。"
   ]
  },
  {
   "cell_type": "code",
   "execution_count": 1,
   "metadata": {},
   "outputs": [],
   "source": [
    "import numpy as np\n",
    "import seaborn as sb\n",
    "\n",
    "from matplotlib import pyplot as plt\n",
    "from sklearn.datasets import load_digits"
   ]
  },
  {
   "cell_type": "markdown",
   "metadata": {},
   "source": [
    "# 1. Neurons\n",
    "在计算机科学领域，神经元其实就是一种数学表达式，这个公式以一个数字作为输入并输出一另一个数字，该过程可以是线性函数也可以是非线性函数。由于一个神经元是网络的最小单位，所以我们通常以最简单的方式定义函数，通过层数的不断叠加，模型也因此可以被设计成任意程度的复杂性：\n",
    "\n",
    "$$\n",
    "\\mathop{neuron}(x) = x\\cdot w + b\n",
    "$$\n",
    "\n",
    "其中w称为权重，b称为偏差。但是，如果需要处理的数目不止一个数字，那么我们将需要创建对应数量的神经元来处理数据，而一维矩阵则是一个用来计算批量数据的好工具。"
   ]
  },
  {
   "cell_type": "markdown",
   "metadata": {},
   "source": [
    "![nn_fc.jpg](pics/nn_fc.jpg)\n",
    "\n",
    "以上图为例，每个像素用一个数字表示。如果要用一张图像作为神经网络的输入，则需要$8\\times8$个神经元保存每个数字。"
   ]
  },
  {
   "cell_type": "code",
   "execution_count": 2,
   "metadata": {},
   "outputs": [
    {
     "name": "stdout",
     "output_type": "stream",
     "text": [
      "[[ 0.  2.  9. 15. 14.  9.  3.  0.]\n",
      " [ 0.  4. 13.  8.  9. 16.  8.  0.]\n",
      " [ 0.  0.  0.  6. 14. 15.  3.  0.]\n",
      " [ 0.  0.  0. 11. 14.  2.  0.  0.]\n",
      " [ 0.  0.  0.  2. 15. 11.  0.  0.]\n",
      " [ 0.  0.  0.  0.  2. 15.  4.  0.]\n",
      " [ 0.  1.  5.  6. 13. 16.  6.  0.]\n",
      " [ 0.  2. 12. 12. 13. 11.  0.  0.]] \n",
      "\n",
      "Label: 3 \n",
      "Shape: 8 x 8\n"
     ]
    }
   ],
   "source": [
    "nums_8x8 = load_digits()\n",
    "print(nums_8x8.images[13], '\\n\\nLabel: {}'.format(nums_8x8.target[13]),\n",
    "      '\\nShape: {} x {}'.format(nums_8x8.images.shape[1],\n",
    "                                nums_8x8.images.shape[2]))"
   ]
  },
  {
   "cell_type": "markdown",
   "metadata": {},
   "source": [
    "## 1-1. 改变形状\n",
    "然而，图片是被一个二维矩阵所容纳的，不满足一维神经元的输入要求，我们需要将该矩阵的形状改变为为$1\\times n$矩阵："
   ]
  },
  {
   "cell_type": "code",
   "execution_count": 3,
   "metadata": {
    "scrolled": true
   },
   "outputs": [
    {
     "name": "stdout",
     "output_type": "stream",
     "text": [
      "[[ 0.  2.  9. 15. 14.  9.  3.  0.  0.  4. 13.  8.  9. 16.  8.  0.  0.  0.\n",
      "   0.  6. 14. 15.  3.  0.  0.  0.  0. 11. 14.  2.  0.  0.  0.  0.  0.  2.\n",
      "  15. 11.  0.  0.  0.  0.  0.  0.  2. 15.  4.  0.  0.  1.  5.  6. 13. 16.\n",
      "   6.  0.  0.  2. 12. 12. 13. 11.  0.  0.]] \n",
      "\n",
      "Shape: 1 x 64\n"
     ]
    }
   ],
   "source": [
    "print(nums_8x8.images[13].reshape(1, -1), \n",
    "      '\\n\\nShape: 1 x {}'.format(nums_8x8.images.shape[1] *\n",
    "                                 nums_8x8.images.shape[2]))"
   ]
  },
  {
   "cell_type": "markdown",
   "metadata": {},
   "source": [
    "## 1-2. 权重与偏差\n",
    "根据上面的网络示意图，下一层输入的维数是32，因此我们需要一个$64\\times 32$ 的2D矩阵将$1\\times 64$维矩阵转换为$1\\times 32$维的矩阵："
   ]
  },
  {
   "cell_type": "code",
   "execution_count": 4,
   "metadata": {},
   "outputs": [
    {
     "name": "stdout",
     "output_type": "stream",
     "text": [
      "Shape: 64 x 32\n"
     ]
    }
   ],
   "source": [
    "w = np.random.normal(0, 1, 64*32).reshape(64, 32)\n",
    "print('Shape: {} x {}'.format(w.shape[0], w.shape[1]))"
   ]
  },
  {
   "cell_type": "code",
   "execution_count": 5,
   "metadata": {},
   "outputs": [],
   "source": [
    "x = np.dot(nums_8x8.images[13].reshape(1, -1), w)"
   ]
  },
  {
   "cell_type": "code",
   "execution_count": 6,
   "metadata": {},
   "outputs": [
    {
     "name": "stdout",
     "output_type": "stream",
     "text": [
      "[[ -72.75  104.19  -28.75  124.42   59.     39.84  -86.92   27.6   -60.53\n",
      "    51.99  -45.77  132.61   35.35   -4.97   68.29   18.75  -69.75  -88.27\n",
      "  -124.26   -2.95  -75.69   58.55  -27.45  -40.3     4.42   92.63  -47.17\n",
      "    27.93  -45.07   43.18  159.59   30.43]] \n",
      "\n",
      "Shape: 1 x 32\n"
     ]
    }
   ],
   "source": [
    "print(np.round(x, decimals=2), '\\n\\nShape: 1 x {}'.format(x.shape[1]))"
   ]
  },
  {
   "cell_type": "markdown",
   "metadata": {},
   "source": [
    "除了权重矩阵之外，还有一个项需要注意：`截距`，英文又称作 `bias`，有两种向矩阵添加截距的方法：\n",
    "1. 创建另一个$1\\times n$矩阵，直接加到$x\\cdot w$上。"
   ]
  },
  {
   "cell_type": "code",
   "execution_count": 7,
   "metadata": {},
   "outputs": [
    {
     "name": "stdout",
     "output_type": "stream",
     "text": [
      "[[ -71.75  105.19  -27.75  125.42   60.     40.84  -85.92   28.6   -59.53\n",
      "    52.99  -44.77  133.61   36.35   -3.97   69.29   19.75  -68.75  -87.27\n",
      "  -123.26   -1.95  -74.69   59.55  -26.45  -39.3     5.42   93.63  -46.17\n",
      "    28.93  -44.07   44.18  160.59   31.43]]\n"
     ]
    }
   ],
   "source": [
    "x = x + np.ones((1, 32))\n",
    "print(np.round(x, decimals=2))"
   ]
  },
  {
   "cell_type": "markdown",
   "metadata": {},
   "source": [
    "2. 对这一层的神经元数量加多一个，并将其神经元的输出值设为1"
   ]
  },
  {
   "cell_type": "code",
   "execution_count": 8,
   "metadata": {},
   "outputs": [
    {
     "name": "stdout",
     "output_type": "stream",
     "text": [
      "[[ -71.75  105.19  -27.75  125.42   60.     40.84  -85.92   28.6   -59.53\n",
      "    52.99  -44.77  133.61   36.35   -3.97   69.29   19.75  -68.75  -87.27\n",
      "  -123.26   -1.95  -74.69   59.55  -26.45  -39.3     5.42   93.63  -46.17\n",
      "    28.93  -44.07   44.18  160.59   31.43]]\n"
     ]
    }
   ],
   "source": [
    "print(np.round(\n",
    "    np.dot(np.hstack([nums_8x8.images[13].reshape(1, -1), [[1]]]), \n",
    "           np.vstack([w, np.ones(w.shape[1])])), decimals=2))"
   ]
  },
  {
   "cell_type": "markdown",
   "metadata": {},
   "source": [
    "从理论上讲，抑或从实际操作证实，这两种方法都能提供相同的结果，不过第一种方法比较直观，也因此大多数人在构建模型的时候也比较常这么用。一些流行的开源框架例如`tensorflow`和`pytorch`也同样仅提供$1^{st}$方法。"
   ]
  },
  {
   "cell_type": "markdown",
   "metadata": {},
   "source": [
    "# 2. 初始化\n",
    "在上一节中，权重矩阵是通过正态分布随机生成的，因此很显然的，这不是初始化矩阵的唯一方法，还有有各种各样的分布或函数可以生成数字。常见的方法包括：\n",
    "1. 均匀分布"
   ]
  },
  {
   "cell_type": "code",
   "execution_count": 9,
   "metadata": {},
   "outputs": [
    {
     "name": "stdout",
     "output_type": "stream",
     "text": [
      "[0.31 0.82 0.44 0.41 0.75 0.77 0.34 0.75 0.36 0.45 0.99 0.05]\n"
     ]
    }
   ],
   "source": [
    "print(np.round(np.random.uniform(0, 1, 12), decimals=2))"
   ]
  },
  {
   "cell_type": "markdown",
   "metadata": {},
   "source": [
    "2. 正态分布"
   ]
  },
  {
   "cell_type": "code",
   "execution_count": 10,
   "metadata": {},
   "outputs": [
    {
     "name": "stdout",
     "output_type": "stream",
     "text": [
      "[-0.32 -1.04 -0.28 -0.36 -0.56  0.31  0.26  0.67 -0.73 -0.12  0.67 -0.86]\n"
     ]
    }
   ],
   "source": [
    "print(np.round(np.random.normal(0, 0.5, 12), decimals=2))"
   ]
  },
  {
   "cell_type": "markdown",
   "metadata": {},
   "source": [
    "3. Xavier初始化 <[论文链接](http://proceedings.mlr.press/v9/glorot10a/glorot10a.pdf)>\n",
    "4. 他初始化<[论文链接](https://arxiv.org/pdf/1502.01852.pdf)>\n",
    "\n",
    "$3^{rd}$和$4^{th}$方法是高级的初始化方法，它们可以帮助获得更好的训练结果。有关更多详细信息，您可以相应地点击链接查看相关论文。"
   ]
  },
  {
   "cell_type": "code",
   "execution_count": 11,
   "metadata": {},
   "outputs": [],
   "source": [
    "def layer(x, insize, outsize):\n",
    "    # Initialize weights & bias.\n",
    "    w = np.random.normal(0, 1, insize*outsize).reshape(insize, outsize)\n",
    "    b = np.ones((1, outsize))\n",
    "    \n",
    "    # Calculate a linear function.\n",
    "    x = np.dot(x.reshape(len(x), -1), w) + b\n",
    "    return x"
   ]
  },
  {
   "cell_type": "markdown",
   "metadata": {},
   "source": [
    "# 3. 激励函数\n",
    "根据第一部分介绍的神经元内容，我们已经知道每一个神经元其实就是一个线性方程，然而，如果需要分析一个非线性的数据集，那么激励函数也就要跟着一起被设计进神经元中，这样复杂一点的特征才能够被准确检测到。激励函数的定义可以是非常弹性的，下面是几个最常用到的激励函数类型：\n",
    "1. Sigmoid\n",
    "2. Tanh\n",
    "3. ReLU\n",
    "4. Leaky ReLU\n",
    "5. ELU\n",
    "6. Maxout\n",
    "\n",
    "为了更直观的理解激励函数的样貌，可以通过下面这个画图的函数实现每个激励函数的可视化。"
   ]
  },
  {
   "cell_type": "code",
   "execution_count": 12,
   "metadata": {},
   "outputs": [],
   "source": [
    "def plot_activations(functions, names, x_range, y_range):\n",
    "    sb.set_style('white')    \n",
    "    fig = plt.figure(figsize=(15, 10))\n",
    "    x = np.linspace(-10, 10, 1000)\n",
    "    \n",
    "    i = 1\n",
    "    for func, name in zip(functions, names):\n",
    "        ax = fig.add_subplot(2, 3, i)\n",
    "        ax.set_title(name)\n",
    "        \n",
    "        ax.plot(x, func(x), color='#008fd5', lw=3, label='activation')\n",
    "        ax.plot([0, 0], y_range, linestyle='dashed', color='orange')\n",
    "        ax.plot(x_range, [0, 0], linestyle='dashed', color='orange')\n",
    "        ax.set_xlim(x_range)\n",
    "        ax.set_ylim(y_range)\n",
    "        ax.set_xlabel('input')\n",
    "        ax.set_ylabel('output')\n",
    "        i += 1\n",
    "        \n",
    "    plt.show()"
   ]
  },
  {
   "cell_type": "markdown",
   "metadata": {},
   "source": [
    "接着定义一下每一个激励函数的具体形式。"
   ]
  },
  {
   "cell_type": "code",
   "execution_count": 13,
   "metadata": {},
   "outputs": [],
   "source": [
    "def sigmoid(x):\n",
    "    return 1 / (1 + np.exp(-x))\n",
    "\n",
    "def tanh(x):\n",
    "    return np.tanh(x)\n",
    "\n",
    "def relu(x):\n",
    "    return np.maximum(0, x)\n",
    "\n",
    "def leaky_relu(x, alpha=0.1):\n",
    "    return np.maximum(alpha * x, x)\n",
    "\n",
    "def elu(x, alpha=0.5):\n",
    "    return np.maximum(alpha * (np.exp(x) - 1), x)"
   ]
  },
  {
   "cell_type": "code",
   "execution_count": 14,
   "metadata": {},
   "outputs": [
    {
     "data": {
      "image/png": "[encoded data removed]",
      "text/plain": [
       "<Figure size 1080x720 with 2 Axes>"
      ]
     },
     "metadata": {},
     "output_type": "display_data"
    }
   ],
   "source": [
    "plot_activations((sigmoid, tanh), ('sigmoid', 'tanh'), \n",
    "                 (-8, 8), (-1.2, 1.2))"
   ]
  },
  {
   "cell_type": "code",
   "execution_count": 15,
   "metadata": {
    "scrolled": true
   },
   "outputs": [
    {
     "data": {
      "image/png": "[encoded data removed]",
      "text/plain": [
       "<Figure size 1080x720 with 3 Axes>"
      ]
     },
     "metadata": {},
     "output_type": "display_data"
    }
   ],
   "source": [
    "plot_activations((relu, leaky_relu, elu),\n",
    "                 ('ReLU', 'Leaky ReLU', 'ELU'),\n",
    "                 (-2, 2), (-1, 4))"
   ]
  },
  {
   "cell_type": "markdown",
   "metadata": {},
   "source": [
    "如果输入函数的数据是一个向量或矩阵，里面的每一个元素也都会同样被放到函数里经历一次非线性的转化过程。"
   ]
  },
  {
   "cell_type": "code",
   "execution_count": 16,
   "metadata": {},
   "outputs": [
    {
     "data": {
      "text/plain": [
       "array([[  0.  , 105.19,   0.  , 125.42,  60.  ,  40.84,   0.  ,  28.6 ,\n",
       "          0.  ,  52.99,   0.  , 133.61,  36.35,   0.  ,  69.29,  19.75,\n",
       "          0.  ,   0.  ,   0.  ,   0.  ,   0.  ,  59.55,   0.  ,   0.  ,\n",
       "          5.42,  93.63,   0.  ,  28.93,   0.  ,  44.18, 160.59,  31.43]])"
      ]
     },
     "execution_count": 16,
     "metadata": {},
     "output_type": "execute_result"
    }
   ],
   "source": [
    "np.round(relu(x), decimals=2)"
   ]
  },
  {
   "cell_type": "markdown",
   "metadata": {},
   "source": [
    "通过把上一层的输出作为下一层的输入，原来的图片数据就能逐渐的经历过一次又一次的非线性激励函数，我们也因此能够逐渐的构建出一个深层结构的神经网络。"
   ]
  },
  {
   "cell_type": "code",
   "execution_count": 17,
   "metadata": {},
   "outputs": [
    {
     "data": {
      "text/plain": [
       "array([[134.06, 232.21, 160.52,   0.  ,  96.15,   0.  ,   0.  , 281.77,\n",
       "        804.91, 272.6 ]])"
      ]
     },
     "execution_count": 17,
     "metadata": {},
     "output_type": "execute_result"
    }
   ],
   "source": [
    "x = layer(nums_8x8.images[13:14], 64, 32)\n",
    "x = relu(x)\n",
    "x = layer(x, 32, 16)\n",
    "x = relu(x)\n",
    "x = layer(x, 16, 10)\n",
    "x = relu(x)\n",
    "np.round(x, decimals=2)"
   ]
  },
  {
   "cell_type": "markdown",
   "metadata": {},
   "source": [
    "在我们的这个案例中，手写数字数据集一共有 10 个类别，所以我们希望神经网络的最终结果能够输出 10 个数字，分别代表了每一个类别的概率，也就是说数据集的类别个数，要和神经网络最后输出层的神经元个数一致。"
   ]
  },
  {
   "cell_type": "markdown",
   "metadata": {},
   "source": [
    "## 3-1. 梯度弥散与爆炸\n",
    "上面看到这么多的输出数字，其实可以被理解成一个又一个被神经网络所掌握到的数据特征，虽然激励函数是一个非线性的函数，但他也意味着有可能会消灭某些特征，以至于最后的预测效果很不好，拿 `ReLU` 函数举个例子，众多的负数经过激励函数之后，都被抹平成了 0，输出只会留下正的数字，但这也意味着有一半的特征就这么没了，有时候我们可能希望的只是惩罚那些负数的特征严厉一点，但并非直接舍弃这些特征，因此 `Leaky-relu` 和 `ELU` 就成了一个很好的替代方案。\n",
    "\n",
    "有的激励函数如果在使用的时候没有多加留意，则很容易经过多层之后，大多数的值都变得非常接近，同样类似于抹平特征的效果，这类函数有 `sigmoid` 和 `tanh`，这么一来等到时候在做反向传播更新参数的时候，将会导致梯度非常小，经过一层层的传递就逐渐弥散了，相反的，如果初始化某些参数的值特别大，则前面层梯度变化的幅度比后面层大，经过链式法则求导，加上层数增多的时候，算出来的梯度更新就是指数形式的增加，梯度爆炸也就发生了。"
   ]
  },
  {
   "cell_type": "code",
   "execution_count": 18,
   "metadata": {},
   "outputs": [
    {
     "name": "stdout",
     "output_type": "stream",
     "text": [
      "[[0.04 0.23 0.37 0.98 0.55 0.86 0.85 0.59 0.86 1.  ]]\n"
     ]
    }
   ],
   "source": [
    "x_2 = layer(nums_8x8.images[13:14], 64, 32)\n",
    "x_2 = sigmoid(x_2)\n",
    "x_2 = layer(x_2, 32, 16)\n",
    "x_2 = sigmoid(x_2)\n",
    "x_2 = layer(x_2, 16, 10)\n",
    "x_2 = sigmoid(x_2)\n",
    "print(np.round(x_2, decimals=2))"
   ]
  },
  {
   "cell_type": "code",
   "execution_count": 19,
   "metadata": {},
   "outputs": [
    {
     "name": "stdout",
     "output_type": "stream",
     "text": [
      "[[-0.68  1.   -0.99  1.   -1.   -0.61 -1.    0.98 -0.99  1.  ]]\n"
     ]
    }
   ],
   "source": [
    "x_3 = layer(nums_8x8.images[13:14], 64, 32)\n",
    "x_3 = tanh(x_3)\n",
    "x_3 = layer(x_3, 32, 16)\n",
    "x_3 = tanh(x_3)\n",
    "x_3 = layer(x_3, 16, 10)\n",
    "x_3 = tanh(x_3)\n",
    "print(np.round(x_3, decimals=2))"
   ]
  },
  {
   "cell_type": "markdown",
   "metadata": {},
   "source": [
    "随着网络变得越来越深，这些问题也会变的越来越严重，甚至严重到无法顺利的把神经网络训练起来，而这个问题如果通过适当的归一化技巧是可以顺利被解决的，下一篇文章将仔细讨论。"
   ]
  },
  {
   "cell_type": "markdown",
   "metadata": {},
   "source": [
    "# 4. 批处理\n",
    "在前面的示范中，小编为了让过程看起来更加简单，一共只使用了一张图片作为输入，但实际上一个数据集涵盖了数以千计的图片，一次只拿一张图片来训练的话效率就实在是太低了，这个问题同样可以通过矩阵来完成，这也是为什么前面示范中要一直保持矩阵是 $1\\times n$ 的尺寸而不直接用一个一维向量承载数据，如果一次增加了更多比数据，那就可以直接往下排，具体操作看代码。"
   ]
  },
  {
   "cell_type": "code",
   "execution_count": 20,
   "metadata": {},
   "outputs": [
    {
     "name": "stdout",
     "output_type": "stream",
     "text": [
      "[[ 230.83   38.12  254.36    0.   1009.99  285.05    0.      0.   1674.67\n",
      "     0.  ]\n",
      " [  69.28    0.      0.    141.99  848.56 1134.76    0.      0.   1171.84\n",
      "     0.  ]\n",
      " [  78.25    0.     35.86  180.23  517.85  718.72    0.      0.    794.01\n",
      "     0.  ]]\n"
     ]
    }
   ],
   "source": [
    "x = layer(nums_8x8.images[13:16], 64, 32)\n",
    "x = relu(x)\n",
    "x = layer(x, 32, 16)\n",
    "x = relu(x)\n",
    "x = layer(x, 16, 10)\n",
    "x = relu(x)\n",
    "print(np.round(x, decimals=2))"
   ]
  },
  {
   "cell_type": "markdown",
   "metadata": {},
   "source": [
    "然而，每个计算机的性能各有各的极限，如果一个数据集太大了以至于没办法一次放入模型中，那就需要分批次放入，而批次的英文又称为 batch，通过循环把不同 batch 放入模型里的过程，有用的特征就能被模型逐渐掌握，等所有的数据都放进过模型一次之后，又称为一个 epoch，所以通常在很多地方看到人们设置超参数，多大的 batch size，和几个 epoch 就是在调整数据将要以什么样的次数，和什么样的状态参与模型的训练。"
   ]
  },
  {
   "cell_type": "markdown",
   "metadata": {},
   "source": [
    "# 5. 损失函数\n",
    "经过一层又一层的计算之后，我们得到了对应每一个类的概率，但是这些概率需要有效的被评价好坏，而这时候标签就派上了用场，这也是监督学习的一大特色。一个被妥善定义的损失函数这时候就可以充当起一个公正的裁判，而最常用到的损失函数无非包含了下面几种：\n",
    "1. MAE - Mean Absolute Error (回归)\n",
    "2. MSE - Mean Square Error (回归)\n",
    "3. Cross Entropy Loss (分类)\n",
    "4. Hinge Loss\n",
    "\n",
    "不过和激励函数不同的地方在于，损失函数的选择必须根据任务的属性而定，属性分别是：回归 & 分类。"
   ]
  },
  {
   "cell_type": "markdown",
   "metadata": {},
   "source": [
    "## 5-1. 回归任务\n",
    "在这类任务中，我们的目标是找到一条线去拟合数据的趋势，根据回归的方式不同，这条线可以是直线，也可以是任意的曲线，评判拟合的线的好坏方法则是通过计算每个点到达线的最短距离，然后把所有距离加总在一起而得出，而在计算过程中为了确保距离是正值，可以对其取平方或者取绝对值，也就是 `第一 & 第二` 个损失函数，代码定义方式如下："
   ]
  },
  {
   "cell_type": "code",
   "execution_count": 21,
   "metadata": {},
   "outputs": [],
   "source": [
    "def absolute(y, y_pred):\n",
    "    return np.abs(y - y_pred)\n",
    "\n",
    "def square(y, y_pred):\n",
    "    return np.power(y - y_pred, 2) / 2"
   ]
  },
  {
   "cell_type": "markdown",
   "metadata": {},
   "source": [
    "## 5-2. 分类任务\n",
    "在分类任务中，神经网络输出的每一个值要代表概率，这些输出统一被装在一个矩阵里，但其实输出的值还不是概率的格式，是一堆值很大的东西结果。"
   ]
  },
  {
   "cell_type": "code",
   "execution_count": 22,
   "metadata": {},
   "outputs": [
    {
     "name": "stdout",
     "output_type": "stream",
     "text": [
      "[ 230.83   38.12  254.36    0.   1009.99  285.05    0.      0.   1674.67\n",
      "    0.  ]\n"
     ]
    }
   ],
   "source": [
    "print(np.round(x[0], decimals=2))"
   ]
  },
  {
   "cell_type": "markdown",
   "metadata": {},
   "source": [
    "概率的样子应该是一个介于 0~1 之间的值，为了要让输出数字大小范围缩小，有下面两个方法可以使用：\n",
    "1. 把输入数据直接先归一化到 0~1 的值\n",
    "2. 把输出不符合概率值规范的结果接着放入 softmax 函数中计算"
   ]
  },
  {
   "cell_type": "code",
   "execution_count": 23,
   "metadata": {},
   "outputs": [
    {
     "name": "stdout",
     "output_type": "stream",
     "text": [
      "[[27.33  0.   51.52 31.75  0.    0.   15.56  0.    0.    0.  ]\n",
      " [24.82  0.   18.45  8.13  0.   15.69  0.    0.    0.   51.26]\n",
      " [43.29  0.   30.31 11.7   0.    0.   23.54  0.    0.   10.05]]\n"
     ]
    }
   ],
   "source": [
    "# 1.. Normalize the input data into 0~1.\n",
    "data = nums_8x8.images[13:16] / np.max(nums_8x8.images[13:16])\n",
    "x = layer(data, 64, 32)\n",
    "x = relu(x)\n",
    "x = layer(x, 32, 16)\n",
    "x = relu(x)\n",
    "x = layer(x, 16, 10)\n",
    "x = relu(x)\n",
    "print(np.round(x, decimals=2))"
   ]
  },
  {
   "cell_type": "code",
   "execution_count": 24,
   "metadata": {},
   "outputs": [],
   "source": [
    "# 2. The softmax function.\n",
    "def softmax(x):\n",
    "    e_x = np.exp(x - np.max(x, axis=-1, keepdims=True))\n",
    "    return e_x / np.sum(e_x, axis=-1, keepdims=True)"
   ]
  },
  {
   "cell_type": "code",
   "execution_count": 25,
   "metadata": {},
   "outputs": [
    {
     "name": "stdout",
     "output_type": "stream",
     "text": [
      "[[0. 0. 1. 0. 0. 0. 0. 0. 0. 0.]\n",
      " [0. 0. 0. 0. 0. 0. 0. 0. 0. 1.]\n",
      " [1. 0. 0. 0. 0. 0. 0. 0. 0. 0.]]\n"
     ]
    }
   ],
   "source": [
    "y_pred = np.round(softmax(x), decimals=2)\n",
    "print(y_pred)"
   ]
  },
  {
   "cell_type": "markdown",
   "metadata": {},
   "source": [
    "每一行向量代表了网络判断其对应类别的概率，数字代表着概率而数字所在的位置代表了类别，例如第一行第三个位置是 1，表示了第一笔数据属于第三个类别的概率是 1，也就是神经网络 100% 确定了他就是第三类，但如果自己观察，会发现上面定义的 softmax 函数和普遍的 softmax 函数数学表达式有点不同，多了一个 max 项，使得：\n",
    "\n",
    "$$\n",
    "Softmax(x) = \\frac{\\exp(x_i)}{\\sum\\exp(x_i)} \\ \\rightarrow\\ \\frac{\\exp(x_i) - max(x_i)}{\\sum\\exp(x_i)}\n",
    "$$\n",
    "\n",
    "原因在于 exp 是一个指数函数，越大的输入会造成指数级放大的输出，如果不剪去 max 虽然也可以算，但很可能使得某几项的概率极大，输出的一系列概率中某几个值特别突出，导致训练过程难度加大，为了减轻这个问题，统一在分子减去每一个输出的最大值就成为了一个好办法，有效稳定概率的输出，不影响训练的情况下，又能解决值特别突出的问题，而这又是另一个实战与理论不匹配的地方，得加以注意！\n",
    "\n",
    "通过 Softmax 输出的矩阵接着就可以放入属于分类问题的损失函数中：Cross Entropy 交叉熵，这种输入格式又称为 one-hot 形式的标签，为了对齐格式，我们也得把真实标签转化成这个格式来比较，因此下面定义一个函数用来转化标签格式："
   ]
  },
  {
   "cell_type": "code",
   "execution_count": 26,
   "metadata": {},
   "outputs": [],
   "source": [
    "def one_hot(labels, class_num=10):\n",
    "    return np.eye(class_num, dtype=float)[labels]"
   ]
  },
  {
   "cell_type": "code",
   "execution_count": 27,
   "metadata": {},
   "outputs": [
    {
     "data": {
      "text/plain": [
       "array([3, 4, 5])"
      ]
     },
     "execution_count": 27,
     "metadata": {},
     "output_type": "execute_result"
    }
   ],
   "source": [
    "nums_8x8.target[13:16]"
   ]
  },
  {
   "cell_type": "code",
   "execution_count": 28,
   "metadata": {},
   "outputs": [
    {
     "name": "stdout",
     "output_type": "stream",
     "text": [
      "[[0. 0. 0. 1. 0. 0. 0. 0. 0. 0.]\n",
      " [0. 0. 0. 0. 1. 0. 0. 0. 0. 0.]\n",
      " [0. 0. 0. 0. 0. 1. 0. 0. 0. 0.]]\n"
     ]
    }
   ],
   "source": [
    "y = one_hot(nums_8x8.target[13:16], class_num=10)\n",
    "print(y)"
   ]
  },
  {
   "cell_type": "markdown",
   "metadata": {},
   "source": [
    "转化成 one-hot 格式的好处是，我们能把每个类的概率看作是一个二分类问题，如果神经网络的输出是在不正确的类别上给出很高的概率，那么交叉熵损失函数则会给予不正确的类别有明显的负面回馈。"
   ]
  },
  {
   "cell_type": "code",
   "execution_count": 29,
   "metadata": {},
   "outputs": [],
   "source": [
    "def cross_entropy(y, y_pred):\n",
    "    # Avoid being devided by 0.\n",
    "    y_pred = np.clip(y_pred, 1e-15, 1 - 1e-15)\n",
    "    return -y * np.log(y_pred) - (1 - y) * np.log(1 - y_pred)"
   ]
  },
  {
   "cell_type": "code",
   "execution_count": 30,
   "metadata": {},
   "outputs": [
    {
     "name": "stdout",
     "output_type": "stream",
     "text": [
      "[[ 0.    0.   34.54 34.54  0.    0.    0.    0.    0.    0.  ]\n",
      " [ 0.    0.    0.    0.   34.54  0.    0.    0.    0.   34.54]\n",
      " [34.54  0.    0.    0.    0.   34.54  0.    0.    0.    0.  ]]\n"
     ]
    }
   ],
   "source": [
    "loss = np.round(cross_entropy(y, y_pred), decimals=2)\n",
    "print(loss)"
   ]
  },
  {
   "cell_type": "markdown",
   "metadata": {},
   "source": [
    "反之，如果输出是一个完全正确的结果，则损失函数对应给出的值就会是 0，最后把所有的值加起来，我们就能得到总的损失值。"
   ]
  },
  {
   "cell_type": "code",
   "execution_count": 31,
   "metadata": {},
   "outputs": [
    {
     "data": {
      "text/plain": [
       "207.23999999999998"
      ]
     },
     "execution_count": 31,
     "metadata": {},
     "output_type": "execute_result"
    }
   ],
   "source": [
    "np.sum(loss)"
   ]
  },
  {
   "cell_type": "markdown",
   "metadata": {},
   "source": [
    "# 6. 优化问题 - 反向传播\n",
    "损失函数可以有效的帮助我们评估预测结果的好坏，如果损失值特别大，那就代表预测结果的质量特别差。我们的目的就是找到一个合适的权重，能够使得最后输出来的结果放入损失函数的时候越小越好。如果我们把一个神经网络看做一个函数，那么优化参数的方式就是对这个函数做一阶导微分，找出要更新的参数对应的梯度，然而如果要对深度神经网络求微分那基本上是很难的了，因此 `反向传播` 技巧变成了至关重要的环节，帮助我们优化参数。\n",
    "\n",
    "![nn_chain.jpg](pics/nn_chain.jpg)"
   ]
  },
  {
   "cell_type": "markdown",
   "metadata": {},
   "source": [
    "例如示意图中的权重 $w_2^*$ 与截距 $b_2^*$ 导数导数可以这么求出：\n",
    "\n",
    "$$\\begin{align}\n",
    "\\triangledown w_2^* &= \\triangledown loss\\cdot\\frac{\\partial\\ loss}{\\partial\\ w_2} = \\frac{\\partial\\ loss}{\\partial\\ activation} * \\frac{\\partial\\ activation}{\\partial\\ y} * \\frac{\\partial\\ y}{\\partial\\ w_2}\\quad\\rightarrow\\quad w_2 \\leftarrow w_2 - \\eta\\triangledown w_2^*\n",
    "\\\\\n",
    "\\triangledown b_2^* &= \\triangledown loss\\cdot\\frac{\\partial\\ loss}{\\partial\\ b_2} = \\frac{\\partial\\ loss}{\\partial\\ activation} * \\frac{\\partial\\ activation}{\\partial\\ y} * \\frac{\\partial\\ y}{\\partial\\ b_2}\\quad\\rightarrow\\quad b_2 \\leftarrow b_2 - \\eta\\triangledown b_2^*\n",
    "\\end{align}$$\n",
    "\n",
    "至于反向传播的细节会在下个章节仔细讨论，虽然他能解决主要参数更新的问题，但同样也造成了其他的问题。在上一层的梯度完全是由损失函数而来的，这意味着每一层的参数并非是同时更新的，过程中如果学习比例 `learning rate` 调得太大很容易就更新过头了，尤其当网络深度加大的时候这种情况更容易发生。"
   ]
  },
  {
   "cell_type": "markdown",
   "metadata": {},
   "source": [
    "## 6-1. Internal Covariate Shift\n",
    "由于更新参数的过程是通过反向传播一层一层从后往前逐渐发生的，梯度在是根据还没更新前的参数计算的，如果下一层参数已经更新了，那么根据未更新的参数计算出来的梯度就很可能不再是最好的梯度了，长此以往的以一种非最有的状态更新的话，那么最终的参数基本上是没办法收敛到我们预期的最优状态的，而这一大问题就叫做 `internal covariate shift`，是一个面试如果遇到神经网络考题非常容易考的环节，必须注意！\n",
    "\n",
    "一个解决的办法是把学习率降低一点，让每一次更新的时候造成的不匹配保持在一个可容许的范围内，但小的学习率又造成模型训练时间过于冗长，为此一个新的方法应运而生：`batch normalization`。"
   ]
  },
  {
   "cell_type": "markdown",
   "metadata": {},
   "source": [
    "## 6-2. Batch Normalization\n",
    "在上面 `5-2` 节中，一个非常简单的归一化方法就是把输入数据都缩放到 0 和 1 之间，但即便如此，每列特征的分布还是可能非常的不一样，这使得用反向传播在训练过程中还是很难寻找到最好的梯度实现参数更新，一个比较好的方法是直接把参数缩放大 0 和 1 之间之外，还可以根据中央极限定理统一每个特征的分布情况，使得每个特征的分布服从 $N(0, 1)$ 正态分布的样子，而这个改变分布的环节又称作 feature scaling。"
   ]
  },
  {
   "cell_type": "markdown",
   "metadata": {},
   "source": [
    "#### 6-2-1. 步骤\n",
    "类似于 feature scaling 的过程，batch normalization 有以下几个步骤：\n",
    "\n",
    "$$\\begin{align}\n",
    "\\mu_\\beta &= \\frac{1}{n}\\sum_{i=1}^nx_i & Batch\\ Mean\n",
    "\\\\\n",
    "\\sigma_\\beta^2 &= \\frac{1}{n}\\sum_{i=1}^n(x_i - \\mu_\\beta)^2 & Batch\\ Variance\n",
    "\\\\\n",
    "\\hat{x}_i &= \\frac{x_i - \\mu_\\beta}{\\sqrt{\\sigma_\\beta^2 + \\epsilon}} & Normalization\n",
    "\\\\\n",
    "\\hat{x}_i^* &= \\gamma\\hat{x}_i + B = \\mathop{BN}_{\\gamma, B}(x_i) & Scale\\ and\\ Shift\n",
    "\\end{align}$$"
   ]
  },
  {
   "cell_type": "markdown",
   "metadata": {},
   "source": [
    "因为神经网络是一批次一批次训练的，求得的均值和方差也都是根据一小批数据得到的，因此这个方法的缺点就是当一个批次里的数据太少的时候，他就可能没办法正常工作，为了最后确保输出能够符合每一层的需求，最后还加了一个线性变换的调整，定制化输出可能存在的些微差距，值得注意的是第四公式中的线性变换参数是首先经过初始化，接着参与训练过程逐渐学出来的，在这四个步骤中有三个超参数需要设定："
   ]
  },
  {
   "cell_type": "code",
   "execution_count": 32,
   "metadata": {},
   "outputs": [],
   "source": [
    "eps = 0.01\n",
    "gamma = 0.997\n",
    "B = 0.001"
   ]
  },
  {
   "cell_type": "markdown",
   "metadata": {},
   "source": [
    "根据上面四个公式，我们就能对应写下代码。"
   ]
  },
  {
   "cell_type": "code",
   "execution_count": 33,
   "metadata": {},
   "outputs": [],
   "source": [
    "def batch_norm(x):\n",
    "    mean = np.mean(x, axis=0)                 # ... (1)\n",
    "    var = np.var(x, axis=0)                   # ... (2)\n",
    "    x_norm = (x - mean) / np.sqrt(var + eps)  # ... (3)\n",
    "    x_out = gamma * x_norm + B                # ... (4)\n",
    "    return x_out"
   ]
  },
  {
   "cell_type": "code",
   "execution_count": 34,
   "metadata": {},
   "outputs": [],
   "source": [
    "data = nums_8x8.images[13:16] / np.max(nums_8x8.images[13:16])\n",
    "x = layer(data, 64, 32)\n",
    "x = batch_norm(x)\n",
    "x = relu(x)\n",
    "x = layer(x, 32, 16)\n",
    "x = batch_norm(x)\n",
    "x = relu(x)\n",
    "x = layer(x, 16, 10)\n",
    "x = batch_norm(x)\n",
    "x = relu(x)\n",
    "y_pred = softmax(x)"
   ]
  },
  {
   "cell_type": "code",
   "execution_count": 35,
   "metadata": {},
   "outputs": [
    {
     "name": "stdout",
     "output_type": "stream",
     "text": [
      "[[0.11 0.05 0.08 0.11 0.17 0.1  0.06 0.07 0.18 0.05]\n",
      " [0.08 0.08 0.08 0.08 0.08 0.08 0.22 0.18 0.08 0.08]\n",
      " [0.09 0.19 0.12 0.09 0.05 0.1  0.05 0.05 0.05 0.2 ]]\n"
     ]
    }
   ],
   "source": [
    "print(np.round(y_pred, decimals=2))"
   ]
  },
  {
   "cell_type": "markdown",
   "metadata": {},
   "source": [
    "有趣的是经过这一系列精巧的操作之后，输出不再变得尖锐，每个类别上都顺利分布着一定大小的值。"
   ]
  },
  {
   "cell_type": "code",
   "execution_count": 36,
   "metadata": {},
   "outputs": [
    {
     "name": "stdout",
     "output_type": "stream",
     "text": [
      "[[0.12 0.05 0.09 2.18 0.19 0.11 0.06 0.08 0.2  0.05]\n",
      " [0.08 0.08 0.08 0.08 2.59 0.08 0.25 0.2  0.08 0.08]\n",
      " [0.1  0.21 0.13 0.09 0.05 2.29 0.05 0.05 0.05 0.22]] \n",
      "\n",
      "Total: 9.97\n"
     ]
    }
   ],
   "source": [
    "loss = np.round(cross_entropy(y, y_pred), decimals=2)\n",
    "print(loss, '\\n\\nTotal: {}'.format(np.round(np.sum(loss), decimals=3)))"
   ]
  },
  {
   "cell_type": "markdown",
   "metadata": {},
   "source": [
    "### 6-2-2. 优势\n",
    "经过 batch normalization 这四步的操作，我们能得到以下四点好处：\n",
    "1. 极大降低 covariate shift\n",
    "2. 较快的训练速度\n",
    "3. 极大抑制梯度弥散发生的可能性\n",
    "4. 训练的成败对参数的初始化不再敏感\n",
    "\n",
    "因为数据的所有特征都被归一化到同样的分布形状，每一层的均值和方差几乎变的可以预期，因此 covariate shift 的问题也就得以解决，而学习效率也就能相对得设大一点，让整个训练的进程加快，另一个好处是正态分布使得大部分的数据集中在中间位置，经过损失函数的时候也就不容易让非线性的过程抹平一切参数的多样性，于是权重的初始化也就相对的没那么重要。"
   ]
  },
  {
   "cell_type": "markdown",
   "metadata": {},
   "source": [
    "## 6-3. Regularization\n"
   ]
  },
  {
   "cell_type": "markdown",
   "metadata": {},
   "source": [
    "# Reference\n",
    "1. [pytorch实现L2和L1正则化regularization的方法](https://blog.csdn.net/guyuealian/article/details/88426648)"
   ]
  }
 ],
 "metadata": {
  "kernelspec": {
   "display_name": "Python 3",
   "language": "python",
   "name": "python3"
  },
  "language_info": {
   "codemirror_mode": {
    "name": "ipython",
    "version": 3
   },
   "file_extension": ".py",
   "mimetype": "text/x-python",
   "name": "python",
   "nbconvert_exporter": "python",
   "pygments_lexer": "ipython3",
   "version": "3.6.2"
  }
 },
 "nbformat": 4,
 "nbformat_minor": 4
}
