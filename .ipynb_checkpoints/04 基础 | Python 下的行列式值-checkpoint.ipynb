{
 "cells": [
  {
   "cell_type": "markdown",
   "metadata": {},
   "source": [
    "> 关键词：线性代数 / 矩阵 / 行列式\n",
    "\n",
    "矩阵作为绝大多数算法的算子，当矩阵里的数字被赋予了意义，例如每个 row 表示了一个线性方程式，那么如果把这些线性方程用向量的形式在 xyz 空间坐标中表示，从几何角度解释的话，行列式值就可以是这些向量所夹出的一个平行四边形面积，或者平行六面体的体积，甚至是一些更高维度没办法具体表但又类似前两者的一个抽象概念。这回小编要用 Python 的视角重新帮大家复习一下行列式的基本定义，并且用代码来证明行列式计算过程中的重要性质！"
   ]
  },
  {
   "cell_type": "code",
   "execution_count": 1,
   "metadata": {},
   "outputs": [],
   "source": [
    "import numpy as np"
   ]
  },
  {
   "cell_type": "markdown",
   "metadata": {},
   "source": [
    "# 行列式 Determinant\n",
    "若 A 为 n 阶方阵，如下定义：\n",
    "\n",
    "$$\n",
    "A = \n",
    "\\begin{bmatrix} a_{11} & a_{12} & a_{13} & \\cdots & a_{1n} \\\\\n",
    "                a_{21} & a_{22} & a_{23} & \\cdots & a_{2n} \\\\\n",
    "                ...  & ...  & ...  & \\quad  & ... \\\\\n",
    "                a_{n1} & a_{n2} & a_{n3} & \\cdots & a_{nn}\\end{bmatrix}\n",
    "= \\big[a_{ij}\\big]\n",
    "$$\n",
    "\n",
    "A 的行列式值则为：\n",
    "\n",
    "$$\n",
    "|A| = \n",
    "\\begin{vmatrix} a_{11} & a_{12} & a_{13} & \\cdots & a_{1n} \\\\\n",
    "                a_{21} & a_{22} & a_{23} & \\cdots & a_{2n} \\\\\n",
    "                ...  & ...  & ...  & \\quad  & ... \\\\\n",
    "                a_{n1} & a_{n2} & a_{n3} & \\cdots & a_{nn}\\end{vmatrix}\n",
    "= det(A)\n",
    "$$"
   ]
  },
  {
   "cell_type": "code",
   "execution_count": 2,
   "metadata": {},
   "outputs": [
    {
     "data": {
      "text/plain": [
       "array([[1, 5, 6],\n",
       "       [4, 0, 0],\n",
       "       [0, 0, 6]])"
      ]
     },
     "execution_count": 2,
     "metadata": {},
     "output_type": "execute_result"
    }
   ],
   "source": [
    "A = np.random.randint(0, 9, 9).reshape(3, 3)\n",
    "A"
   ]
  },
  {
   "cell_type": "code",
   "execution_count": 3,
   "metadata": {},
   "outputs": [
    {
     "data": {
      "text/plain": [
       "-119.99999999999997"
      ]
     },
     "execution_count": 3,
     "metadata": {},
     "output_type": "execute_result"
    }
   ],
   "source": [
    "np.linalg.det(A)"
   ]
  },
  {
   "cell_type": "markdown",
   "metadata": {},
   "source": [
    "p.s. 注意只有方阵才能计算行列式值，否则程序报错。"
   ]
  },
  {
   "cell_type": "code",
   "execution_count": 4,
   "metadata": {},
   "outputs": [
    {
     "data": {
      "text/plain": [
       "array([[5, 2, 0],\n",
       "       [0, 3, 4],\n",
       "       [3, 2, 1],\n",
       "       [1, 3, 4]])"
      ]
     },
     "execution_count": 4,
     "metadata": {},
     "output_type": "execute_result"
    }
   ],
   "source": [
    "B = np.random.randint(0, 6, 12).reshape(4, 3)\n",
    "B"
   ]
  },
  {
   "cell_type": "code",
   "execution_count": 5,
   "metadata": {},
   "outputs": [
    {
     "ename": "LinAlgError",
     "evalue": "Last 2 dimensions of the array must be square",
     "output_type": "error",
     "traceback": [
      "\u001b[0;31m---------------------------------------------------------------------------\u001b[0m",
      "\u001b[0;31mLinAlgError\u001b[0m                               Traceback (most recent call last)",
      "\u001b[0;32m<ipython-input-5-d42e99f36fb6>\u001b[0m in \u001b[0;36m<module>\u001b[0;34m\u001b[0m\n\u001b[0;32m----> 1\u001b[0;31m \u001b[0mnp\u001b[0m\u001b[0;34m.\u001b[0m\u001b[0mlinalg\u001b[0m\u001b[0;34m.\u001b[0m\u001b[0mdet\u001b[0m\u001b[0;34m(\u001b[0m\u001b[0mB\u001b[0m\u001b[0;34m)\u001b[0m\u001b[0;34m\u001b[0m\u001b[0m\n\u001b[0m",
      "\u001b[0;32m<__array_function__ internals>\u001b[0m in \u001b[0;36mdet\u001b[0;34m(*args, **kwargs)\u001b[0m\n",
      "\u001b[0;32m/Library/Frameworks/Python.framework/Versions/3.6/lib/python3.6/site-packages/numpy/linalg/linalg.py\u001b[0m in \u001b[0;36mdet\u001b[0;34m(a)\u001b[0m\n\u001b[1;32m   2154\u001b[0m     \u001b[0ma\u001b[0m \u001b[0;34m=\u001b[0m \u001b[0masarray\u001b[0m\u001b[0;34m(\u001b[0m\u001b[0ma\u001b[0m\u001b[0;34m)\u001b[0m\u001b[0;34m\u001b[0m\u001b[0m\n\u001b[1;32m   2155\u001b[0m     \u001b[0m_assert_stacked_2d\u001b[0m\u001b[0;34m(\u001b[0m\u001b[0ma\u001b[0m\u001b[0;34m)\u001b[0m\u001b[0;34m\u001b[0m\u001b[0m\n\u001b[0;32m-> 2156\u001b[0;31m     \u001b[0m_assert_stacked_square\u001b[0m\u001b[0;34m(\u001b[0m\u001b[0ma\u001b[0m\u001b[0;34m)\u001b[0m\u001b[0;34m\u001b[0m\u001b[0m\n\u001b[0m\u001b[1;32m   2157\u001b[0m     \u001b[0mt\u001b[0m\u001b[0;34m,\u001b[0m \u001b[0mresult_t\u001b[0m \u001b[0;34m=\u001b[0m \u001b[0m_commonType\u001b[0m\u001b[0;34m(\u001b[0m\u001b[0ma\u001b[0m\u001b[0;34m)\u001b[0m\u001b[0;34m\u001b[0m\u001b[0m\n\u001b[1;32m   2158\u001b[0m     \u001b[0msignature\u001b[0m \u001b[0;34m=\u001b[0m \u001b[0;34m'D->D'\u001b[0m \u001b[0;32mif\u001b[0m \u001b[0misComplexType\u001b[0m\u001b[0;34m(\u001b[0m\u001b[0mt\u001b[0m\u001b[0;34m)\u001b[0m \u001b[0;32melse\u001b[0m \u001b[0;34m'd->d'\u001b[0m\u001b[0;34m\u001b[0m\u001b[0m\n",
      "\u001b[0;32m/Library/Frameworks/Python.framework/Versions/3.6/lib/python3.6/site-packages/numpy/linalg/linalg.py\u001b[0m in \u001b[0;36m_assert_stacked_square\u001b[0;34m(*arrays)\u001b[0m\n\u001b[1;32m    202\u001b[0m         \u001b[0mm\u001b[0m\u001b[0;34m,\u001b[0m \u001b[0mn\u001b[0m \u001b[0;34m=\u001b[0m \u001b[0ma\u001b[0m\u001b[0;34m.\u001b[0m\u001b[0mshape\u001b[0m\u001b[0;34m[\u001b[0m\u001b[0;34m-\u001b[0m\u001b[0;36m2\u001b[0m\u001b[0;34m:\u001b[0m\u001b[0;34m]\u001b[0m\u001b[0;34m\u001b[0m\u001b[0m\n\u001b[1;32m    203\u001b[0m         \u001b[0;32mif\u001b[0m \u001b[0mm\u001b[0m \u001b[0;34m!=\u001b[0m \u001b[0mn\u001b[0m\u001b[0;34m:\u001b[0m\u001b[0;34m\u001b[0m\u001b[0m\n\u001b[0;32m--> 204\u001b[0;31m             \u001b[0;32mraise\u001b[0m \u001b[0mLinAlgError\u001b[0m\u001b[0;34m(\u001b[0m\u001b[0;34m'Last 2 dimensions of the array must be square'\u001b[0m\u001b[0;34m)\u001b[0m\u001b[0;34m\u001b[0m\u001b[0m\n\u001b[0m\u001b[1;32m    205\u001b[0m \u001b[0;34m\u001b[0m\u001b[0m\n\u001b[1;32m    206\u001b[0m \u001b[0;32mdef\u001b[0m \u001b[0m_assert_finite\u001b[0m\u001b[0;34m(\u001b[0m\u001b[0;34m*\u001b[0m\u001b[0marrays\u001b[0m\u001b[0;34m)\u001b[0m\u001b[0;34m:\u001b[0m\u001b[0;34m\u001b[0m\u001b[0m\n",
      "\u001b[0;31mLinAlgError\u001b[0m: Last 2 dimensions of the array must be square"
     ]
    }
   ],
   "source": [
    "np.linalg.det(B)"
   ]
  },
  {
   "cell_type": "markdown",
   "metadata": {},
   "source": [
    "## 1. 子行列式 - Minor\n",
    "若将 A 方阵中的第 i 列与第 j 行删除，所剩下的 n-1 阶方阵的行列式，称为元素 $a_{ij}$ 的子行列式，以 $M_{ij}$ 表示。"
   ]
  },
  {
   "cell_type": "code",
   "execution_count": 6,
   "metadata": {},
   "outputs": [],
   "source": [
    "def minor(mat, row=1, col=1):\n",
    "    mat = np.delete(mat, row, axis=0)\n",
    "    mat = np.delete(mat, col, axis=1)\n",
    "    return mat"
   ]
  },
  {
   "cell_type": "code",
   "execution_count": 7,
   "metadata": {},
   "outputs": [
    {
     "data": {
      "text/plain": [
       "array([[0, 0],\n",
       "       [0, 6]])"
      ]
     },
     "execution_count": 7,
     "metadata": {},
     "output_type": "execute_result"
    }
   ],
   "source": [
    "minor(A, 0, 0)"
   ]
  },
  {
   "cell_type": "code",
   "execution_count": 8,
   "metadata": {},
   "outputs": [
    {
     "data": {
      "text/plain": [
       "array([[5, 6],\n",
       "       [0, 6]])"
      ]
     },
     "execution_count": 8,
     "metadata": {},
     "output_type": "execute_result"
    }
   ],
   "source": [
    "minor(A, 1, 0)"
   ]
  },
  {
   "cell_type": "code",
   "execution_count": 9,
   "metadata": {},
   "outputs": [
    {
     "data": {
      "text/plain": [
       "29.99999999999999"
      ]
     },
     "execution_count": 9,
     "metadata": {},
     "output_type": "execute_result"
    }
   ],
   "source": [
    "np.linalg.det(minor(A, 1, 0))"
   ]
  },
  {
   "cell_type": "markdown",
   "metadata": {},
   "source": [
    "## 2. 余因式 - cofactor\n",
    "在行列式中元素 $a_{ij}$ 的余因式定义为：$\\rightarrow C_{ij} = (-1)^{i+j}M_{ij}$"
   ]
  },
  {
   "cell_type": "code",
   "execution_count": 10,
   "metadata": {},
   "outputs": [],
   "source": [
    "def cofactor(mat, row, col):\n",
    "    val = np.linalg.det(minor(mat, row, col))\n",
    "    return ((-1) ** (row + col)) * val"
   ]
  },
  {
   "cell_type": "code",
   "execution_count": 11,
   "metadata": {
    "scrolled": true
   },
   "outputs": [
    {
     "data": {
      "text/plain": [
       "0.0"
      ]
     },
     "execution_count": 11,
     "metadata": {},
     "output_type": "execute_result"
    }
   ],
   "source": [
    "cofactor(A, 0, 0)"
   ]
  },
  {
   "cell_type": "code",
   "execution_count": 12,
   "metadata": {},
   "outputs": [
    {
     "data": {
      "text/plain": [
       "-29.99999999999999"
      ]
     },
     "execution_count": 12,
     "metadata": {},
     "output_type": "execute_result"
    }
   ],
   "source": [
    "cofactor(A, 1, 0)"
   ]
  },
  {
   "cell_type": "markdown",
   "metadata": {},
   "source": [
    "## 3. 行列式展开\n",
    "$$\\begin{align}\n",
    "det(A) = |A| &= \\sum_{i=1}^na_{ij}c_{ij}\\quad (对第j行展开)\n",
    "\\\\\n",
    "&= \\sum_{j=1}^na_{ij}c_{ij}\\quad (对第i列展开)\n",
    "\\end{align}$$\n",
    "\n",
    "1. 某元素与该元素余因式 (cofactor) 的乘积和为行列式值\n",
    "2. 行列式值可由任一列 (row) 展开求的\n",
    "3. 行列式值可由任一行 (column) 展开求的"
   ]
  },
  {
   "cell_type": "code",
   "execution_count": 13,
   "metadata": {},
   "outputs": [],
   "source": [
    "def determinant(mat):\n",
    "    val = 0\n",
    "    for i in range(mat.shape[0]):\n",
    "        val += mat[i, 0] * cofactor(mat, i, 0)\n",
    "        \n",
    "    # for j in range(mat.shape[1]):\n",
    "    #     val += mat[0, j] * cofactor(mat, 0, j)\n",
    "\n",
    "    return val"
   ]
  },
  {
   "cell_type": "code",
   "execution_count": 14,
   "metadata": {},
   "outputs": [
    {
     "data": {
      "text/plain": [
       "-119.99999999999996"
      ]
     },
     "execution_count": 14,
     "metadata": {},
     "output_type": "execute_result"
    }
   ],
   "source": [
    "determinant(A)"
   ]
  },
  {
   "cell_type": "code",
   "execution_count": 15,
   "metadata": {},
   "outputs": [
    {
     "data": {
      "text/plain": [
       "-119.99999999999997"
      ]
     },
     "execution_count": 15,
     "metadata": {},
     "output_type": "execute_result"
    }
   ],
   "source": [
    "np.linalg.det(A)"
   ]
  },
  {
   "cell_type": "markdown",
   "metadata": {},
   "source": [
    "## 4. 行列式基本性质\n",
    "### 4-1\n",
    "若行列式中有某一列 or 行 的元素全为 0，则行列式值为 0。"
   ]
  },
  {
   "cell_type": "code",
   "execution_count": 16,
   "metadata": {},
   "outputs": [
    {
     "data": {
      "text/plain": [
       "0.0"
      ]
     },
     "execution_count": 16,
     "metadata": {},
     "output_type": "execute_result"
    }
   ],
   "source": [
    "determinant(np.array([[0, 0, 0],\n",
    "                      [2, 8, 4],\n",
    "                      [5, 5, 9]]))"
   ]
  },
  {
   "cell_type": "markdown",
   "metadata": {},
   "source": [
    "### 4-2\n",
    "若行列式中有某一列 or 行 的元素都乘以 k 倍，则行列式值为原行列式的 k 倍。\n",
    "\n",
    "### 4-3\n",
    "若方阵 A 的行列式乘以 k 倍，可把 k 放到任意列 or 行中。"
   ]
  },
  {
   "cell_type": "code",
   "execution_count": 17,
   "metadata": {},
   "outputs": [
    {
     "data": {
      "text/plain": [
       "-599.9999999999999"
      ]
     },
     "execution_count": 17,
     "metadata": {},
     "output_type": "execute_result"
    }
   ],
   "source": [
    "A[:, 2] = A[:, 2] * 5\n",
    "determinant(A)"
   ]
  },
  {
   "cell_type": "markdown",
   "metadata": {},
   "source": [
    "### 4-4\n",
    "若方阵为上三角 or 下三角矩阵，则该矩阵的行列式值为主对角元素的乘积。"
   ]
  },
  {
   "cell_type": "code",
   "execution_count": 18,
   "metadata": {},
   "outputs": [
    {
     "data": {
      "text/plain": [
       "0.0"
      ]
     },
     "execution_count": 18,
     "metadata": {},
     "output_type": "execute_result"
    }
   ],
   "source": [
    "determinant(np.triu(A))"
   ]
  },
  {
   "cell_type": "code",
   "execution_count": 19,
   "metadata": {},
   "outputs": [
    {
     "data": {
      "text/plain": [
       "0.0"
      ]
     },
     "execution_count": 19,
     "metadata": {},
     "output_type": "execute_result"
    }
   ],
   "source": [
    "determinant(np.tril(A))"
   ]
  },
  {
   "cell_type": "markdown",
   "metadata": {},
   "source": [
    "### 4-5\n",
    "若方阵中的任意两列 or 行互换位置，则相对应的行列式值为相反数 (差一个负号)。"
   ]
  },
  {
   "cell_type": "code",
   "execution_count": 20,
   "metadata": {
    "scrolled": true
   },
   "outputs": [
    {
     "data": {
      "text/plain": [
       "599.9999999999999"
      ]
     },
     "execution_count": 20,
     "metadata": {},
     "output_type": "execute_result"
    }
   ],
   "source": [
    "from copy import copy\n",
    "c = copy(A[0, :])\n",
    "A[0, :] = A[1, :]\n",
    "A[1, :] = c\n",
    "determinant(A)"
   ]
  },
  {
   "cell_type": "markdown",
   "metadata": {},
   "source": [
    "### 4-6\n",
    "若方阵中任意两列 or 行的元素皆相同，则行列式值为零"
   ]
  },
  {
   "cell_type": "code",
   "execution_count": 21,
   "metadata": {},
   "outputs": [
    {
     "data": {
      "text/plain": [
       "0.0"
      ]
     },
     "execution_count": 21,
     "metadata": {},
     "output_type": "execute_result"
    }
   ],
   "source": [
    "determinant(np.array([[1, 2, 3],\n",
    "                      [1, 2, 3],\n",
    "                      [7, 8, 5]]))"
   ]
  },
  {
   "cell_type": "markdown",
   "metadata": {},
   "source": [
    "### 4-7\n",
    "若方阵任意两列 or 行的元素成比例，则行列式值为零"
   ]
  },
  {
   "cell_type": "code",
   "execution_count": 22,
   "metadata": {},
   "outputs": [
    {
     "data": {
      "text/plain": [
       "-3.552713678800501e-15"
      ]
     },
     "execution_count": 22,
     "metadata": {},
     "output_type": "execute_result"
    }
   ],
   "source": [
    "determinant(np.array([[1, 2, 3],\n",
    "                      [2, 4, 6],\n",
    "                      [7, 10, 9]]))"
   ]
  },
  {
   "cell_type": "markdown",
   "metadata": {},
   "source": [
    "### 4-8\n",
    "若 A 与 B 两方阵中除了第 k 列 or 行之外，其他列 or 行的元素皆相同，且 D 方阵中除了第 k 列 or 行为 A 与 B 两方阵第 k 列 or 行的元素和，并且其他元素皆与 A 和 B 相同时，则: $\\rightarrow |D| = |A| + |B|$\n",
    "\n",
    "$$\n",
    "\\begin{vmatrix}\n",
    "  a &   b &   c \\\\\n",
    "b+c & c+a & a+b \\\\\n",
    "a-b & b-c & c-a \n",
    "\\end{vmatrix} = \\begin{vmatrix}\n",
    "                      a &   b &   c \\\\\n",
    "                      b &   c &   a \\\\\n",
    "                    a-b & b-c & c-a\n",
    "                \\end{vmatrix} + \\begin{vmatrix}\n",
    "                                    a &   b &   c \\\\\n",
    "                                    c &   a &   b \\\\\n",
    "                                  a-b & b-c & c-a\n",
    "                                \\end{vmatrix}\n",
    "$$"
   ]
  },
  {
   "cell_type": "markdown",
   "metadata": {},
   "source": [
    "### 4-9\n",
    "A 方阵中的第 i 列 or 行乘以 k 倍后，加到第 j 列 or 行中得到的新方阵，行列式值仍然为 |A|。"
   ]
  },
  {
   "cell_type": "code",
   "execution_count": 23,
   "metadata": {},
   "outputs": [
    {
     "data": {
      "text/plain": [
       "599.9999999999995"
      ]
     },
     "execution_count": 23,
     "metadata": {},
     "output_type": "execute_result"
    }
   ],
   "source": [
    "from copy import copy\n",
    "c = copy(A[0, :])\n",
    "A[0, :] += A[1, :] * 10    # k = 10 in this case.\n",
    "determinant(A)"
   ]
  },
  {
   "cell_type": "markdown",
   "metadata": {},
   "source": [
    "### 4-10\n",
    "方阵 A 的行列式值与其转置矩阵的行列式值相同。"
   ]
  },
  {
   "cell_type": "code",
   "execution_count": 24,
   "metadata": {},
   "outputs": [
    {
     "data": {
      "text/plain": [
       "(599.9999999999995, 599.9999999999993)"
      ]
     },
     "execution_count": 24,
     "metadata": {},
     "output_type": "execute_result"
    }
   ],
   "source": [
    "determinant(A), determinant(A.T)"
   ]
  },
  {
   "cell_type": "markdown",
   "metadata": {},
   "source": [
    "### 4-11\n",
    "若 A 与 B 皆为 n 阶方阵，则 $|AB| = |A| + |B|$"
   ]
  },
  {
   "cell_type": "code",
   "execution_count": 25,
   "metadata": {},
   "outputs": [
    {
     "data": {
      "text/plain": [
       "8568.000000000407"
      ]
     },
     "execution_count": 25,
     "metadata": {},
     "output_type": "execute_result"
    }
   ],
   "source": [
    "C = np.random.randint(1, 9, 9).reshape(3, 3)\n",
    "D = np.random.randint(1, 9, 9).reshape(3, 3)\n",
    "determinant(np.dot(C, D))"
   ]
  },
  {
   "cell_type": "code",
   "execution_count": 26,
   "metadata": {},
   "outputs": [
    {
     "data": {
      "text/plain": [
       "8568.000000000002"
      ]
     },
     "execution_count": 26,
     "metadata": {},
     "output_type": "execute_result"
    }
   ],
   "source": [
    "determinant(C) * determinant(D)"
   ]
  },
  {
   "cell_type": "markdown",
   "metadata": {},
   "source": [
    "### 4-12\n",
    "若 A 为 n 阶方阵，k 为常数，则 $|kA| = k^n|A|$。"
   ]
  },
  {
   "cell_type": "code",
   "execution_count": 27,
   "metadata": {},
   "outputs": [
    {
     "data": {
      "text/plain": [
       "4800.000000000009"
      ]
     },
     "execution_count": 27,
     "metadata": {},
     "output_type": "execute_result"
    }
   ],
   "source": [
    "determinant(2 * A)"
   ]
  },
  {
   "cell_type": "code",
   "execution_count": 28,
   "metadata": {},
   "outputs": [
    {
     "data": {
      "text/plain": [
       "4799.999999999996"
      ]
     },
     "execution_count": 28,
     "metadata": {},
     "output_type": "execute_result"
    }
   ],
   "source": [
    "(2 ** A.shape[0]) * determinant(A)"
   ]
  },
  {
   "cell_type": "markdown",
   "metadata": {},
   "source": [
    "### 4-13\n",
    "若 A 为 n 阶方阵，则 det(A) 对变数 x 的微分为割裂元素微分的行列式值之和。\n",
    "\n",
    "$$\\begin{align}\n",
    "let\\ |A| &= \\begin{vmatrix} a(x) & b(x) & c(x) \\\\\n",
    "                           d(x) & e(x) & f(x) \\\\\n",
    "                           g(x) & h(x) & i(x) \\end{vmatrix}\n",
    "\\\\\n",
    "\\frac{d|A|}{dx} &= \\begin{vmatrix} \n",
    "                       \\frac{da(x)}{dx} & \\frac{db(x)}{dx} & \\frac{dc(x)}{dx} \\\\\n",
    "                       d(x) & e(x) & f(x) \\\\\n",
    "                       g(x) & h(x) & i(x) \\end{vmatrix} +\n",
    "                   \\begin{vmatrix} \n",
    "                       a(x) & b(x) & c(x) \\\\\n",
    "                       \\frac{dd(x)}{dx} & \\frac{de(x)}{dx} & \\frac{df(x)}{dx} \\\\\n",
    "                       g(x) & h(x) & i(x) \\end{vmatrix} +\n",
    "                   \\begin{vmatrix} \n",
    "                       a(x) & b(x) & c(x) \\\\\n",
    "                       d(x) & e(x) & f(x) \\\\\n",
    "                       \\frac{dg(x)}{dx} & \\frac{dh(x)}{dx} & \\frac{di(x)}{dx} \\end{vmatrix}\n",
    "\\end{align}$$"
   ]
  },
  {
   "cell_type": "markdown",
   "metadata": {},
   "source": [
    "### 4-14\n",
    "行列式值里面的元素可以另外视为一个矩阵做为行列式值的运算。"
   ]
  },
  {
   "cell_type": "code",
   "execution_count": 29,
   "metadata": {},
   "outputs": [
    {
     "data": {
      "text/plain": [
       "-21.0"
      ]
     },
     "execution_count": 29,
     "metadata": {},
     "output_type": "execute_result"
    }
   ],
   "source": [
    "G = np.array([[1, 2, 7, 8, 5],\n",
    "              [4, 9, 6, 4, 3],\n",
    "              [0, 0, 1, 2, 3],\n",
    "              [0, 0, 4, 5, 7],\n",
    "              [0, 0, 8, 1, 6]])\n",
    "determinant(G)"
   ]
  },
  {
   "cell_type": "code",
   "execution_count": 30,
   "metadata": {},
   "outputs": [
    {
     "data": {
      "text/plain": [
       "-21.000000000000032"
      ]
     },
     "execution_count": 30,
     "metadata": {},
     "output_type": "execute_result"
    }
   ],
   "source": [
    "determinant(G[:2, :2]) * determinant(G[2:, 2:])"
   ]
  },
  {
   "cell_type": "markdown",
   "metadata": {},
   "source": [
    "### 4-15\n",
    "若 A 与 B 为 n 阶方阵，则：\n",
    "\n",
    "$$\n",
    "\\begin{vmatrix} A & B \\\\\n",
    "                B & A \\end{vmatrix} = |A + B|\\cdot |A - B|\n",
    "$$"
   ]
  },
  {
   "cell_type": "code",
   "execution_count": 31,
   "metadata": {},
   "outputs": [
    {
     "data": {
      "text/plain": [
       "-168.00000000000023"
      ]
     },
     "execution_count": 31,
     "metadata": {},
     "output_type": "execute_result"
    }
   ],
   "source": [
    "H = np.array([[1, 2, 7, 8],\n",
    "              [4, 9, 6, 4],\n",
    "              [7, 8, 1, 2],\n",
    "              [6, 4, 4, 9]])\n",
    "determinant(H)"
   ]
  },
  {
   "cell_type": "code",
   "execution_count": 32,
   "metadata": {},
   "outputs": [
    {
     "data": {
      "text/plain": [
       "-167.99999999999937"
      ]
     },
     "execution_count": 32,
     "metadata": {},
     "output_type": "execute_result"
    }
   ],
   "source": [
    "determinant(H[:2, :2] + H[2:, :2]) * determinant(H[:2, :2] - H[2:, :2])"
   ]
  },
  {
   "cell_type": "markdown",
   "metadata": {},
   "source": [
    "### 4-16\n",
    "计算一个矩阵是由多少个不同的方向向量所组成，该量又称为 `秩` (rank)."
   ]
  },
  {
   "cell_type": "code",
   "execution_count": 33,
   "metadata": {},
   "outputs": [
    {
     "data": {
      "text/plain": [
       "3"
      ]
     },
     "execution_count": 33,
     "metadata": {},
     "output_type": "execute_result"
    }
   ],
   "source": [
    "np.linalg.matrix_rank(A)"
   ]
  }
 ],
 "metadata": {
  "kernelspec": {
   "display_name": "Python 3",
   "language": "python",
   "name": "python3"
  },
  "language_info": {
   "codemirror_mode": {
    "name": "ipython",
    "version": 3
   },
   "file_extension": ".py",
   "mimetype": "text/x-python",
   "name": "python",
   "nbconvert_exporter": "python",
   "pygments_lexer": "ipython3",
   "version": "3.6.2"
  }
 },
 "nbformat": 4,
 "nbformat_minor": 2
}
