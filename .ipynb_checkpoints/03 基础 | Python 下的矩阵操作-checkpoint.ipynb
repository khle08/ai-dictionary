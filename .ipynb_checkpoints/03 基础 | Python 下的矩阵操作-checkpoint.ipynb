{
 "cells": [
  {
   "cell_type": "markdown",
   "metadata": {},
   "source": [
    "> 关键词：线性代数 / 矩阵 / 运算\n",
    "\n",
    "今天小编将详细介绍矩阵的运算规则与数学符号应用在矩阵上的含义，如同算数字的加减法需要了解计算公式的规则一样，矩阵的运算虽然与单纯数字运算相似，但其细节的相异处还需要多加注意。另外，矩阵计算有些时候手算和代码算的规则是有些差异的，这也容易造成算法在实际部署时的 BUG，接下来的矩阵操作介绍，小编将完全站在编程的角度去重新阐述线性代数的理论知识！"
   ]
  },
  {
   "cell_type": "markdown",
   "metadata": {},
   "source": [
    "# 矩阵的基本性质\n",
    "回顾一下一个矩阵的具体写法与符号定义：\n",
    "\n",
    "$$\n",
    "A = \n",
    "\\begin{bmatrix} a_{11} & a_{12} & \\cdots & a_{1n} \\\\\n",
    "                a_{21} & a_{22} & \\cdots & a_{2n} \\\\\n",
    "                ...  & ...  & \\quad  & ... \\\\\n",
    "                a_{m1} & a_{m2} & \\cdots & a_{mn}\\end{bmatrix}\n",
    "= \\begin{bmatrix}a_{ij}\\end{bmatrix}\n",
    "$$\n",
    "\n",
    "$[\\ \\cdot\\ ]$ 中的 $a_{ij}$ 称为矩阵的元素，可以是数字，函数，实数，复数。在 python 代码中的`numpy`模块几乎可以说是数值计算的唯一选择。"
   ]
  },
  {
   "cell_type": "code",
   "execution_count": 1,
   "metadata": {},
   "outputs": [],
   "source": [
    "import numpy as np\n",
    "from linalg import *"
   ]
  },
  {
   "cell_type": "markdown",
   "metadata": {},
   "source": [
    "如果还没安装过`numpy`，可以使用下面指令在终端快速安装。\n",
    "\n",
    "```shell\n",
    "pip install numpy\n",
    "```\n",
    "\n",
    "如果想获得`Code.linalg`里面的代码，欢迎扫码进群！"
   ]
  },
  {
   "cell_type": "markdown",
   "metadata": {},
   "source": [
    "## 1. 矩阵的相等\n",
    "如果 A 与 B 两个矩阵的阶数相等，所对应的元素也都相等，则称 A 与 B 矩阵相等。\n",
    "\n",
    "$$\n",
    "A_{m\\times n} = B_{m\\times n}\\quad\\rightarrow\\quad (A)_{ij} = (B)_{ij}\n",
    "$$"
   ]
  },
  {
   "cell_type": "markdown",
   "metadata": {},
   "source": [
    "## 2. 加减法\n",
    "如果两个矩阵的阶数都相等，则加减法即为对应位置的元素相加减。"
   ]
  },
  {
   "cell_type": "code",
   "execution_count": 2,
   "metadata": {},
   "outputs": [
    {
     "name": "stdout",
     "output_type": "stream",
     "text": [
      "[[0 2 1]\n",
      " [1 3 4]] \n",
      "\n",
      " [[0 4 1]\n",
      " [1 2 2]] \n",
      "\n",
      " [[0 2]\n",
      " [3 1]\n",
      " [1 5]]\n"
     ]
    }
   ],
   "source": [
    "A = np.random.randint(0, 5, 6).reshape(2, 3)\n",
    "B = np.random.randint(0, 5, 6).reshape(2, 3)\n",
    "C = np.random.randint(0, 8, 6).reshape(3, 2)\n",
    "print(A, '\\n\\n', B, '\\n\\n', C)"
   ]
  },
  {
   "cell_type": "code",
   "execution_count": 3,
   "metadata": {},
   "outputs": [
    {
     "name": "stdout",
     "output_type": "stream",
     "text": [
      "[[0 6 2]\n",
      " [2 5 6]]\n"
     ]
    }
   ],
   "source": [
    "print(A + B)"
   ]
  },
  {
   "cell_type": "markdown",
   "metadata": {},
   "source": [
    "## 3. 纯量与矩阵的乘积\n",
    "如果 A 为矩阵而 k 为常数，相乘的结果即为每个 A 内的元素都乘以 k。"
   ]
  },
  {
   "cell_type": "code",
   "execution_count": 4,
   "metadata": {},
   "outputs": [
    {
     "data": {
      "text/plain": [
       "array([[ 0, 20, 10],\n",
       "       [10, 30, 40]])"
      ]
     },
     "execution_count": 4,
     "metadata": {},
     "output_type": "execute_result"
    }
   ],
   "source": [
    "10 * A"
   ]
  },
  {
   "cell_type": "markdown",
   "metadata": {},
   "source": [
    "## 4. 矩阵的乘法\n",
    "如果两个矩阵的 `行数` 与另一个矩阵的 `列数` 相等，矩阵乘法才可行，此操作又称为内积。\n",
    "\n",
    "$$\n",
    "C_{m\\times l} = A_{m\\times n} \\cdot B_{n\\times l}\n",
    "\\\\\n",
    "(C)_{ij} = \\sum_{k=1}^n(A)_{ik}(B)_{kj}\n",
    "$$"
   ]
  },
  {
   "cell_type": "code",
   "execution_count": 5,
   "metadata": {},
   "outputs": [
    {
     "data": {
      "text/plain": [
       "array([[ 5, 10],\n",
       "       [10, 26]])"
      ]
     },
     "execution_count": 5,
     "metadata": {},
     "output_type": "execute_result"
    }
   ],
   "source": [
    "np.dot(A, A.T)"
   ]
  },
  {
   "cell_type": "markdown",
   "metadata": {},
   "source": [
    "有些在数字上通用的乘法规则，在矩阵中则无效，如下实例：\n",
    "#### -- 交换律不成立\n",
    "成立条件：\n",
    "1. A 与 B 都是 n 阶对角矩阵\n",
    "2. A 或 B 中有一个为纯量矩阵（包含单位矩阵）\n",
    "\n",
    "#### -- 消去律不成立\n",
    "如果 A 与 B 皆为 n 阶方阵，AB = AC 不表示 B = C，成立条件：\n",
    "+ $A^{-1}$ 存在。\n",
    "\n",
    "#### -- 为 0 条件\n",
    "如果 AB = 0，不恒表示 A = 0 或是 B = 0。成立条件：\n",
    "+ 当 $A^{-1}$ 存在，则 B = 0\n",
    "+ 当 $B^{-1}$ 存在，则 A = 0\n",
    "\n",
    "#### -- 结合律成立\n",
    "+ $A(BC) = (AB)C$，其中 $A_{m\\times n}, B_{n\\times l}, C_{l\\times p}$\n",
    "+ $(A + B)C = AC + BC$\n",
    "+ $(A + B)(C + D) = AC + BC + AD + BD$\n",
    "+ $(A + B)^2 = (A + B)(A + B) = A^2 + BA + AB + B^2$"
   ]
  },
  {
   "cell_type": "markdown",
   "metadata": {},
   "source": [
    "## 5. 转置矩阵的性质\n",
    "转置操作从二维矩阵的角度看，就是把矩阵沿着对角线做一个 180 度的翻转，长宽的尺寸维度也因此跟着变化。如果是高维张量的转置操作，则可以理解成是不同维度的值调换了位置，更多细节将在后面几个章节细说！\n",
    "\n",
    "+ $(A^T)^T = A$"
   ]
  },
  {
   "cell_type": "code",
   "execution_count": 6,
   "metadata": {},
   "outputs": [
    {
     "data": {
      "text/plain": [
       "array([[ True,  True,  True],\n",
       "       [ True,  True,  True]])"
      ]
     },
     "execution_count": 6,
     "metadata": {},
     "output_type": "execute_result"
    }
   ],
   "source": [
    "A == A.T.T"
   ]
  },
  {
   "cell_type": "markdown",
   "metadata": {},
   "source": [
    "+ $(A + B)^T = A^T + B^T$"
   ]
  },
  {
   "cell_type": "code",
   "execution_count": 7,
   "metadata": {},
   "outputs": [
    {
     "data": {
      "text/plain": [
       "array([[ True,  True],\n",
       "       [ True,  True],\n",
       "       [ True,  True]])"
      ]
     },
     "execution_count": 7,
     "metadata": {},
     "output_type": "execute_result"
    }
   ],
   "source": [
    "(A + B).T == A.T + B.T"
   ]
  },
  {
   "cell_type": "markdown",
   "metadata": {},
   "source": [
    "+ 如果 k 是常数，$(kA)^T = kA^T$"
   ]
  },
  {
   "cell_type": "code",
   "execution_count": 8,
   "metadata": {},
   "outputs": [
    {
     "data": {
      "text/plain": [
       "array([[ True,  True],\n",
       "       [ True,  True],\n",
       "       [ True,  True]])"
      ]
     },
     "execution_count": 8,
     "metadata": {},
     "output_type": "execute_result"
    }
   ],
   "source": [
    "(10 * A).T == 10 * A.T"
   ]
  },
  {
   "cell_type": "markdown",
   "metadata": {},
   "source": [
    "+ $(ABC)^T = C^TB^TA^T$\n",
    "\n",
    "证明：$(AB)^T$ 矩阵中第 i 列第 j 行未知的元素为：\n",
    "\n",
    "$$\\begin{align}\n",
    "\\big((AB)^T\\big)_{ij} = (AB)_{ji} &= \\sum_{k=1}^n(A)_{jk}(B)_{ki}\n",
    "\\\\\n",
    "&= \\sum_{k=1}^n(B)_{ki}(A)_{jk}\n",
    "\\\\\n",
    "&= \\sum_{k=1}^n(B^T)_{ik}(A^T)_{kj} = (B^TA^T)_{ij}\n",
    "\\end{align}$$\n",
    "\n",
    "得证。"
   ]
  },
  {
   "cell_type": "code",
   "execution_count": 9,
   "metadata": {},
   "outputs": [
    {
     "data": {
      "text/plain": [
       "array([[ True,  True],\n",
       "       [ True,  True],\n",
       "       [ True,  True]])"
      ]
     },
     "execution_count": 9,
     "metadata": {},
     "output_type": "execute_result"
    }
   ],
   "source": [
    "np.dot(A, C).dot(B).T == np.dot(B.T, C.T).dot(A.T)"
   ]
  },
  {
   "cell_type": "markdown",
   "metadata": {},
   "source": [
    "## 6. 共轭转置矩阵的性质\n",
    "共轭转置操作就跟名字起的顺序一样，先做共轭再做转置，数学上计作 上标$\\star$。\n",
    "\n",
    "+ $(A^\\star)^\\star = A$"
   ]
  },
  {
   "cell_type": "code",
   "execution_count": 10,
   "metadata": {},
   "outputs": [
    {
     "data": {
      "text/plain": [
       "array([[ True,  True,  True],\n",
       "       [ True,  True,  True]])"
      ]
     },
     "execution_count": 10,
     "metadata": {},
     "output_type": "execute_result"
    }
   ],
   "source": [
    "conj_T(conj_T(A)) == A"
   ]
  },
  {
   "cell_type": "markdown",
   "metadata": {},
   "source": [
    "+ $(A + B)^\\star = A^\\star + B^\\star$"
   ]
  },
  {
   "cell_type": "code",
   "execution_count": 11,
   "metadata": {},
   "outputs": [
    {
     "data": {
      "text/plain": [
       "array([[ True,  True],\n",
       "       [ True,  True],\n",
       "       [ True,  True]])"
      ]
     },
     "execution_count": 11,
     "metadata": {},
     "output_type": "execute_result"
    }
   ],
   "source": [
    "conj_T(A + B) == conj_T(A) + conj_T(B)"
   ]
  },
  {
   "cell_type": "markdown",
   "metadata": {},
   "source": [
    "+ 如果 k 是常数，$(kA)^\\star = \\bar{k}A^\\star$"
   ]
  },
  {
   "cell_type": "code",
   "execution_count": 12,
   "metadata": {},
   "outputs": [
    {
     "data": {
      "text/plain": [
       "array([[ True,  True],\n",
       "       [ True,  True],\n",
       "       [ True,  True]])"
      ]
     },
     "execution_count": 12,
     "metadata": {},
     "output_type": "execute_result"
    }
   ],
   "source": [
    "conj_T(10 * A) == 10 * conj_T(A)"
   ]
  },
  {
   "cell_type": "markdown",
   "metadata": {},
   "source": [
    "+ $(ABC)^\\star = C^\\star B^\\star A^\\star$"
   ]
  },
  {
   "cell_type": "code",
   "execution_count": 13,
   "metadata": {},
   "outputs": [
    {
     "data": {
      "text/plain": [
       "array([[ True,  True],\n",
       "       [ True,  True],\n",
       "       [ True,  True]])"
      ]
     },
     "execution_count": 13,
     "metadata": {},
     "output_type": "execute_result"
    }
   ],
   "source": [
    "conj_T(np.dot(A, C).dot(B)) == np.dot(conj_T(B), conj_T(C)).dot(conj_T(A))"
   ]
  },
  {
   "cell_type": "markdown",
   "metadata": {},
   "source": [
    "## 7. 对称矩阵与反对称矩阵的性质\n",
    "如果 A 是 n 阶方阵，则有：\n",
    "+ $AA^T$ 与 $A^TA$ 为 `对称矩阵`\n",
    "\n",
    "证明：$(AA^T)^T = (A^T)^TA^T = AA^T$，且 $(A^TA)^T = A^T(A^T)^T = A^TA$"
   ]
  },
  {
   "cell_type": "code",
   "execution_count": 14,
   "metadata": {},
   "outputs": [
    {
     "data": {
      "text/plain": [
       "array([[ 5, 10],\n",
       "       [10, 26]])"
      ]
     },
     "execution_count": 14,
     "metadata": {},
     "output_type": "execute_result"
    }
   ],
   "source": [
    "np.dot(A, A.T)"
   ]
  },
  {
   "cell_type": "code",
   "execution_count": 15,
   "metadata": {},
   "outputs": [
    {
     "data": {
      "text/plain": [
       "array([[ 1,  3,  4],\n",
       "       [ 3, 13, 14],\n",
       "       [ 4, 14, 17]])"
      ]
     },
     "execution_count": 15,
     "metadata": {},
     "output_type": "execute_result"
    }
   ],
   "source": [
    "np.dot(A.T, A)"
   ]
  },
  {
   "cell_type": "markdown",
   "metadata": {},
   "source": [
    "+ $(A + A^T)^T$ 为 `对称矩阵`\n",
    "\n",
    "证明：$(A + A^T)^T = A^T + (A^T)^T = A^T + A = A + A^T$"
   ]
  },
  {
   "cell_type": "code",
   "execution_count": 16,
   "metadata": {},
   "outputs": [
    {
     "data": {
      "text/plain": [
       "array([[1, 4, 6],\n",
       "       [8, 2, 2],\n",
       "       [8, 3, 0]])"
      ]
     },
     "execution_count": 16,
     "metadata": {},
     "output_type": "execute_result"
    }
   ],
   "source": [
    "D = np.random.randint(0, 10, 9).reshape(3, 3)\n",
    "D    # random square matrix"
   ]
  },
  {
   "cell_type": "code",
   "execution_count": 17,
   "metadata": {},
   "outputs": [
    {
     "data": {
      "text/plain": [
       "array([[ 2, 12, 14],\n",
       "       [12,  4,  5],\n",
       "       [14,  5,  0]])"
      ]
     },
     "execution_count": 17,
     "metadata": {},
     "output_type": "execute_result"
    }
   ],
   "source": [
    "(D + D.T).T"
   ]
  },
  {
   "cell_type": "markdown",
   "metadata": {},
   "source": [
    "+ $A - A^T$ 为 `反对称矩阵`\n",
    "\n",
    "证明：$(A - A^T)^T = A^T - (A^T)^T = A^T - A = -(A - A^T)^T$"
   ]
  },
  {
   "cell_type": "code",
   "execution_count": 18,
   "metadata": {},
   "outputs": [
    {
     "data": {
      "text/plain": [
       "array([[ 0,  4,  2],\n",
       "       [-4,  0,  1],\n",
       "       [-2, -1,  0]])"
      ]
     },
     "execution_count": 18,
     "metadata": {},
     "output_type": "execute_result"
    }
   ],
   "source": [
    "(D - D.T).T"
   ]
  },
  {
   "cell_type": "markdown",
   "metadata": {},
   "source": [
    "+ 任何 n 阶实数方阵必定可以表示成 `对称矩阵` 与 `反对称矩阵` 的和：$A = \\frac{1}{2}(A + A^T) + \\frac{1}{2}(A - A^T)$"
   ]
  },
  {
   "cell_type": "code",
   "execution_count": 19,
   "metadata": {},
   "outputs": [
    {
     "data": {
      "text/plain": [
       "array([[ True,  True,  True],\n",
       "       [ True,  True,  True],\n",
       "       [ True,  True,  True]])"
      ]
     },
     "execution_count": 19,
     "metadata": {},
     "output_type": "execute_result"
    }
   ],
   "source": [
    "0.5 * (D + D.T) + 0.5 * (D - D.T) == D"
   ]
  },
  {
   "cell_type": "markdown",
   "metadata": {},
   "source": [
    "## 8. Trace 的性质\n",
    "+ $tr(A \\pm B) = tr(A) \\pm tr(B)$\n",
    "\n",
    "证明：$tr(A\\pm B) = \\sum_{i=1}^n \\Big((A)_{ii} \\pm (B)_{ii}\\Big) = \\sum_{i=1}^n (A)_{ii} \\pm \\sum_{i=1}^n(B)_{ii} = tr(A) \\pm tr(B)$"
   ]
  },
  {
   "cell_type": "code",
   "execution_count": 20,
   "metadata": {},
   "outputs": [
    {
     "data": {
      "text/plain": [
       "True"
      ]
     },
     "execution_count": 20,
     "metadata": {},
     "output_type": "execute_result"
    }
   ],
   "source": [
    "np.trace(A + B) == np.trace(A) + np.trace(B)"
   ]
  },
  {
   "cell_type": "markdown",
   "metadata": {},
   "source": [
    "+ 当 k 是个常数，$tr(kA) = k\\cdot tr(A)$"
   ]
  },
  {
   "cell_type": "code",
   "execution_count": 21,
   "metadata": {},
   "outputs": [
    {
     "data": {
      "text/plain": [
       "True"
      ]
     },
     "execution_count": 21,
     "metadata": {},
     "output_type": "execute_result"
    }
   ],
   "source": [
    "np.trace(10 * A) == 10 * np.trace(A)"
   ]
  },
  {
   "cell_type": "markdown",
   "metadata": {},
   "source": [
    "+ $tr(AB) = tr(BA)$\n",
    "\n",
    "证明：$tr(AB) = \\sum_{i=1}^n(AB)_{ii} = \\sum_{i=1}^n\\sum_{j=1}^n(A)_{ij}(B)_{ji} = \\sum_{j=1}^n\\sum_{i=1}^n(B)_{ji}(A)_{ij} = \\sum_{j=1}^n(BA)_{jj}$"
   ]
  },
  {
   "cell_type": "code",
   "execution_count": 22,
   "metadata": {},
   "outputs": [
    {
     "data": {
      "text/plain": [
       "True"
      ]
     },
     "execution_count": 22,
     "metadata": {},
     "output_type": "execute_result"
    }
   ],
   "source": [
    "np.trace(np.dot(A, C)) == np.trace(np.dot(C, A))"
   ]
  },
  {
   "cell_type": "markdown",
   "metadata": {},
   "source": [
    "+ 若 $P^{-1}$ 存在，$P^{-1}AP = B$，$tr(A) = tr(B)$\n",
    "\n",
    "证明：$tr(B) = tr(P^{-1}AP) = tr(PP^{-1}A) = tr(A)$"
   ]
  }
 ],
 "metadata": {
  "kernelspec": {
   "display_name": "Python 3",
   "language": "python",
   "name": "python3"
  },
  "language_info": {
   "codemirror_mode": {
    "name": "ipython",
    "version": 3
   },
   "file_extension": ".py",
   "mimetype": "text/x-python",
   "name": "python",
   "nbconvert_exporter": "python",
   "pygments_lexer": "ipython3",
   "version": "3.6.2"
  }
 },
 "nbformat": 4,
 "nbformat_minor": 2
}
