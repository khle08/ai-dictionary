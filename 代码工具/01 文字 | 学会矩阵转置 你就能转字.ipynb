{
 "cells": [
  {
   "cell_type": "markdown",
   "metadata": {},
   "source": [
    "> 关键词：代码工具 / 文字\n",
    "\n",
    "矩阵作为人工智能地基一般的存在，需要经过不断的练习和记忆才能非常熟练地掌握，以至于一开始初学者学习时间长，却又不怎么能看得到算法上的成效，但有没有那种一学就能够立竿见影的应用呢？\n",
    "\n",
    "```shell\n",
    "[demo 效果]\n",
    "你法真，单友，矩段还岂订  \n",
    "别辞能既，炫那阵文没不阅\n",
    "说典找有还耀就转字订是？\n",
    "，里到趣能的是置！阅得\n",
    "在你一又跟应通一要的赶\n",
    "算还个简朋用过整是人紧\n",
    "```\n",
    "\n",
    "继续往下看以前，先确保 `numpy` 已经顺利通过下面指令在终端安装成功！"
   ]
  },
  {
   "cell_type": "code",
   "execution_count": 1,
   "metadata": {},
   "outputs": [
    {
     "name": "stdout",
     "output_type": "stream",
     "text": [
      "/bin/sh: pip: command not found\r\n"
     ]
    }
   ],
   "source": [
    "# !pip3 install numpy"
   ]
  },
  {
   "cell_type": "markdown",
   "metadata": {},
   "source": [
    "如果安装成功，那就赶紧导入模块开始我们的游戏！"
   ]
  },
  {
   "cell_type": "code",
   "execution_count": 2,
   "metadata": {},
   "outputs": [],
   "source": [
    "import numpy as np"
   ]
  },
  {
   "cell_type": "markdown",
   "metadata": {},
   "source": [
    "# 必备知识\n",
    "矩阵是一种数据的容器，一个矩阵里面可以有任意多的未知放任意定义的数据，而这个应用里刚好小编拿矩阵来装入文字数据，而且是一个位置只装一个文字，由于中文是方块字的一种，矩阵刚好可以很完美的做到直着与横着的排列切换！不过，在转换文字之前，有一系列的行前讲解得先理解：\n",
    "1. 文字读取的编码格式\n",
    "2. 文字读取的模式区别\n",
    "3. 字符串转列表的方法\n",
    "\n",
    "下面一点一点快速解说。"
   ]
  },
  {
   "cell_type": "markdown",
   "metadata": {},
   "source": [
    "### 1. 编码格式\n",
    "人类的语言之所以能够在计算机顺利被显示，主要原因就在与那严谨的编码规则，常见的问题例如在 windows 系统下编辑一些文件，移动到了苹果电脑之后，档名甚至是内文变成了乱码，其原因就在于不同系统所使用的不同编码规则所导致的，而通过代码读取文字也是同样的道理，为了方便操作，下面范例中使用的编码格式皆为 `utf-8`，使用的文件皆为 txt 文本文件，而保存在 txt 里面的文字就得留意确保保存格式等于编码格式。"
   ]
  },
  {
   "cell_type": "markdown",
   "metadata": {},
   "source": [
    "### 2. 读取模式\n",
    "在 Python 中，数据读取与写入的模式分成下面六种：\n",
    "+ `r`: 默认值，表示从文件读取数据。\n",
    "+ `w`: 表示要向文件写入数据，并截断以前的内容\n",
    "+ `a`: 表示要向文件写入数据，添加到当前内容尾部\n",
    "+ `r`': 表示对文件进行可读写操作（删除以前的所有数据）\n",
    "+ `r+`: 表示对文件可进行读写操作（添加到当前文件尾部）\n",
    "+ `b`: 表示要读写二进制数据\n",
    "\n",
    "为了方便起见，我们可以直接使用 `r+` 来进行接下来的操作。"
   ]
  },
  {
   "cell_type": "markdown",
   "metadata": {},
   "source": [
    "### 3. 字符串转列表\n",
    "转换方法非常简单，就是一行代码的操作，不过这里分成中文与英文的转换区别，如果是英文，建议使用 `.split()` 内置方法完成，如果对象是中文，则直接用 `list()` 就可以实现！"
   ]
  },
  {
   "cell_type": "markdown",
   "metadata": {},
   "source": [
    "# 代码实战\n",
    "首先捋一捋逻辑顺序，这将有助于在未来任何项目开发或维护的时候让自己看得懂代码。\n",
    "1. 读取文本文件\n",
    "2. 转化成列表\n",
    "3. 对齐矩阵格式\n",
    "4. 通过 `numpy` 库转化成矩阵\n",
    "5. 转置矩阵\n",
    "6. 保存回文本文件\n",
    "7. 关闭文档（完工！）\n",
    "\n",
    "接下来就是一步一步照着步骤实现代码，同时如果发现特定步骤如果符合人类直观的行为，就可以打包这些特定步骤，使其变成一个函数。在此之前先决定一下文本的保存路径，还有希望转换成多少列的文章，这两个是必要的超参数。"
   ]
  },
  {
   "cell_type": "code",
   "execution_count": 3,
   "metadata": {},
   "outputs": [],
   "source": [
    "txt_path = '/Users/kcl/Documents/Python_Projects/01_AI_Tutorials/00_Python_Series/Assistive_Tools/test.txt'\n",
    "column = 10"
   ]
  },
  {
   "cell_type": "markdown",
   "metadata": {},
   "source": [
    "### 1-2. 读取文本并转化成列表"
   ]
  },
  {
   "cell_type": "code",
   "execution_count": 4,
   "metadata": {},
   "outputs": [],
   "source": [
    "def read_txt(txt_path, mode='r+', encoding='utf-8'):\n",
    "    # 设定格式与模式，读取文件\n",
    "    with open(txt_path, mode=mode, encoding=encoding) as file:\n",
    "        text = file.read()\n",
    "\n",
    "        # 中文文字转化方式\n",
    "        char = list(text)\n",
    "        # 英文字符转换方式\n",
    "        # char = text.split()\n",
    "\n",
    "    return char"
   ]
  },
  {
   "cell_type": "markdown",
   "metadata": {},
   "source": [
    "### 3-5. 矩阵格式"
   ]
  },
  {
   "cell_type": "code",
   "execution_count": 5,
   "metadata": {},
   "outputs": [],
   "source": [
    "char = read_txt(txt_path, encoding='utf-8')\n",
    "\n",
    "# 对齐矩阵格式，让文字数量可以填满一个矩形，少的部分补空格\n",
    "space = ['  ' for i in range(column - len(char) % column)]\n",
    "char.extend(space)"
   ]
  },
  {
   "cell_type": "code",
   "execution_count": 6,
   "metadata": {},
   "outputs": [
    {
     "name": "stdout",
     "output_type": "stream",
     "text": [
      "['你', '别', '说', '，', '在', '算', '法', '辞', '典', '里', '你', '还', '真', '能', '找', '到', '一', '个', '，', '既', '有', '趣', '又', '简', '单', '，', '还', '能', '跟', '朋', '友', '炫', '耀', '的', '应', '用', '，', '那', '就', '是', '通', '过', '矩', '阵', '转', '置', '一', '整', '段', '文', '字', '！', '还', '没', '订', '阅', '的', '人', '岂', '不', '是', '得', '赶', '紧', '订', '阅', '？', '  ', '  ', '  ']\n"
     ]
    }
   ],
   "source": [
    "print(char)"
   ]
  },
  {
   "cell_type": "code",
   "execution_count": 7,
   "metadata": {},
   "outputs": [],
   "source": [
    "# 使用 numpy 转化，转置矩阵\n",
    "paragraph= np.array(char).reshape(column, -1).T"
   ]
  },
  {
   "cell_type": "code",
   "execution_count": 8,
   "metadata": {},
   "outputs": [
    {
     "name": "stdout",
     "output_type": "stream",
     "text": [
      "[['你' '辞' '找' '趣' '跟' '用' '矩' '文' '的' '紧']\n",
      " ['别' '典' '到' '又' '朋' '，' '阵' '字' '人' '订']\n",
      " ['说' '里' '一' '简' '友' '那' '转' '！' '岂' '阅']\n",
      " ['，' '你' '个' '单' '炫' '就' '置' '还' '不' '？']\n",
      " ['在' '还' '，' '，' '耀' '是' '一' '没' '是' '  ']\n",
      " ['算' '真' '既' '还' '的' '通' '整' '订' '得' '  ']\n",
      " ['法' '能' '有' '能' '应' '过' '段' '阅' '赶' '  ']]\n"
     ]
    }
   ],
   "source": [
    "print(paragraph)"
   ]
  },
  {
   "cell_type": "markdown",
   "metadata": {},
   "source": [
    "### 6-7. 保存文档"
   ]
  },
  {
   "cell_type": "code",
   "execution_count": 9,
   "metadata": {},
   "outputs": [],
   "source": [
    "# 用写入的模式，开启原来的文件。\n",
    "file = open(txt_path, 'w', encoding='utf-8')\n",
    "# 一行一行写入段落内容\n",
    "for line in paragraph:\n",
    "    # 把向量形式转化成字符串形式\n",
    "    string = ''.join(str(i) for i in line)\n",
    "    # 写入的同时记得换行 '\\n'\n",
    "    file.writelines(string + '\\n')\n",
    "\n",
    "# 关闭文档\n",
    "file.close()"
   ]
  },
  {
   "cell_type": "markdown",
   "metadata": {},
   "source": [
    "\n",
    "---\n",
    "\n",
    "如果想快速尝试代码效果而又不想逐行复制文章里的代码，欢迎进群领取现成范例，使用方法也非常简单：\n",
    "1. 创建一个 txt 文件\n",
    "2. 输入一堆文章内容，注意中间不能有空格或换行\n",
    "3. 在代码里设定文档路径和列数\n",
    "4. 启动代码得到直立书写的文章\n",
    "\n",
    "小提醒，这里的代码设定覆盖原来的 txt 文本文件，建议备份过之后再启动代码会比较保险！"
   ]
  }
 ],
 "metadata": {
  "kernelspec": {
   "display_name": "Python 3",
   "language": "python",
   "name": "python3"
  },
  "language_info": {
   "codemirror_mode": {
    "name": "ipython",
    "version": 3
   },
   "file_extension": ".py",
   "mimetype": "text/x-python",
   "name": "python",
   "nbconvert_exporter": "python",
   "pygments_lexer": "ipython3",
   "version": "3.6.2"
  }
 },
 "nbformat": 4,
 "nbformat_minor": 2
}
