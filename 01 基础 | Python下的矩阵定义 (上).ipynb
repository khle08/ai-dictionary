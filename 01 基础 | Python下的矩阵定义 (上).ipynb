{
 "cells": [
  {
   "cell_type": "markdown",
   "metadata": {},
   "source": [
    "> 关键词：线性代数 / 矩阵 / 基本定义\n",
    ">\n",
    "> 作者：郭俊麟 | 清华伯克利 数据科学\n",
    "\n",
    "人工智能作为近10年最火的学科之一，背后却有着三大基础学科支持着他的发展，分别是`线性代数`，`微积分`，还有`概率论`，对于各式各样的经典算法，无一例外的都用到了矩阵来承载来自不同维度的数据，而许多人的一大烦恼就是知道原理却无从下手代码的实践，显然一大原因是对实现算法的编程语言或者函数库不够熟悉，以下小编将从 Python 编程语言的角度来从头回顾`线性代数`的基本专有名词，揭开人工智能算法的最原始面纱。"
   ]
  },
  {
   "cell_type": "code",
   "execution_count": 1,
   "metadata": {},
   "outputs": [],
   "source": [
    "import numpy as np"
   ]
  },
  {
   "cell_type": "markdown",
   "metadata": {},
   "source": [
    "# 矩阵基本定义\n",
    "本节主要介绍不同矩阵名称背后的定义，并直接使用代码来计算我们希望看到的结果。\n",
    "\n",
    "$$\n",
    "A = \n",
    "\\begin{bmatrix} a_{11} & a_{12} & a_{13} & \\cdots & a_{1n} \\\\\n",
    "                a_{21} & a_{22} & a_{23} & \\cdots & a_{2n} \\\\\n",
    "                ...  & ...  & ...  & \\quad  & ... \\\\\n",
    "                a_{m1} & a_{m2} & a_{m3} & \\cdots & a_{mn}\\end{bmatrix}\n",
    "= \\big[a_{ij}\\big]\n",
    "$$"
   ]
  },
  {
   "cell_type": "code",
   "execution_count": 2,
   "metadata": {},
   "outputs": [
    {
     "name": "stdout",
     "output_type": "stream",
     "text": [
      "[[4 8 8 8 9 5 4 7]\n",
      " [8 6 8 2 9 0 3 8]\n",
      " [0 9 5 2 4 4 6 4]\n",
      " [7 0 3 4 2 3 3 7]\n",
      " [0 8 9 0 5 2 8 7]\n",
      " [9 4 0 0 2 9 8 4]\n",
      " [4 8 7 8 1 8 1 5]\n",
      " [9 8 9 5 9 1 2 8]\n",
      " [2 2 3 7 1 9 4 6]]\n"
     ]
    }
   ],
   "source": [
    "A = np.random.randint(0, 10, 72).reshape(9, 8)\n",
    "print(A)"
   ]
  },
  {
   "cell_type": "markdown",
   "metadata": {},
   "source": [
    "## 1. 矩阵元素\n",
    "$[\\ \\cdot\\ ]$ 中的 $a_{ij}$ 称为矩阵的元素，可以是数字，函数，实数，复数。东西用矩阵包起来的一大好处就是能实现批量处理，减少在脚本语言中循环计算的次数，进而提升代码运行速度，虽然还是不及C语言，但却已经能够和其他脚本语言拉开速度上的差距。\n",
    "\n",
    "## 2. 列 (台) / 行 (内地) - row\n",
    "矩阵中由上而下所计算出的数字，即 $a_{11}, a_{12}, a_{13} \\cdots a_{1n}$ 表示第一列 (台) / 行 (内地) 的元素。有趣的是两岸在描述矩阵行列的时候是反着来的，因此当台湾大学李宏毅老师讲课的时候需要内心自己转换一下索引的方向。"
   ]
  },
  {
   "cell_type": "code",
   "execution_count": 3,
   "metadata": {},
   "outputs": [
    {
     "data": {
      "text/plain": [
       "array([4, 8, 8, 8, 9, 5, 4, 7])"
      ]
     },
     "execution_count": 3,
     "metadata": {},
     "output_type": "execute_result"
    }
   ],
   "source": [
    "A[0]"
   ]
  },
  {
   "cell_type": "markdown",
   "metadata": {},
   "source": [
    "由于矩阵中仅为一列 (台) / 行 (内地)，又可以称之为 `列 (台) / 行 (内地)向量` (row vector)。"
   ]
  },
  {
   "cell_type": "markdown",
   "metadata": {},
   "source": [
    "## 3. 行 (台) / 列 (内地) - column\n",
    "矩阵中由左而右所计算出的数字，即 $a_{12}, a_{22}, a_{32} \\cdots a_{m2}$ 表示第二行 (台) / 列 (内地) 的元素。"
   ]
  },
  {
   "cell_type": "code",
   "execution_count": 4,
   "metadata": {},
   "outputs": [
    {
     "data": {
      "text/plain": [
       "array([[8],\n",
       "       [6],\n",
       "       [9],\n",
       "       [0],\n",
       "       [8],\n",
       "       [4],\n",
       "       [8],\n",
       "       [8],\n",
       "       [2]])"
      ]
     },
     "execution_count": 4,
     "metadata": {},
     "output_type": "execute_result"
    }
   ],
   "source": [
    "A[:, 1:2]"
   ]
  },
  {
   "cell_type": "markdown",
   "metadata": {},
   "source": [
    "由于矩阵中仅为一行 (台) / 列 (内地)，又可以称之为 `行 (台) / 列 (内地)向量` (column vector)。"
   ]
  },
  {
   "cell_type": "markdown",
   "metadata": {},
   "source": [
    "## 4. 矩阵阶数 - order\n",
    "以 `总列数`x`总行数` 的方式表示，一般皆置于矩阵的右下角，例如 $A_{9\\times8}$。"
   ]
  },
  {
   "cell_type": "code",
   "execution_count": 5,
   "metadata": {},
   "outputs": [
    {
     "data": {
      "text/plain": [
       "(9, 8)"
      ]
     },
     "execution_count": 5,
     "metadata": {},
     "output_type": "execute_result"
    }
   ],
   "source": [
    "A.shape"
   ]
  },
  {
   "cell_type": "markdown",
   "metadata": {},
   "source": [
    "## 5. 复数矩阵\n",
    "矩阵中的函数如果有复数形式的值，则归类其为复数矩阵。"
   ]
  },
  {
   "cell_type": "code",
   "execution_count": 6,
   "metadata": {},
   "outputs": [],
   "source": [
    "B = np.array([[1+1.j, 2-1.j],\n",
    "              [3-2.j, 4+5.j]])"
   ]
  },
  {
   "cell_type": "code",
   "execution_count": 7,
   "metadata": {},
   "outputs": [
    {
     "data": {
      "text/plain": [
       "dtype('complex128')"
      ]
     },
     "execution_count": 7,
     "metadata": {},
     "output_type": "execute_result"
    }
   ],
   "source": [
    "B.dtype"
   ]
  },
  {
   "cell_type": "markdown",
   "metadata": {},
   "source": [
    "## 6. 方阵\n",
    "矩阵中的行列数相等时，该矩阵称为方阵，令 `行数=n` 时，则称该矩阵为 n 阶方阵。"
   ]
  },
  {
   "cell_type": "code",
   "execution_count": 8,
   "metadata": {},
   "outputs": [
    {
     "name": "stdout",
     "output_type": "stream",
     "text": [
      "[[6 0 7]\n",
      " [5 9 8]\n",
      " [7 8 3]]\n"
     ]
    }
   ],
   "source": [
    "C = np.random.randint(0, 10, 9).reshape(3, 3)\n",
    "print(C)    # 3 阶方阵"
   ]
  },
  {
   "cell_type": "markdown",
   "metadata": {},
   "source": [
    "## 7. 子矩阵 - submatrix\n",
    "在 n 阶方阵的前提下，取方阵中的元素构成低于 n 阶的矩阵。"
   ]
  },
  {
   "cell_type": "code",
   "execution_count": 9,
   "metadata": {},
   "outputs": [
    {
     "data": {
      "text/plain": [
       "array([[6, 0],\n",
       "       [5, 9]])"
      ]
     },
     "execution_count": 9,
     "metadata": {},
     "output_type": "execute_result"
    }
   ],
   "source": [
    "C[0:2, 0:2]"
   ]
  },
  {
   "cell_type": "code",
   "execution_count": 10,
   "metadata": {},
   "outputs": [
    {
     "data": {
      "text/plain": [
       "array([[6, 0],\n",
       "       [7, 8]])"
      ]
     },
     "execution_count": 10,
     "metadata": {},
     "output_type": "execute_result"
    }
   ],
   "source": [
    "C[::2, 0:2]"
   ]
  },
  {
   "cell_type": "code",
   "execution_count": 11,
   "metadata": {},
   "outputs": [
    {
     "data": {
      "text/plain": [
       "array([[6, 0, 7],\n",
       "       [5, 9, 8]])"
      ]
     },
     "execution_count": 11,
     "metadata": {},
     "output_type": "execute_result"
    }
   ],
   "source": [
    "C[0:2, 0:]"
   ]
  },
  {
   "cell_type": "code",
   "execution_count": 12,
   "metadata": {},
   "outputs": [
    {
     "data": {
      "text/plain": [
       "array([[6, 0],\n",
       "       [5, 9],\n",
       "       [7, 8]])"
      ]
     },
     "execution_count": 12,
     "metadata": {},
     "output_type": "execute_result"
    }
   ],
   "source": [
    "C[0:, 0:2]"
   ]
  },
  {
   "cell_type": "code",
   "execution_count": 13,
   "metadata": {},
   "outputs": [
    {
     "data": {
      "text/plain": [
       "8"
      ]
     },
     "execution_count": 13,
     "metadata": {},
     "output_type": "execute_result"
    }
   ],
   "source": [
    "C[2, 1]"
   ]
  },
  {
   "cell_type": "markdown",
   "metadata": {},
   "source": [
    "## 8. 主子矩阵 - Principle submatrix\n",
    "如果所取的子矩阵中对角元素恰为矩阵对角线元素，称该子矩阵为主子矩阵。"
   ]
  },
  {
   "cell_type": "code",
   "execution_count": 14,
   "metadata": {},
   "outputs": [
    {
     "data": {
      "text/plain": [
       "array([[6, 7],\n",
       "       [7, 3]])"
      ]
     },
     "execution_count": 14,
     "metadata": {},
     "output_type": "execute_result"
    }
   ],
   "source": [
    "C[::2, ::2]"
   ]
  },
  {
   "cell_type": "code",
   "execution_count": 15,
   "metadata": {},
   "outputs": [
    {
     "data": {
      "text/plain": [
       "array([[6, 0],\n",
       "       [5, 9]])"
      ]
     },
     "execution_count": 15,
     "metadata": {},
     "output_type": "execute_result"
    }
   ],
   "source": [
    "C[:2, :2]"
   ]
  },
  {
   "cell_type": "code",
   "execution_count": 16,
   "metadata": {},
   "outputs": [
    {
     "data": {
      "text/plain": [
       "array([[9, 8],\n",
       "       [8, 3]])"
      ]
     },
     "execution_count": 16,
     "metadata": {},
     "output_type": "execute_result"
    }
   ],
   "source": [
    "C[1:3, 1:3]"
   ]
  },
  {
   "cell_type": "markdown",
   "metadata": {},
   "source": [
    "## 9. 对角矩阵 - Diagonal matrix\n",
    "在方阵的前提下，如果对角线上的元素不全为 0，而其他元素皆为 0 时，该矩阵为对角矩阵。"
   ]
  },
  {
   "cell_type": "code",
   "execution_count": 17,
   "metadata": {},
   "outputs": [
    {
     "data": {
      "text/plain": [
       "array([6, 9, 3])"
      ]
     },
     "execution_count": 17,
     "metadata": {},
     "output_type": "execute_result"
    }
   ],
   "source": [
    "np.diag(C)"
   ]
  },
  {
   "cell_type": "code",
   "execution_count": 18,
   "metadata": {},
   "outputs": [
    {
     "data": {
      "text/plain": [
       "array([[6, 0, 0],\n",
       "       [0, 9, 0],\n",
       "       [0, 0, 3]])"
      ]
     },
     "execution_count": 18,
     "metadata": {},
     "output_type": "execute_result"
    }
   ],
   "source": [
    "np.diag(np.diag(C))"
   ]
  },
  {
   "cell_type": "markdown",
   "metadata": {},
   "source": [
    "## 10. 单位矩阵 - Unit matrix / Identity matrix\n",
    "在对角矩阵中，如果对角线上的元素皆为 1，则称之单位矩阵。"
   ]
  },
  {
   "cell_type": "code",
   "execution_count": 19,
   "metadata": {},
   "outputs": [
    {
     "data": {
      "text/plain": [
       "array([[1., 0., 0.],\n",
       "       [0., 1., 0.],\n",
       "       [0., 0., 1.]])"
      ]
     },
     "execution_count": 19,
     "metadata": {},
     "output_type": "execute_result"
    }
   ],
   "source": [
    "np.diag(np.ones(C.shape[0]))"
   ]
  }
 ],
 "metadata": {
  "kernelspec": {
   "display_name": "Python 3",
   "language": "python",
   "name": "python3"
  },
  "language_info": {
   "codemirror_mode": {
    "name": "ipython",
    "version": 3
   },
   "file_extension": ".py",
   "mimetype": "text/x-python",
   "name": "python",
   "nbconvert_exporter": "python",
   "pygments_lexer": "ipython3",
   "version": "3.6.2"
  }
 },
 "nbformat": 4,
 "nbformat_minor": 2
}
