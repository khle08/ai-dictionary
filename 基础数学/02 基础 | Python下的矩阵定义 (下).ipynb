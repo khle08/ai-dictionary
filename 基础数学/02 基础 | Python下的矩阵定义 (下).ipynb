{
 "cells": [
  {
   "cell_type": "markdown",
   "metadata": {},
   "source": [
    "> 关键词：线性代数 / 矩阵 / 基本定义\n",
    "\n",
    "矩阵对于算法就如同人对于食物般的关系，已经到了密不可分的状态了，在神经网络里，矩阵代表了每层神经元之间的链接，在集成算法里，矩阵记录了每次分类器更新的残差，在马可夫链里，矩阵表示了不同状态下的条件转移概率，矩阵的重要性已经是不言自明了。除了上集说到的方阵，子矩阵，对角矩阵，与单位矩阵之外，接着要进一步介绍一些常用且方便的矩阵，包含了以下几种矩阵类型：\n",
    "+ 纯量矩阵\n",
    "+ 三角矩阵\n",
    "+ 共轭矩阵\n",
    "+ 对称矩阵\n",
    "+ 正交矩阵\n",
    "\n",
    "当然矩阵的类型远不止如此，而这几种矩阵在了解的时候不需要太多先验知识，因此才能在一开始率先登场！"
   ]
  },
  {
   "cell_type": "code",
   "execution_count": 1,
   "metadata": {},
   "outputs": [],
   "source": [
    "import numpy as np"
   ]
  },
  {
   "cell_type": "markdown",
   "metadata": {},
   "source": [
    "# 矩阵基本定义\n",
    "本节主要介绍不同矩阵名称背后的定义，并直接使用代码来计算我们希望看到的结果。\n",
    "\n",
    "$$\n",
    "A = \n",
    "\\begin{bmatrix} a_{11} & a_{12} & a_{13} & \\cdots & a_{1n} \\\\\n",
    "                a_{21} & a_{22} & a_{23} & \\cdots & a_{2n} \\\\\n",
    "                ...  & ...  & ...  & \\quad  & ... \\\\\n",
    "                a_{m1} & a_{m2} & a_{m3} & \\cdots & a_{mn}\\end{bmatrix}\n",
    "= \\big[a_{ij}\\big]\n",
    "$$\n",
    "\n",
    "$[\\ \\cdot\\ ]$ 中的 $a_{ij}$ 称为矩阵的元素，可以是数字，函数，实数，复数。在 python 代码中的`numpy`模块几乎可以说是数值计算的唯一选择。"
   ]
  },
  {
   "cell_type": "code",
   "execution_count": 2,
   "metadata": {
    "scrolled": true
   },
   "outputs": [
    {
     "name": "stdout",
     "output_type": "stream",
     "text": [
      "[[5 4 5 8 5 7 0 7]\n",
      " [5 6 4 0 9 8 6 5]\n",
      " [1 2 9 6 7 7 3 5]\n",
      " [3 4 7 8 4 6 9 2]\n",
      " [4 8 1 3 5 4 8 4]\n",
      " [5 1 5 7 3 9 9 8]\n",
      " [0 8 4 1 6 9 3 2]\n",
      " [4 3 0 3 6 4 5 9]\n",
      " [2 8 6 3 5 5 3 4]]\n"
     ]
    }
   ],
   "source": [
    "A = np.random.randint(0, 10, 72).reshape(9, 8)\n",
    "print(A)"
   ]
  },
  {
   "cell_type": "markdown",
   "metadata": {},
   "source": [
    "## 11. 纯量矩阵 - Scalar matrix\n",
    "在对角矩阵中，主对角线上的元素皆为某一常数 C 时，则称之为纯量矩阵。"
   ]
  },
  {
   "cell_type": "code",
   "execution_count": 20,
   "metadata": {},
   "outputs": [
    {
     "data": {
      "text/plain": [
       "array([[5, 0, 0],\n",
       "       [0, 5, 0],\n",
       "       [0, 0, 5]])"
      ]
     },
     "execution_count": 20,
     "metadata": {},
     "output_type": "execute_result"
    }
   ],
   "source": [
    "c = 5\n",
    "np.diag([c, c, c])"
   ]
  },
  {
   "cell_type": "markdown",
   "metadata": {},
   "source": [
    "## 12. 上三角矩阵 - Upper triangular matrix\n",
    "在方阵的前提下，主对角线以下元素皆为 0 时，则称之为上三角矩阵。"
   ]
  },
  {
   "cell_type": "code",
   "execution_count": 21,
   "metadata": {},
   "outputs": [
    {
     "data": {
      "text/plain": [
       "array([[5, 4, 5, 8, 5, 7, 0, 7],\n",
       "       [0, 6, 4, 0, 9, 8, 6, 5],\n",
       "       [0, 0, 9, 6, 7, 7, 3, 5],\n",
       "       [0, 0, 0, 8, 4, 6, 9, 2],\n",
       "       [0, 0, 0, 0, 5, 4, 8, 4],\n",
       "       [0, 0, 0, 0, 0, 9, 9, 8],\n",
       "       [0, 0, 0, 0, 0, 0, 3, 2],\n",
       "       [0, 0, 0, 0, 0, 0, 0, 9],\n",
       "       [0, 0, 0, 0, 0, 0, 0, 0]])"
      ]
     },
     "execution_count": 21,
     "metadata": {},
     "output_type": "execute_result"
    }
   ],
   "source": [
    "np.triu(A)"
   ]
  },
  {
   "cell_type": "markdown",
   "metadata": {},
   "source": [
    "## 13. 下三角矩阵 - Lower triangular matrix\n",
    "在方阵的前提下，主对角线以上元素皆为 0 时，则称之为下三角矩阵。"
   ]
  },
  {
   "cell_type": "code",
   "execution_count": 22,
   "metadata": {},
   "outputs": [
    {
     "data": {
      "text/plain": [
       "array([[5, 0, 0, 0, 0, 0, 0, 0],\n",
       "       [5, 6, 0, 0, 0, 0, 0, 0],\n",
       "       [1, 2, 9, 0, 0, 0, 0, 0],\n",
       "       [3, 4, 7, 8, 0, 0, 0, 0],\n",
       "       [4, 8, 1, 3, 5, 0, 0, 0],\n",
       "       [5, 1, 5, 7, 3, 9, 0, 0],\n",
       "       [0, 8, 4, 1, 6, 9, 3, 0],\n",
       "       [4, 3, 0, 3, 6, 4, 5, 9],\n",
       "       [2, 8, 6, 3, 5, 5, 3, 4]])"
      ]
     },
     "execution_count": 22,
     "metadata": {},
     "output_type": "execute_result"
    }
   ],
   "source": [
    "np.tril(A)"
   ]
  },
  {
   "cell_type": "markdown",
   "metadata": {},
   "source": [
    "## 14. 共轭矩阵 - Conjugate matrix\n",
    "把 A 矩阵的元素皆取共轭复数后，该新的矩阵为 A 矩阵的共轭矩阵，以 $\\bar{A}$ 表示。"
   ]
  },
  {
   "cell_type": "code",
   "execution_count": 23,
   "metadata": {},
   "outputs": [
    {
     "data": {
      "text/plain": [
       "array([[1.-1.j, 2.+1.j],\n",
       "       [3.+2.j, 4.-5.j]])"
      ]
     },
     "execution_count": 23,
     "metadata": {},
     "output_type": "execute_result"
    }
   ],
   "source": [
    "np.conj(B)"
   ]
  },
  {
   "cell_type": "markdown",
   "metadata": {},
   "source": [
    "## 15. 转置矩阵 - Transpose matrix\n",
    "把 A 矩阵中的行列编号互换，元素不变，只变位置后的结果称为 A 矩阵的转置矩阵，以 $A^T$ 表示。"
   ]
  },
  {
   "cell_type": "code",
   "execution_count": 24,
   "metadata": {},
   "outputs": [
    {
     "data": {
      "text/plain": [
       "array([[5, 5, 1, 3, 4, 5, 0, 4, 2],\n",
       "       [4, 6, 2, 4, 8, 1, 8, 3, 8],\n",
       "       [5, 4, 9, 7, 1, 5, 4, 0, 6],\n",
       "       [8, 0, 6, 8, 3, 7, 1, 3, 3],\n",
       "       [5, 9, 7, 4, 5, 3, 6, 6, 5],\n",
       "       [7, 8, 7, 6, 4, 9, 9, 4, 5],\n",
       "       [0, 6, 3, 9, 8, 9, 3, 5, 3],\n",
       "       [7, 5, 5, 2, 4, 8, 2, 9, 4]])"
      ]
     },
     "execution_count": 24,
     "metadata": {},
     "output_type": "execute_result"
    }
   ],
   "source": [
    "A.T"
   ]
  },
  {
   "cell_type": "markdown",
   "metadata": {},
   "source": [
    "## 16. 共轭转置矩阵 - Conjugate transpose matrix\n",
    "把 A 矩阵的元素皆取共轭复数后，再取转置；或将 A 矩阵的元素先取转置后，再取共轭复数，所得到的新矩阵即为共轭转置矩阵，以 $A^\\star$ 表示。"
   ]
  },
  {
   "cell_type": "code",
   "execution_count": 25,
   "metadata": {},
   "outputs": [
    {
     "data": {
      "text/plain": [
       "matrix([[1.-1.j, 3.+2.j],\n",
       "        [2.+1.j, 4.-5.j]])"
      ]
     },
     "execution_count": 25,
     "metadata": {},
     "output_type": "execute_result"
    }
   ],
   "source": [
    "np.matrix(B).H"
   ]
  },
  {
   "cell_type": "code",
   "execution_count": 26,
   "metadata": {},
   "outputs": [
    {
     "data": {
      "text/plain": [
       "array([[1.-1.j, 3.+2.j],\n",
       "       [2.+1.j, 4.-5.j]])"
      ]
     },
     "execution_count": 26,
     "metadata": {},
     "output_type": "execute_result"
    }
   ],
   "source": [
    "np.conj(B).T"
   ]
  },
  {
   "cell_type": "markdown",
   "metadata": {},
   "source": [
    "## 17. 对称矩阵 - Symmetrix matrix\n",
    "在方阵的前提下，如果矩阵 A 的转置等于 A 本身，称之为对称矩阵。"
   ]
  },
  {
   "cell_type": "code",
   "execution_count": 27,
   "metadata": {},
   "outputs": [],
   "source": [
    "def symmetrixIO(mat):\n",
    "    return np.sum(mat != mat.T) == 0"
   ]
  },
  {
   "cell_type": "code",
   "execution_count": 28,
   "metadata": {},
   "outputs": [
    {
     "data": {
      "text/plain": [
       "False"
      ]
     },
     "execution_count": 28,
     "metadata": {},
     "output_type": "execute_result"
    }
   ],
   "source": [
    "symmetrixIO(C)"
   ]
  },
  {
   "cell_type": "markdown",
   "metadata": {},
   "source": [
    "## 18. 反对称矩阵 - Skew symmetrix matrix\n",
    "在方阵的前提下，如果矩阵 A 的转置矩阵恰为 A 的相反矩阵 -A，则称之为反对称矩阵。"
   ]
  },
  {
   "cell_type": "code",
   "execution_count": 29,
   "metadata": {},
   "outputs": [],
   "source": [
    "def skew_symmetrixIO(mat):\n",
    "    return np.sum(-mat != mat.T) == 0"
   ]
  },
  {
   "cell_type": "code",
   "execution_count": 30,
   "metadata": {},
   "outputs": [
    {
     "data": {
      "text/plain": [
       "True"
      ]
     },
     "execution_count": 30,
     "metadata": {},
     "output_type": "execute_result"
    }
   ],
   "source": [
    "skew_symmetrixIO(np.array([[ 0, 2,  5],\n",
    "                           [-2, 0, -7],\n",
    "                           [-5, 7,  0]]))"
   ]
  },
  {
   "cell_type": "markdown",
   "metadata": {},
   "source": [
    "## 19. 厄米特矩阵 - Hermitian matrix\n",
    "在方阵的前提下，矩阵 A 的共轭转置矩阵恰好等于原矩阵 A，则称之为厄米特矩阵。"
   ]
  },
  {
   "cell_type": "code",
   "execution_count": 31,
   "metadata": {},
   "outputs": [],
   "source": [
    "def hermitianIO(mat):\n",
    "    return np.sum(mat != np.conj(mat).T) == 0"
   ]
  },
  {
   "cell_type": "code",
   "execution_count": 32,
   "metadata": {
    "scrolled": true
   },
   "outputs": [
    {
     "data": {
      "text/plain": [
       "True"
      ]
     },
     "execution_count": 32,
     "metadata": {},
     "output_type": "execute_result"
    }
   ],
   "source": [
    "hermitianIO(np.array([[    1, 1+1.j,   5],\n",
    "                      [1-1.j,     2, 1.j],\n",
    "                      [    5,  -1.j,   7]]))"
   ]
  },
  {
   "cell_type": "markdown",
   "metadata": {},
   "source": [
    "---"
   ]
  },
  {
   "cell_type": "code",
   "execution_count": 1,
   "metadata": {},
   "outputs": [],
   "source": [
    "from linalg import *"
   ]
  },
  {
   "cell_type": "markdown",
   "metadata": {},
   "source": [
    "## 20. 正交矩阵 - Orthogonal matrix\n",
    "正交的意思就是指两个向量彼此互相垂直，而正交矩阵则进一步把垂直的概念拓展到矩阵中，矩阵里的每一个行和列向量必须彼此互相垂直，而且向量长度是1的情况下，才称之为正交矩阵。总结矩阵的规则后，我们得到在方阵的前提下，满足以下条件则称之为正交矩阵：\n",
    "1. $A^T = A^{-1}$\n",
    "2. $A^TA = AA^T = \\mathbf{I}$\n",
    "3. $|A|\\pm 1$\n",
    "\n",
    "因此很明显的，一个正交矩阵必定是个方阵，而这一系列的条件判断同样可以被写成一个函数用来检测矩阵是否正交。"
   ]
  },
  {
   "cell_type": "code",
   "execution_count": 5,
   "metadata": {},
   "outputs": [],
   "source": [
    "def orthogonalIO(mat, decimal=4):\n",
    "    # A^T = A^(-1)\n",
    "    cond1 = np.sum(np.round(mat.T, decimal) !=\n",
    "                   np.round(inverse(mat), decimal)) == 0\n",
    "    # A^T . A = A . A^T\n",
    "    cond2 = np.sum(np.round(np.dot(mat.T, mat), decimal) !=\n",
    "                   np.round(np.dot(mat, mat.T), decimal)) == 0\n",
    "    # |A| = +-1\n",
    "    cond3 = np.round(np.abs(determinant(mat)), decimal) == 1\n",
    "    return np.sum([cond1, cond2, cond3]) == 3"
   ]
  },
  {
   "cell_type": "code",
   "execution_count": 6,
   "metadata": {},
   "outputs": [],
   "source": [
    "B = np.array([[-0.23939017,  0.58743526, -0.77305379],\n",
    "              [ 0.81921268, -0.30515101, -0.48556508],\n",
    "              [-0.52113619, -0.74953498, -0.40818426]])"
   ]
  },
  {
   "cell_type": "code",
   "execution_count": 7,
   "metadata": {
    "scrolled": true
   },
   "outputs": [
    {
     "data": {
      "text/plain": [
       "True"
      ]
     },
     "execution_count": 7,
     "metadata": {},
     "output_type": "execute_result"
    }
   ],
   "source": [
    "orthogonalIO(B, decimal=4)"
   ]
  },
  {
   "cell_type": "markdown",
   "metadata": {},
   "source": [
    "为了更深入了解矩阵的底层运算，行列式值和逆矩阵都用的是我们自定义的函数，如果想看具体实现方法，欢迎持续关注发布的文章！在这个函数中我们首先就遇到了一个很简单的理论与实际代码之间的差异，那就是小数点近似问题。由于任意行列向量必须是单位向量，常常在实际情况是一个近似的结果，因此在检测正交与否的时候也必须采用近似的方式操作。"
   ]
  }
 ],
 "metadata": {
  "kernelspec": {
   "display_name": "Python 3",
   "language": "python",
   "name": "python3"
  },
  "language_info": {
   "codemirror_mode": {
    "name": "ipython",
    "version": 3
   },
   "file_extension": ".py",
   "mimetype": "text/x-python",
   "name": "python",
   "nbconvert_exporter": "python",
   "pygments_lexer": "ipython3",
   "version": "3.6.2"
  }
 },
 "nbformat": 4,
 "nbformat_minor": 2
}
