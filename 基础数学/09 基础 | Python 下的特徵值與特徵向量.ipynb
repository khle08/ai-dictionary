{
 "cells": [
  {
   "cell_type": "markdown",
   "metadata": {},
   "source": [
    "> 关键词：线性代数 / 独立性 / 基础数学\n",
    ">\n",
    "> 再复杂的算法，也逃脱不了线性代数的掌心，AI 算法辞典帮你复习矩阵计算！\n",
    "\n",
    "矩阵计算是世界上所有算法的祖宗，今天小编就来为读者们好好复习两个知识点：`特徵值` 与 `特徵向量`！特殊的矩阵特殊处理，往往可以通过很巧妙的方式避开非特殊情况下的各种麻烦，理解了矩阵的特殊性才有机会让我们在面对不同问题的时候看到捷径的可能，因此这些性质至关重要！"
   ]
  },
  {
   "cell_type": "code",
   "execution_count": 1,
   "metadata": {},
   "outputs": [],
   "source": [
    "import numpy as np\n",
    "import linalg as la"
   ]
  },
  {
   "cell_type": "markdown",
   "metadata": {},
   "source": [
    "# 定义 Definition\n",
    "令 $A$ 为方阵，$X$ 为行向量，若存在一常数 $\\lambda$ 使得：$AX = \\lambda X$，则称向量 $X$ 为 $A$ 的特征向量。换句话说，特征向量意在找寻一个向量 $X$ 经过矩阵 $A$ 的映射后，该向量的方向不变，只改变了长度。"
   ]
  },
  {
   "cell_type": "markdown",
   "metadata": {},
   "source": [
    "## 1. 求解方法\n",
    "整理特征向量的算式得：\n",
    "\n",
    "$$\\begin{align}\n",
    "AX &= \\lambda X\n",
    "\\\\\n",
    "(\\lambda\\mathbf{I} - A)X &= 0\n",
    "\\end{align}$$\n",
    "\n",
    "因为 $X$ 为非 0 向量，所以：$|\\lambda \\mathbf{I} - A| = 0$，展开后使 $\\lambda$ 为变数的方程式，又称之为 `特征多项式`，求解后即可求出特征向量 $X$。\n",
    "\n",
    "$$\n",
    "|\\lambda \\mathbf{I} - A| = \\begin{vmatrix}\n",
    "    \\lambda - a_{11} & -a_{12} & -a_{13} & \\cdots & -a_{1n} \\\\\n",
    "    -a_{21} & \\lambda - a_{22} & -a_{23} & \\cdots & -a_{2n} \\\\\n",
    "    -a_{31} & -a_{32} & \\lambda - a_{33} & \\cdots & -a_{3n} \\\\\n",
    "    \\cdots & \\cdots & \\cdots &  & \\cdots \\\\\n",
    "    -a_{n1} & -a_{n2} & -a_{33} & \\cdots & \\lambda - a_{nn}\n",
    "\\end{vmatrix} = 0\n",
    "\\\\\n",
    "\\quad\n",
    "\\\\\n",
    "\\rightarrow \\lambda^n - C_{n-1}\\lambda^{n-1} + C_{n-2}\\lambda^{n-2} - C_{n-3}\\lambda^{n-3} + \\cdots + (-1)^nC_{n} = 0\n",
    "$$"
   ]
  },
  {
   "cell_type": "markdown",
   "metadata": {},
   "source": [
    "### 1-1 例题"
   ]
  },
  {
   "cell_type": "code",
   "execution_count": 2,
   "metadata": {},
   "outputs": [],
   "source": [
    "A = np.array([[1, 2],\n",
    "              [3, 2]])    # Eigenvalue? Eigenvector?"
   ]
  },
  {
   "cell_type": "code",
   "execution_count": 4,
   "metadata": {},
   "outputs": [],
   "source": [
    "val, vec= np.linalg.eig(A)"
   ]
  },
  {
   "cell_type": "code",
   "execution_count": 5,
   "metadata": {},
   "outputs": [
    {
     "data": {
      "text/plain": [
       "array([-1.,  4.])"
      ]
     },
     "execution_count": 5,
     "metadata": {},
     "output_type": "execute_result"
    }
   ],
   "source": [
    "val"
   ]
  },
  {
   "cell_type": "code",
   "execution_count": 6,
   "metadata": {},
   "outputs": [
    {
     "data": {
      "text/plain": [
       "array([[-0.70710678, -0.5547002 ],\n",
       "       [ 0.70710678, -0.83205029]])"
      ]
     },
     "execution_count": 6,
     "metadata": {},
     "output_type": "execute_result"
    }
   ],
   "source": [
    "vec"
   ]
  },
  {
   "cell_type": "markdown",
   "metadata": {},
   "source": [
    "### 【Solution】\n",
    "如果用手算，算法如下：\n",
    "\n",
    "$$\\begin{align}\n",
    "|\\lambda\\mathbf{I} - A| &= \\begin{vmatrix}\n",
    "    \\lambda - 1 & -2 \\\\\n",
    "    -3 & \\lambda - 2\n",
    "\\end{vmatrix} = \\lambda^2 - (1 + 2)\\lambda + \\begin{vmatrix}\n",
    "    1 & 2 \\\\\n",
    "    3 & 2\n",
    "\\end{vmatrix}\n",
    "\\\\\n",
    "&= \\lambda^2 - 3\\lambda - 4 = (\\lambda - 4)(\n",
    "\\lambda + 1) = 0\n",
    "\\end{align}\n",
    "\\\\\n",
    "\\lambda = 4\\quad or\\quad \\lambda = -1\n",
    "$$\n",
    "\n",
    "当 $\\lambda = 4$ 时：\n",
    "\n",
    "$$\n",
    "(\\lambda\\mathbf{I} - A)X = \\begin{bmatrix}\n",
    "    3 & -2 \\\\\n",
    "    -3 & 2\n",
    "\\end{bmatrix}\\begin{bmatrix}\n",
    "    x_1 \\\\\n",
    "    x_2\n",
    "\\end{bmatrix} = \\begin{bmatrix}\n",
    "    0 \\\\\n",
    "    0\n",
    "\\end{bmatrix} \\rightarrow \\begin{bmatrix}\n",
    "    x_1 \\\\\n",
    "    x_2\n",
    "\\end{bmatrix} = \\begin{bmatrix}\n",
    "    2 \\\\\n",
    "    3\n",
    "\\end{bmatrix}\n",
    "$$\n",
    "\n",
    "当 $\\lambda = -1$ 时：\n",
    "\n",
    "$$\n",
    "(\\lambda\\mathbf{I} - A)X = \\begin{bmatrix}\n",
    "    -2 & -2 \\\\\n",
    "    -3 & -3\n",
    "\\end{bmatrix}\\begin{bmatrix}\n",
    "    x_1 \\\\\n",
    "    x_2\n",
    "\\end{bmatrix} = \\begin{bmatrix}\n",
    "    0 \\\\\n",
    "    0\n",
    "\\end{bmatrix} \\rightarrow \\begin{bmatrix}\n",
    "    x_1 \\\\\n",
    "    x_2\n",
    "\\end{bmatrix} = \\begin{bmatrix}\n",
    "    1 \\\\\n",
    "    -1\n",
    "\\end{bmatrix}\n",
    "$$"
   ]
  },
  {
   "cell_type": "code",
   "execution_count": 8,
   "metadata": {},
   "outputs": [
    {
     "data": {
      "text/plain": [
       "0.5547001962252291"
      ]
     },
     "execution_count": 8,
     "metadata": {},
     "output_type": "execute_result"
    }
   ],
   "source": [
    "2 / np.sqrt(2**2 + 3**2)"
   ]
  },
  {
   "cell_type": "code",
   "execution_count": 9,
   "metadata": {},
   "outputs": [
    {
     "data": {
      "text/plain": [
       "0.8320502943378437"
      ]
     },
     "execution_count": 9,
     "metadata": {},
     "output_type": "execute_result"
    }
   ],
   "source": [
    "3 / np.sqrt(2**2 + 3**2)"
   ]
  },
  {
   "cell_type": "code",
   "execution_count": 10,
   "metadata": {},
   "outputs": [
    {
     "data": {
      "text/plain": [
       "0.7071067811865475"
      ]
     },
     "execution_count": 10,
     "metadata": {},
     "output_type": "execute_result"
    }
   ],
   "source": [
    "1 / np.sqrt(1**2 + 1**2)"
   ]
  },
  {
   "cell_type": "markdown",
   "metadata": {},
   "source": [
    "p.s. 在 numpy 的计算结果中，得出来的 $x_1, x_2$ 是一个归一化后的结果。"
   ]
  },
  {
   "cell_type": "markdown",
   "metadata": {},
   "source": [
    "## 2. 重要性质\n",
    "\n",
    "### 2-1\n",
    "若求出的特征值中有一个值为 0，则 $det(A) = 0$，即 $A$ 为 `奇异矩阵` singular matrix。\n",
    "\n",
    "证明：若 $\\lambda = 0$，则 $|-A| = 0 \\rightarrow |A| = 0$。"
   ]
  },
  {
   "cell_type": "code",
   "execution_count": 11,
   "metadata": {},
   "outputs": [],
   "source": [
    "def singularIO(mat):\n",
    "    val, vec = np.linalg.eig(mat)\n",
    "    return np.sum(val == 0) > 0"
   ]
  },
  {
   "cell_type": "code",
   "execution_count": 12,
   "metadata": {},
   "outputs": [
    {
     "data": {
      "text/plain": [
       "False"
      ]
     },
     "execution_count": 12,
     "metadata": {},
     "output_type": "execute_result"
    }
   ],
   "source": [
    "singularIO(A)"
   ]
  },
  {
   "cell_type": "code",
   "execution_count": 13,
   "metadata": {},
   "outputs": [],
   "source": [
    "B = np.array([[ 4, -4,  8],\n",
    "              [-4,  4, -8],\n",
    "              [ 8, -8, 16]])"
   ]
  },
  {
   "cell_type": "code",
   "execution_count": 14,
   "metadata": {},
   "outputs": [
    {
     "data": {
      "text/plain": [
       "True"
      ]
     },
     "execution_count": 14,
     "metadata": {},
     "output_type": "execute_result"
    }
   ],
   "source": [
    "singularIO(B)"
   ]
  },
  {
   "cell_type": "code",
   "execution_count": 15,
   "metadata": {},
   "outputs": [
    {
     "data": {
      "text/plain": [
       "1"
      ]
     },
     "execution_count": 15,
     "metadata": {},
     "output_type": "execute_result"
    }
   ],
   "source": [
    "np.linalg.matrix_rank(B)"
   ]
  },
  {
   "cell_type": "markdown",
   "metadata": {},
   "source": [
    "### 2-2\n",
    "$A^T$ 与 $A$ 具有相同的特征值，但是不同的特征向量。\n",
    "\n",
    "证明：\n",
    "\n",
    "$$\n",
    "|B^T| = |B| \\rightarrow |A - \\lambda\\mathbf{I}| = |(A - \\lambda\\mathbf{I})^T| = |A^T - \\lambda\\mathbf{I}|\n",
    "$$\n",
    "\n",
    "因此有相同特征值。\n",
    "\n",
    "$$\n",
    "(A - \\lambda\\mathbf{I})x_1 = 0\\quad and\\quad (A - \\lambda\\mathbf{I})x_2 = 0\n",
    "$$\n",
    "\n",
    "想要让 $x_1 = x_2$ 的话，需要 $A = A^T$，表示只有在实对称矩阵下的 $A$ 与 $A^T$ 才具有相同的特征向量。"
   ]
  },
  {
   "cell_type": "code",
   "execution_count": 16,
   "metadata": {},
   "outputs": [],
   "source": [
    "val_A, vec_A = np.linalg.eig(A)"
   ]
  },
  {
   "cell_type": "code",
   "execution_count": 17,
   "metadata": {},
   "outputs": [
    {
     "data": {
      "text/plain": [
       "array([-1.,  4.])"
      ]
     },
     "execution_count": 17,
     "metadata": {},
     "output_type": "execute_result"
    }
   ],
   "source": [
    "val_A"
   ]
  },
  {
   "cell_type": "code",
   "execution_count": 18,
   "metadata": {},
   "outputs": [
    {
     "data": {
      "text/plain": [
       "array([[-0.70710678, -0.5547002 ],\n",
       "       [ 0.70710678, -0.83205029]])"
      ]
     },
     "execution_count": 18,
     "metadata": {},
     "output_type": "execute_result"
    }
   ],
   "source": [
    "vec_A"
   ]
  },
  {
   "cell_type": "code",
   "execution_count": 19,
   "metadata": {},
   "outputs": [],
   "source": [
    "val_AT, vec_AT = np.linalg.eig(A.T)"
   ]
  },
  {
   "cell_type": "code",
   "execution_count": 20,
   "metadata": {},
   "outputs": [
    {
     "data": {
      "text/plain": [
       "array([-1.,  4.])"
      ]
     },
     "execution_count": 20,
     "metadata": {},
     "output_type": "execute_result"
    }
   ],
   "source": [
    "val_AT"
   ]
  },
  {
   "cell_type": "code",
   "execution_count": 21,
   "metadata": {},
   "outputs": [
    {
     "data": {
      "text/plain": [
       "array([[-0.83205029, -0.70710678],\n",
       "       [ 0.5547002 , -0.70710678]])"
      ]
     },
     "execution_count": 21,
     "metadata": {},
     "output_type": "execute_result"
    }
   ],
   "source": [
    "vec_AT"
   ]
  },
  {
   "cell_type": "markdown",
   "metadata": {},
   "source": [
    "### 2-3\n",
    "若 A 的特征值为 $\\lambda_1, \\lambda_2, \\dots, \\lambda_n$，且对应的特征向量为 $x_1, x_2, \\dots, x_n$，则 $A^{-1}$ 的特征值为 $\\lambda_1^{-1}, \\lambda_2^{-1}, \\dots, \\lambda_n^{-1}$，特征向量仍然为 $x_1, x_2, \\dots, x_n$。\n",
    "\n",
    "证明：\n",
    "\n",
    "$$\n",
    "因\\ Ax = \\lambda x\n",
    "\\\\\n",
    "x = A^{-1}(\\lambda x) = \\lambda A^{-1}x\n",
    "\\\\\n",
    "\\frac{x}{\\lambda} = A^{-1}x\n",
    "$$\n",
    "\n",
    "故知 $A^{-1}$ 的特征值为 $\\frac{1}{\\lambda}$，而特征向量仍然为 $x$。"
   ]
  },
  {
   "cell_type": "code",
   "execution_count": 22,
   "metadata": {},
   "outputs": [],
   "source": [
    "val_Ai, vec_Ai = np.linalg.eig(la.inverse(A))"
   ]
  },
  {
   "cell_type": "code",
   "execution_count": 23,
   "metadata": {},
   "outputs": [
    {
     "data": {
      "text/plain": [
       "array([-1.  ,  0.25])"
      ]
     },
     "execution_count": 23,
     "metadata": {},
     "output_type": "execute_result"
    }
   ],
   "source": [
    "val_Ai"
   ]
  },
  {
   "cell_type": "code",
   "execution_count": 24,
   "metadata": {},
   "outputs": [
    {
     "data": {
      "text/plain": [
       "array([[-0.70710678, -0.5547002 ],\n",
       "       [ 0.70710678, -0.83205029]])"
      ]
     },
     "execution_count": 24,
     "metadata": {},
     "output_type": "execute_result"
    }
   ],
   "source": [
    "vec_Ai"
   ]
  },
  {
   "cell_type": "markdown",
   "metadata": {},
   "source": [
    "### 2-4\n",
    "若 A 的特征值为 $\\lambda_1, \\lambda_2, \\dots, \\lambda_n$，且对应的特征向量为 $x_1, x_2, \\dots, x_n$，则 $A^{m}$ 的特征值为 $\\lambda_1^{m}, \\lambda_2^{m}, \\dots, \\lambda_n^{m}$，特征向量仍然为 $x_1, x_2, \\dots, x_n$。\n",
    "\n",
    "证明：因 $Ax = \\lambda x\\rightarrow A(Ax) = \\lambda Ax$，所以 $A^2x = \\lambda(\\lambda x) = \\lambda^2 x$。同理可以证明其他高阶的矩阵状态。"
   ]
  },
  {
   "cell_type": "code",
   "execution_count": 29,
   "metadata": {},
   "outputs": [],
   "source": [
    "val2, vec2 = np.linalg.eig(np.dot(A, A))"
   ]
  },
  {
   "cell_type": "code",
   "execution_count": 30,
   "metadata": {},
   "outputs": [
    {
     "data": {
      "text/plain": [
       "array([ 1., 16.])"
      ]
     },
     "execution_count": 30,
     "metadata": {},
     "output_type": "execute_result"
    }
   ],
   "source": [
    "val2"
   ]
  },
  {
   "cell_type": "code",
   "execution_count": 31,
   "metadata": {},
   "outputs": [
    {
     "data": {
      "text/plain": [
       "array([[-0.70710678, -0.5547002 ],\n",
       "       [ 0.70710678, -0.83205029]])"
      ]
     },
     "execution_count": 31,
     "metadata": {},
     "output_type": "execute_result"
    }
   ],
   "source": [
    "vec2"
   ]
  },
  {
   "cell_type": "markdown",
   "metadata": {},
   "source": [
    "### 2-5\n",
    "若 A 的特征值为 $\\lambda_1, \\lambda_2, \\dots, \\lambda_n$，且对应的特征向量为 $x_1, x_2, \\dots, x_n$，则 $kA^{m}$ 的特征值为 $k\\lambda_1^{m}, k\\lambda_2^{m}, \\dots, k\\lambda_n^{m}$，特征向量仍然为 $x_1, x_2, \\dots, x_n$，其中 k 为常数。\n",
    "\n",
    "证明：因 $Ax = \\lambda x\\rightarrow A^mx = \\lambda^mx$，所以 $kA^mx = k\\lambda^mx = \\lambda^2 x$，故得证。"
   ]
  },
  {
   "cell_type": "code",
   "execution_count": 33,
   "metadata": {},
   "outputs": [],
   "source": [
    "valk, veck = np.linalg.eig(3 * np.dot(A, A).dot(A))"
   ]
  },
  {
   "cell_type": "code",
   "execution_count": 34,
   "metadata": {},
   "outputs": [
    {
     "data": {
      "text/plain": [
       "array([ -3., 192.])"
      ]
     },
     "execution_count": 34,
     "metadata": {},
     "output_type": "execute_result"
    }
   ],
   "source": [
    "valk"
   ]
  },
  {
   "cell_type": "code",
   "execution_count": 35,
   "metadata": {},
   "outputs": [
    {
     "data": {
      "text/plain": [
       "array([[-0.70710678, -0.5547002 ],\n",
       "       [ 0.70710678, -0.83205029]])"
      ]
     },
     "execution_count": 35,
     "metadata": {},
     "output_type": "execute_result"
    }
   ],
   "source": [
    "veck"
   ]
  },
  {
   "cell_type": "markdown",
   "metadata": {},
   "source": [
    "### 2-6\n",
    "不同特征值必定对应不同的特征向量，且特征向量必定线性独立。\n",
    "\n",
    "### 2-7\n",
    "若特征值 $\\lambda$ 为重根，且对应的特征向量为 $x_1, x_2, \\dots, x_k$，则 $C_1x_1 + C_2x_2 + \\cdots + C_kx_k$ 一样是对应于 $\\lambda$ 的特征向量。\n",
    "\n",
    "证明：\n",
    "\n",
    "$$\\begin{align}\n",
    "Ax_1 = \\lambda x_1 \\quad &\\rightarrow AC_1x_1 = \\lambda C_1x_1\n",
    "\\\\\n",
    "Ax_1 = \\lambda x_1 \\quad &\\rightarrow AC_1x_1 = \\lambda C_1x_1\n",
    "\\\\\n",
    "\\cdots &\n",
    "\\\\\n",
    "+)\\quad Ax_1 = \\lambda x_1 \\quad &\\rightarrow AC_1x_1 = \\lambda C_1x_1\n",
    "\\\\\n",
    "&\\Rightarrow A(C_1x_1 + C_2x_2 + \\cdots + C_kx_k)\n",
    "\\\\\n",
    "&= \\ \\lambda(C_1x_1 + C_2x_2 + \\cdots + C_kx_k)\n",
    "\\end{align}$$\n",
    "\n",
    "故得证。"
   ]
  },
  {
   "cell_type": "markdown",
   "metadata": {},
   "source": [
    "### 2-8\n",
    "若 $|A|\\neq 0, |B|\\neq 0$，则 $AB$ 与 $BA$ 的特征值相同。\n",
    "\n",
    "证明：\n",
    "\n",
    "$$\\begin{align}\n",
    "|\\lambda\\mathbf{I} - (AB)| &= |\\lambda AA^{-1} - AB| = |A(\\lambda A^{-1} - B)|\n",
    "\\\\\n",
    "&= |A||\\lambda A^{-1} - B| = |\\lambda A^{-1} - B||A|\n",
    "\\\\\n",
    "&= |(\\lambda A^{-1} - B)A| = |\\lambda\\mathbf{I} - BA|\n",
    "\\end{align}$$\n",
    "\n",
    "故两者的特征值相同。"
   ]
  },
  {
   "cell_type": "code",
   "execution_count": 36,
   "metadata": {},
   "outputs": [
    {
     "data": {
      "text/plain": [
       "-4.0"
      ]
     },
     "execution_count": 36,
     "metadata": {},
     "output_type": "execute_result"
    }
   ],
   "source": [
    "la.determinant(A)"
   ]
  },
  {
   "cell_type": "code",
   "execution_count": 46,
   "metadata": {},
   "outputs": [
    {
     "data": {
      "text/plain": [
       "-5.000000000000002"
      ]
     },
     "execution_count": 46,
     "metadata": {},
     "output_type": "execute_result"
    }
   ],
   "source": [
    "C = np.random.randint(0, 6, 4).reshape(2, 2)\n",
    "la.determinant(C)"
   ]
  },
  {
   "cell_type": "code",
   "execution_count": 48,
   "metadata": {},
   "outputs": [
    {
     "data": {
      "text/plain": [
       "array([27.26649916,  0.73350084])"
      ]
     },
     "execution_count": 48,
     "metadata": {},
     "output_type": "execute_result"
    }
   ],
   "source": [
    "vec_ab, _ = np.linalg.eig(np.dot(A, C))\n",
    "vec_ab"
   ]
  },
  {
   "cell_type": "code",
   "execution_count": 49,
   "metadata": {},
   "outputs": [
    {
     "data": {
      "text/plain": [
       "array([27.26649916,  0.73350084])"
      ]
     },
     "execution_count": 49,
     "metadata": {},
     "output_type": "execute_result"
    }
   ],
   "source": [
    "vec_ba, _ = np.linalg.eig(np.dot(C, A))\n",
    "vec_ba"
   ]
  },
  {
   "cell_type": "markdown",
   "metadata": {},
   "source": [
    "### 2-9\n",
    "1. 实对称矩阵的特征值必为实数\n",
    "2. 是对称矩阵不同的特征值对应的不同特征向量必定正交，即 $x_i^T\\cdot x_j = 0\\quad where\\dots i\\neq j$。\n",
    "3. 若 A 为实对称矩阵，且 $x_i, x_j$ 为不同特征值所对应的特征向量，则 $x_i^T\\mathbf{A}x_j = 0\\quad where\\dots i\\neq j$。\n",
    "\n",
    "证明：\n",
    "\n",
    "(1) 令 A 为正交矩阵，则 $A^T = A^{-1}$。\n",
    "\n",
    "$$\\begin{align}\n",
    "Ax &= \\lambda x\n",
    "\\\\\n",
    "(Ax)^T &= (\\lambda x)^T\n",
    "\\\\\n",
    "x^TA^T &= \\lambda x^T\n",
    "\\\\\n",
    "x^TA^{-1} &= \\lambda x^T\\quad \\dots 乘 Ax\n",
    "\\\\\n",
    "x^TA^{-1}Ax &= \\lambda x^TAx\n",
    "\\\\\n",
    "x^Tx &= \\lambda x^T\\lambda x = \\lambda^2x^Tx\n",
    "\\\\\n",
    "故\\ \\lambda^2 &= 1 \\rightarrow |\\lambda| = 1\n",
    "\\end{align}$$"
   ]
  },
  {
   "cell_type": "markdown",
   "metadata": {},
   "source": [
    "(2) 令特征值 $\\lambda_i$ 所对应的特征向量为 $x_i$，而 $\\lambda_j$ 对应 $x_j$，则：\n",
    "\n",
    "$$\\begin{align}\n",
    "Ax_i &= \\lambda_ix_i\n",
    "\\\\\n",
    "(Ax_i)^T &= (\\lambda_ix_i)^T\n",
    "\\\\\n",
    "x_i^TA^T &= \\lambda_ix_i^T\n",
    "\\end{align}$$\n",
    "\n",
    "因为正交矩阵，上式又可以改写为 $X_i^TA^{-1} = \\lambda_ix_i^T$，并同乘 $x_i^TA^{-1}$，则：\n",
    "\n",
    "$$\\begin{align}\n",
    "x_i^TA^{-1}A^{-1}x_j &= x_i^TA^{-1}\\lambda_jx_j^T\n",
    "\\\\\n",
    "x_i^Tx_j &= \\lambda_ix_i^T\\lambda_jx_j = \\lambda_i\\lambda_jx_i^Tx_j\n",
    "\\\\\n",
    "(1 - \\lambda_i\\lambda_j)x_i^Tx_j &= 0\n",
    "\\end{align}$$\n",
    "\n",
    "因为 $1 - \\lambda_i\\lambda_j\\neq 0$，所以 $x_i^Tx_j = 0$。"
   ]
  },
  {
   "cell_type": "markdown",
   "metadata": {},
   "source": [
    "(c) 对算式 $Ax_j = \\lambda_jx_j$ 两边同乘 $x_i^T$，则：\n",
    "\n",
    "$$\n",
    "x_i^TAx_j = \\lambda_jx_i^Tx_j = 0\n",
    "\\\\\n",
    "故\\ x_i^TAx_j = 0\n",
    "$$"
   ]
  },
  {
   "cell_type": "code",
   "execution_count": null,
   "metadata": {},
   "outputs": [],
   "source": []
  },
  {
   "cell_type": "code",
   "execution_count": null,
   "metadata": {},
   "outputs": [],
   "source": []
  }
 ],
 "metadata": {
  "kernelspec": {
   "display_name": "Python 3",
   "language": "python",
   "name": "python3"
  },
  "language_info": {
   "codemirror_mode": {
    "name": "ipython",
    "version": 3
   },
   "file_extension": ".py",
   "mimetype": "text/x-python",
   "name": "python",
   "nbconvert_exporter": "python",
   "pygments_lexer": "ipython3",
   "version": "3.6.2"
  }
 },
 "nbformat": 4,
 "nbformat_minor": 2
}
