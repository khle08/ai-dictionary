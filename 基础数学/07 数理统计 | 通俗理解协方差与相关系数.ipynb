{
 "cells": [
  {
   "cell_type": "markdown",
   "metadata": {},
   "source": [
    "> 关键词：协方差\\相关系数\\数理统计"
   ]
  },
  {
   "cell_type": "markdown",
   "metadata": {},
   "source": [
    " ## 前言： \n",
    "在上一章中，我们介绍了均值，方差和标准差。 这些指标可以帮助我们对一组数据中的数值分布情况进行基本的描述，通过均值我们可以了解到数据分布趋向的一个数值，通过方差和标准差我们又可以进一步了解到这些数据向均值聚拢的一个程度，或者换句话说， 方差与标准差告诉了我们一组数据的离散程度。 这样的一个数理统计指标是非常重要的， 特别是在机器学习领域中， 我们通常在做特征分析的时候，会使用方差来感知一组数据的**`离散情况`**，从而决定要不要对数据特征经行处理与清洗，因为对于一些特定的机器学习模型来说，如果数据特征的方差过大， 那么模型可能很难收敛，导致最终模型的表现不尽人意。 \n",
    "\n",
    "除了对单一组数据的分布分析，往往我们还需要对多组数据的分布进行相关性的对比分析。 这个时候我们就会引入两个新的指标：**`协方差`**与**`相关系数`**。 今天这一章我们就主要对这两个重要的指标进行剖析。"
   ]
  },
  {
   "cell_type": "markdown",
   "metadata": {},
   "source": [
    "## 协方差"
   ]
  },
  {
   "cell_type": "markdown",
   "metadata": {},
   "source": [
    "方差与协方差是两个概念非常相似的指标。 方差描述了一组数据中的数据与均值的偏离程度，而协方差则描述了两组数据分别与其均值的偏离方向是否保持一致。                                                                                             \n",
    "更通俗点说， 协方差描述了两组数据的分布是往同一个方向，还是往反方向， 同时还告诉我们这个同向和反向程度如何。\n",
    "\n",
    "即：\n",
    "- 如果两组数据的分布是同向的，则协方差为正\n",
    "- 如果两组数据的分布是反向的，则协方差为负\n",
    "- 如果协方差的数值越大， 这两组数据的同向程度就越大，反之亦然"
   ]
  },
  {
   "cell_type": "markdown",
   "metadata": {},
   "source": [
    "让我们从协方差的公式来理解以上三句子定论"
   ]
  },
  {
   "cell_type": "markdown",
   "metadata": {},
   "source": [
    "首先我们回忆一下方差的公式："
   ]
  },
  {
   "cell_type": "markdown",
   "metadata": {},
   "source": [
    "给定一组长度为$N$的数据$X$，另$Var(X)$为这组数据的方差，$x_i$为$X$中的第$i$个数据，则：\n",
    "\n",
    "$$Var(X) = \\frac {\\sum_{i=0}^{N} (x_i-\\bar{X})^2}{N}$$"
   ]
  },
  {
   "cell_type": "markdown",
   "metadata": {},
   "source": [
    "其实协方差的计算公式只需要在方差的计算公式的基础上稍作改动即可："
   ]
  },
  {
   "cell_type": "markdown",
   "metadata": {},
   "source": [
    "- 给定两组数据分别为$X$和$Y$, 且两组数据长度均为$N$\n",
    "\n",
    "- 另$Cov(X,Y)$为这两组数据的协方差\n",
    "\n",
    "- $x_i$为$X$中的第$i$个数据，$y_i$为$Y$中的第$i$个数据，则"
   ]
  },
  {
   "cell_type": "markdown",
   "metadata": {},
   "source": [
    "$$Cov(X,Y) = \\frac {\\sum_{i=0}^{N} (x_i-\\bar{X}) \\cdot (y_i-\\bar{Y})}{N}$$"
   ]
  },
  {
   "cell_type": "markdown",
   "metadata": {},
   "source": [
    "从以上这个公式，我们首先可以直观地看出，协方差就是对于$X$和$Y$中的每一笔数据$i$,我们将**$x_i$与其均值的差** 乘上**$y_i$与其均值的差**， 并将这N个乘积就和并取平均。"
   ]
  },
  {
   "cell_type": "markdown",
   "metadata": {},
   "source": [
    "我们通过一个例子来理解以上这个公式：\n",
    "\n",
    "假设有两组数据$X$(红色)和$Y$(绿色)， 横轴为时间。 从以下这个图中的例子我们可以观察到， $X$和$Y$均随着时间t变大而围绕着均值运动，并且我们可以很清晰的观测到，两组数据随着时间是在发生同向变化的。"
   ]
  },
  {
   "cell_type": "markdown",
   "metadata": {},
   "source": [
    "![1.png](pics/1.png)"
   ]
  },
  {
   "cell_type": "markdown",
   "metadata": {},
   "source": [
    "针对这个例子，我们代入公式会发现每一时刻，$x_i-\\bar{X}$ 与 $y_i-\\bar{Y}$的正负号一定是相同的。 因此对于所有的时间，$x_i-\\bar{X}$与$y_i-\\bar{Y}$的乘积一定为正，并在求和取平均后的得到一个正的协方差。 所以，对于同向分布的两组数据，他们的协方差为正。 "
   ]
  },
  {
   "cell_type": "markdown",
   "metadata": {},
   "source": [
    "再举另外一个例子："
   ]
  },
  {
   "cell_type": "markdown",
   "metadata": {},
   "source": [
    "![2.png](pics/2.png)"
   ]
  },
  {
   "cell_type": "markdown",
   "metadata": {},
   "source": [
    "对于这个例子，我们也可以很明显的发现，两组数据随着时间推进发生了反向运动。 通过代入公式我们会发现， 每一时刻，$x_i-\\bar{X}$ 与 $y_i-\\bar{Y}$的正负号一定是相反的的，这就导致所有的$x_i-\\bar{X}$ 与 $y_i-\\bar{Y}$的乘积皆为负数， 求和取平均后也就得到了一个负的协方差。 所以当两组数据的分布方向相反时，计算协方差将会返回一个负的值。"
   ]
  },
  {
   "cell_type": "markdown",
   "metadata": {},
   "source": [
    "以上两个例子都是比较极端，或者说完美的体现了通向和反向的例子。但现实生活中，我们所接受的数据的分布可能时没那么规律那么完美的。 我们大概率会接触到的数据应该会如以下的例子 "
   ]
  },
  {
   "cell_type": "markdown",
   "metadata": {},
   "source": [
    "![3.png](pics/3.png)"
   ]
  },
  {
   "cell_type": "markdown",
   "metadata": {},
   "source": [
    "对于这种情况，我们会发现，在某一时间$x_i-\\bar{X}$ 与 $y_i-\\bar{Y}$的乘积为正，但是在另外一个时间$x_i-\\bar{X}$ 与 $y_i-\\bar{Y}$的乘积可能又会是负的。 将这些正负不一的乘积求和后，乘积为正的越多或者乘积为正求和值越大，说明两组数据中出现同向变化的数据的比例越大； 同向程度越大。 反过来，如果乘积为负的占比更重，则说明两组数据的反向程度更高。 "
   ]
  },
  {
   "cell_type": "markdown",
   "metadata": {},
   "source": [
    "因此，总结来说，如果协方差为正，说明两组数据的整体来说是同向分布的，协方差越大则说明这个同向程度越大； 反之，如果协方差为负，则说明两组数据呈反向分布， 协方差越小，反向程度越大。"
   ]
  },
  {
   "cell_type": "markdown",
   "metadata": {},
   "source": [
    "接下来，让我们尝试用代码来求协方差"
   ]
  },
  {
   "cell_type": "markdown",
   "metadata": {},
   "source": [
    "首先我们随机生成两组长度为20的数据"
   ]
  },
  {
   "cell_type": "code",
   "execution_count": 7,
   "metadata": {},
   "outputs": [],
   "source": [
    "import numpy as np\n",
    "X = np.random.rand(20)\n",
    "Y = np.random.rand(20)"
   ]
  },
  {
   "cell_type": "markdown",
   "metadata": {},
   "source": [
    "接下来我们定义一个求协方差的函数"
   ]
  },
  {
   "cell_type": "code",
   "execution_count": 10,
   "metadata": {},
   "outputs": [],
   "source": [
    "def cov(X,Y):\n",
    "    X_mean = X.mean()\n",
    "    Y_mean = Y.mean()\n",
    "    N = X.size\n",
    "    summation = np.sum((X-X_mean)*(Y-Y_mean))\n",
    "    covariance = summation/N\n",
    "    return covariance"
   ]
  },
  {
   "cell_type": "code",
   "execution_count": 25,
   "metadata": {},
   "outputs": [
    {
     "data": {
      "text/plain": [
       "-0.00952719329497184"
      ]
     },
     "execution_count": 25,
     "metadata": {},
     "output_type": "execute_result"
    }
   ],
   "source": [
    "cov(X,Y)"
   ]
  },
  {
   "cell_type": "markdown",
   "metadata": {},
   "source": [
    "以上就是协方差的介绍，接下来我们来进一步介绍一下`皮尔逊相关系数`"
   ]
  },
  {
   "cell_type": "markdown",
   "metadata": {},
   "source": [
    "## 皮尔逊相关系数（Co-efficient of Correlation)\n",
    "\n",
    "这是一个由统计学家卡尔·皮尔逊设计的统计指标，其作用旨在帮助我们研究变量之间线性相关程度的量。 其实说白了，相关系数与协方差的作用基本是一致的，都是用来描述两组数据的分布方向关系的。 "
   ]
  },
  {
   "cell_type": "markdown",
   "metadata": {},
   "source": [
    "这边，我们先给出相关系数的公式："
   ]
  },
  {
   "cell_type": "markdown",
   "metadata": {},
   "source": [
    "$$\\rho = \\frac {Cov(X,Y)}{\\sigma_X \\sigma_Y}, 其中$$\n",
    "\n",
    "\n",
    "$$\\sigma_X = \\sqrt {Var(X)}$$\n",
    "\n",
    "$$\\sigma_Y = \\sqrt {Var(Y)}$$"
   ]
  },
  {
   "cell_type": "markdown",
   "metadata": {},
   "source": [
    "从以上相关系数的公式中我们也能看出，相关系数其实就是一种特殊的协方差， 一种剔除两组数据中单位不同的影响、标准化后的特殊协方差。"
   ]
  },
  {
   "cell_type": "markdown",
   "metadata": {},
   "source": [
    "既然相关系数本质上也是一种协方差，那他同样也满足协方差的特性：\n",
    "- 如果两组数据的分布是同向的，则相关系数为正\n",
    "- 如果两组数据的分布是反向的，则相关系数为负\n",
    "\n",
    "但是，由于相关系数是标准化后的协方差，因此他消除了两组数据变化幅度的影响，而只是单纯的反应两组数据每单位变化时的相似程度。 且其取值范围在**0和1**之间。 "
   ]
  },
  {
   "cell_type": "markdown",
   "metadata": {},
   "source": [
    "由此，我们可以总结相关系数有以下几个特性：\n",
    "\n",
    "- 当相关系数大于0， 两组数据正相关\n",
    "- 当相关系数小于0， 两组数据负相关\n",
    "- 当相关系数等于0， 两组数据不相关\n",
    "- 相关系数只反映每单位变化的相似程度，不考虑单位\n",
    "- 相关系数的取值在0到1之间"
   ]
  },
  {
   "cell_type": "markdown",
   "metadata": {},
   "source": [
    "接下来，我们用代码来实现一下相关系数的计算"
   ]
  },
  {
   "cell_type": "code",
   "execution_count": 26,
   "metadata": {},
   "outputs": [],
   "source": [
    "def coc(X,Y):\n",
    "    X_std = np.std(X)\n",
    "    Y_std = np.std(Y)\n",
    "    rho = cov(X,Y)/(X_std*Y_std)\n",
    "    return rho"
   ]
  },
  {
   "cell_type": "code",
   "execution_count": 29,
   "metadata": {},
   "outputs": [
    {
     "data": {
      "text/plain": [
       "-0.08844216628050719"
      ]
     },
     "execution_count": 29,
     "metadata": {},
     "output_type": "execute_result"
    }
   ],
   "source": [
    "coc(X,Y)"
   ]
  },
  {
   "cell_type": "markdown",
   "metadata": {},
   "source": []
  },
  {
   "cell_type": "code",
   "execution_count": null,
   "metadata": {},
   "outputs": [],
   "source": []
  }
 ],
 "metadata": {
  "kernelspec": {
   "display_name": "Python 3",
   "language": "python",
   "name": "python3"
  },
  "language_info": {
   "codemirror_mode": {
    "name": "ipython",
    "version": 3
   },
   "file_extension": ".py",
   "mimetype": "text/x-python",
   "name": "python",
   "nbconvert_exporter": "python",
   "pygments_lexer": "ipython3",
   "version": "3.8.1"
  }
 },
 "nbformat": 4,
 "nbformat_minor": 4
}
