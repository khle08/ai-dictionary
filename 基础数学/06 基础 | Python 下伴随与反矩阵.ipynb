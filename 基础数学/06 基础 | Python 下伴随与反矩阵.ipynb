{
 "cells": [
  {
   "cell_type": "markdown",
   "metadata": {},
   "source": [
    "> 关键词：线性代数 / 伴随 / 反矩阵 / 基础数学\n",
    ">\n",
    "> 再复杂的算法，也逃脱不了线性代数的掌心，AI 算法辞典帮你复习矩阵计算！\n",
    "\n",
    "矩阵计算是世界上所有算法的祖宗，今天小编就来为读者们好好复习两个知识点：`伴随矩阵 (adjoint matrix)` 与 `逆矩阵 (inverse matrix)`！算法推导的过程中，最常遇到的操作之一就是对一个矩阵求逆，通常数值计算的工具，例如 `numpy`，都提供好了直接调用的函数给我们使用，但用着用着就难免忘了逆矩阵到底对本来的矩阵做了什么操作，因此接下来就要刨开AI的地基来一探究竟！"
   ]
  },
  {
   "cell_type": "code",
   "execution_count": 1,
   "metadata": {},
   "outputs": [],
   "source": [
    "import numpy as np\n",
    "from linalg import *"
   ]
  },
  {
   "cell_type": "markdown",
   "metadata": {
    "collapsed": true
   },
   "source": [
    "# 伴随矩阵 Adjoint Matrix\n",
    "定义一个 A 矩阵：\n",
    "\n",
    "$$\n",
    "A = \n",
    "\\begin{bmatrix} a_{11} & a_{12} & a_{13} & \\cdots & a_{1n} \\\\\n",
    "                a_{21} & a_{22} & a_{23} & \\cdots & a_{2n} \\\\\n",
    "                ...  & ...  & ...  & \\quad  & ... \\\\\n",
    "                a_{n1} & a_{n2} & a_{n3} & \\cdots & a_{nn}\\end{bmatrix}\n",
    "$$\n",
    "\n",
    "若 $C_{ij}$ 表 $a_{ij}$ 的 cofactor (余因子)，则定义 A 的伴随矩阵如下：\n",
    "\n",
    "$$\n",
    "adj\\ A = \n",
    "\\begin{bmatrix} C_{11} & C_{12} & C_{13} & \\cdots & C_{1n} \\\\\n",
    "                C_{21} & C_{22} & C_{23} & \\cdots & C_{2n} \\\\\n",
    "                ...  & ...  & ...  & \\quad  & ... \\\\\n",
    "                C_{n1} & C_{n2} & C_{n3} & \\cdots & C_{nn}\\end{bmatrix}^{\\ T} = \\mathbf{C}^T\n",
    "$$"
   ]
  },
  {
   "cell_type": "code",
   "execution_count": 2,
   "metadata": {},
   "outputs": [],
   "source": [
    "A = np.array([[3, 2, 5],\n",
    "              [4, 1, 7],\n",
    "              [9, 8, 3]])"
   ]
  },
  {
   "cell_type": "code",
   "execution_count": 3,
   "metadata": {},
   "outputs": [],
   "source": [
    "def adjoint(mat):\n",
    "    temp = np.zeros(mat.shape)\n",
    "    for row in range(mat.shape[0]):\n",
    "        for col in range(mat.shape[1]):\n",
    "            temp[row, col] = cofactor(mat, row, col)\n",
    "    return temp.T"
   ]
  },
  {
   "cell_type": "code",
   "execution_count": 4,
   "metadata": {},
   "outputs": [
    {
     "data": {
      "text/plain": [
       "array([[-53.,  34.,   9.],\n",
       "       [ 51., -36.,  -1.],\n",
       "       [ 23.,  -6.,  -5.]])"
      ]
     },
     "execution_count": 4,
     "metadata": {},
     "output_type": "execute_result"
    }
   ],
   "source": [
    "adjoint(A)"
   ]
  },
  {
   "cell_type": "markdown",
   "metadata": {},
   "source": [
    "## 1. 伴随矩阵性质\n",
    "\n",
    "### 1-1\n",
    "$$A\\cdot adj\\ A = |A|\\ \\mathbf{I}\\quad \\quad \\dots A\\ 为\\ n\\ 阶方阵$$\n",
    "\n",
    "证明：令 $A_{ij}$ 表 A 矩阵第 i 列，第 j 行位置的元素，且 $adj\\ A = \\mathbf{C}^T$ 如上所述，则：\n",
    "\n",
    "$$\n",
    "(A\\cdot adj\\ A)_{ij} = \\sum_{k=1}^n A_{ik}C^T_{kj} = \\sum_{k=1}^nA_{ik}C_{jk}\n",
    "$$\n",
    "\n",
    "用 Laplace 行列式展开法\n",
    "+ 当 $i=j$ 时，$(A\\cdot adj\\ A)_{ij} = \\sum_{k=1}^nA_{ik}C_{ik} = |A|$\n",
    "+ 当 $i\\neq j$ 时，$(A\\cdot adj\\ A)_{ij} = 0$\n",
    "\n",
    "故得：\n",
    "$$\n",
    "A\\cdot adj\\ A = \\begin{bmatrix} |A| & 0 & 0 & \\cdots & 0 \\\\\n",
    "                0 & |A| & 0 & \\cdots & 0 \\\\\n",
    "                ...  & ...  & ...  & \\quad  & ... \\\\\n",
    "                0 & 0 & 0 & \\cdots & |A|\\end{bmatrix}\n",
    "                = |A|\\ \\mathbf{I}\n",
    "$$"
   ]
  },
  {
   "cell_type": "code",
   "execution_count": 5,
   "metadata": {},
   "outputs": [
    {
     "data": {
      "text/plain": [
       "array([[58., -0.,  0.],\n",
       "       [ 0., 58.,  0.],\n",
       "       [ 0., -0., 58.]])"
      ]
     },
     "execution_count": 5,
     "metadata": {},
     "output_type": "execute_result"
    }
   ],
   "source": [
    "np.round(np.dot(A, adjoint(A)), decimals=5)"
   ]
  },
  {
   "cell_type": "code",
   "execution_count": 6,
   "metadata": {
    "scrolled": true
   },
   "outputs": [
    {
     "data": {
      "text/plain": [
       "58.00000000000004"
      ]
     },
     "execution_count": 6,
     "metadata": {},
     "output_type": "execute_result"
    }
   ],
   "source": [
    "determinant(A)"
   ]
  },
  {
   "cell_type": "markdown",
   "metadata": {},
   "source": [
    "### 1-2\n",
    "$$\n",
    "|adj\\ A| = |A|^{n-1}\n",
    "$$\n",
    "\n",
    "证明：因为 $A\\cdot adj\\ A = |A| \\mathbf{I}$，所以得：\n",
    "\n",
    "$$\\begin{align}\n",
    "|A\\cdot adj\\ A| &= \\big||A|\\ \\mathbf{I}\\big|\n",
    "\\\\\n",
    "|A|\\cdot |adj\\ A| &= |A|^n \\rightarrow |adj\\ A| = |A|^{n-1}\n",
    "\\end{align}$$\n",
    "\n",
    "p.s. n 表示矩阵的阶数。"
   ]
  },
  {
   "cell_type": "code",
   "execution_count": 7,
   "metadata": {},
   "outputs": [
    {
     "data": {
      "text/plain": [
       "3363.9999999999973"
      ]
     },
     "execution_count": 7,
     "metadata": {},
     "output_type": "execute_result"
    }
   ],
   "source": [
    "determinant(adjoint(A))"
   ]
  },
  {
   "cell_type": "code",
   "execution_count": 8,
   "metadata": {},
   "outputs": [
    {
     "data": {
      "text/plain": [
       "3364.000000000005"
      ]
     },
     "execution_count": 8,
     "metadata": {},
     "output_type": "execute_result"
    }
   ],
   "source": [
    "determinant(A) ** 2"
   ]
  },
  {
   "cell_type": "markdown",
   "metadata": {},
   "source": [
    "### 1-3\n",
    "$$\n",
    "adj(kA) = k^{n-1}adj\\ A\\quad\\quad \\dots k\\ 为常数，A\\ 为\\ n\\ 阶方阵\n",
    "$$\n",
    "\n",
    "证明：\n",
    "\n",
    "$$\\begin{align}\n",
    "因\\ A\\cdot adj\\ A &= |A|\\ \\mathbf{I}\\quad \\rightarrow A^{-1} = \\frac{adj\\ A}{|A|}\\quad \\dots (1)\n",
    "\\\\\n",
    "(kA)\\cdot adj(kA) &= |kA|\\mathbf{I} = k^n|A|\\ \\mathbf{I}\n",
    "\\\\\n",
    "故\\ adj(kA) &= A^{-1}k^{n-1}|A|\\ \\mathbf{I}\n",
    "\\\\\n",
    "\\end{align}$$\n",
    "\n",
    "把 `(1)` 代入上式得：$adj(kA) = k^{n-1}adj\\ A$"
   ]
  },
  {
   "cell_type": "code",
   "execution_count": 9,
   "metadata": {},
   "outputs": [
    {
     "data": {
      "text/plain": [
       "array([[-8957.,  5746.,  1521.],\n",
       "       [ 8619., -6084.,  -169.],\n",
       "       [ 3887., -1014.,  -845.]])"
      ]
     },
     "execution_count": 9,
     "metadata": {},
     "output_type": "execute_result"
    }
   ],
   "source": [
    "adjoint(13 * A)"
   ]
  },
  {
   "cell_type": "code",
   "execution_count": 10,
   "metadata": {},
   "outputs": [
    {
     "data": {
      "text/plain": [
       "array([[-8957.,  5746.,  1521.],\n",
       "       [ 8619., -6084.,  -169.],\n",
       "       [ 3887., -1014.,  -845.]])"
      ]
     },
     "execution_count": 10,
     "metadata": {},
     "output_type": "execute_result"
    }
   ],
   "source": [
    "(13 ** 2) * adjoint(A)"
   ]
  },
  {
   "cell_type": "markdown",
   "metadata": {},
   "source": [
    "### 1-4\n",
    "$$\n",
    "adj(adj\\ A) = |A|^{n-2}A\\quad\\quad \\dots A\\ 为\\ n\\ 阶方阵\n",
    "$$\n",
    "\n",
    "证明：\n",
    "\n",
    "$$\n",
    "A\\cdot adj\\ A = |A|\\ \\mathbf{I}\\rightarrow A^{-1} = \\frac{adj\\ A}{|A|}\\quad \\dots (1)\n",
    "\\\\\n",
    "\\begin{align}\n",
    "(adj\\ A)adj(adj\\ A) &= |adj\\ A|\\ \\mathbf{I} = |A|^{n-1}\\mathbf{I}\n",
    "\\\\\n",
    "adj(adj\\ A) &= (adj\\ A)^{-1}|A|^{n-1}\\mathbf{I}\\quad\\quad \\dots (2)\n",
    "\\end{align}$$\n",
    "\n",
    "把 `(1)` 带入 `(2)` 得：\n",
    "\n",
    "$$\n",
    "adj(adj\\ A) = \\frac{A}{|A|}|A|^{n-1}\\ \\mathbf{I} = |A|^{n-2}A\n",
    "$$"
   ]
  },
  {
   "cell_type": "code",
   "execution_count": 11,
   "metadata": {},
   "outputs": [
    {
     "data": {
      "text/plain": [
       "array([[174., 116., 290.],\n",
       "       [232.,  58., 406.],\n",
       "       [522., 464., 174.]])"
      ]
     },
     "execution_count": 11,
     "metadata": {},
     "output_type": "execute_result"
    }
   ],
   "source": [
    "adjoint(adjoint(A))"
   ]
  },
  {
   "cell_type": "code",
   "execution_count": 12,
   "metadata": {},
   "outputs": [
    {
     "data": {
      "text/plain": [
       "array([[174., 116., 290.],\n",
       "       [232.,  58., 406.],\n",
       "       [522., 464., 174.]])"
      ]
     },
     "execution_count": 12,
     "metadata": {},
     "output_type": "execute_result"
    }
   ],
   "source": [
    "determinant(A) ** (3 - 2) * A"
   ]
  },
  {
   "cell_type": "markdown",
   "metadata": {},
   "source": [
    "# 逆矩阵 Inverse Matrix\n",
    "$$\n",
    "A^{-1} = \\frac{adj\\ A}{|A|}\n",
    "$$\n",
    "\n",
    "当以下条件被满足：\n",
    "1. A 为 n 阶方阵\n",
    "3. $det(A) \\neq 0$\n",
    "3. $AA^{-1} = A^{-1}A = I$\n",
    "\n",
    "证明：\n",
    "\n",
    "$$\n",
    "A\\cdot adj\\ A = |A|\\ \\mathbf{I}\n",
    "\\\\\n",
    "A\\frac{adj\\ A}{|A|} = \\mathbf{I}\n",
    "\\\\\n",
    "故得：A^{-1} = \\frac{adj\\ A}{|A|}\n",
    "$$"
   ]
  },
  {
   "cell_type": "code",
   "execution_count": 13,
   "metadata": {},
   "outputs": [],
   "source": [
    "def inverse(mat):\n",
    "    return adjoint(mat) / determinant(mat)"
   ]
  },
  {
   "cell_type": "code",
   "execution_count": 14,
   "metadata": {},
   "outputs": [
    {
     "data": {
      "text/plain": [
       "array([[-0.9137931 ,  0.5862069 ,  0.15517241],\n",
       "       [ 0.87931034, -0.62068966, -0.01724138],\n",
       "       [ 0.39655172, -0.10344828, -0.0862069 ]])"
      ]
     },
     "execution_count": 14,
     "metadata": {},
     "output_type": "execute_result"
    }
   ],
   "source": [
    "inverse(A)"
   ]
  },
  {
   "cell_type": "code",
   "execution_count": 15,
   "metadata": {
    "scrolled": true
   },
   "outputs": [
    {
     "data": {
      "text/plain": [
       "array([[-0.9137931 ,  0.5862069 ,  0.15517241],\n",
       "       [ 0.87931034, -0.62068966, -0.01724138],\n",
       "       [ 0.39655172, -0.10344828, -0.0862069 ]])"
      ]
     },
     "execution_count": 15,
     "metadata": {},
     "output_type": "execute_result"
    }
   ],
   "source": [
    "# 用 numpy 提供的 API 重复验证结果\n",
    "np.linalg.inv(A) "
   ]
  },
  {
   "cell_type": "markdown",
   "metadata": {},
   "source": [
    "证明结果相同。"
   ]
  },
  {
   "cell_type": "markdown",
   "metadata": {},
   "source": [
    "## 2. 逆矩阵性质\n",
    "\n",
    "### 2-1\n",
    "$$\n",
    "|A^{-1}| = \\frac{1}{|A|}\n",
    "$$\n",
    "\n",
    "证明：\n",
    "\n",
    "$$\n",
    "AA^{-1} = \\mathbf{I}\n",
    "\\\\\n",
    "|AA^{-1}| = |\\mathbf{I}| = 1\n",
    "\\\\\n",
    "|A||A^{-1}| = 1\n",
    "故\\ |A^{-1}| = \\frac{1}{|A|}\n",
    "$$"
   ]
  },
  {
   "cell_type": "code",
   "execution_count": 16,
   "metadata": {},
   "outputs": [
    {
     "data": {
      "text/plain": [
       "0.01724137931034483"
      ]
     },
     "execution_count": 16,
     "metadata": {},
     "output_type": "execute_result"
    }
   ],
   "source": [
    "determinant(inverse(A))"
   ]
  },
  {
   "cell_type": "code",
   "execution_count": 17,
   "metadata": {},
   "outputs": [
    {
     "data": {
      "text/plain": [
       "0.017241379310344813"
      ]
     },
     "execution_count": 17,
     "metadata": {},
     "output_type": "execute_result"
    }
   ],
   "source": [
    "1 / determinant(A)"
   ]
  },
  {
   "cell_type": "markdown",
   "metadata": {},
   "source": [
    "### 2-2\n",
    "$$\n",
    "A = \\frac{adj\\ A^{-1}}{|A^{-1}|}\n",
    "$$\n",
    "\n",
    "证明：\n",
    "\n",
    "$$\n",
    "A\\cdot adj\\ A = |A|\\ \\mathbf{I}\n",
    "\\\\\n",
    "A^{-1}adj\\ A^{-1} = |A^{-1}|\\ \\mathbf{I}\n",
    "\\\\\n",
    "A^{-1}\\frac{adj\\ A^{-1}}{|A^{-1}|} = \\mathbf{I}\n",
    "\\\\\n",
    "故\\ A = \\frac{adj\\ A^{-1}}{|A^{-1}|}\n",
    "$$"
   ]
  },
  {
   "cell_type": "code",
   "execution_count": 18,
   "metadata": {},
   "outputs": [
    {
     "data": {
      "text/plain": [
       "array([[3., 2., 5.],\n",
       "       [4., 1., 7.],\n",
       "       [9., 8., 3.]])"
      ]
     },
     "execution_count": 18,
     "metadata": {},
     "output_type": "execute_result"
    }
   ],
   "source": [
    "adjoint(inverse(A)) / determinant(inverse(A))"
   ]
  },
  {
   "cell_type": "code",
   "execution_count": 19,
   "metadata": {},
   "outputs": [
    {
     "data": {
      "text/plain": [
       "array([[3, 2, 5],\n",
       "       [4, 1, 7],\n",
       "       [9, 8, 3]])"
      ]
     },
     "execution_count": 19,
     "metadata": {},
     "output_type": "execute_result"
    }
   ],
   "source": [
    "A"
   ]
  },
  {
   "cell_type": "markdown",
   "metadata": {},
   "source": [
    "### 2-3\n",
    "如果 A 是可逆矩阵，则 $adj\\ A$ 同为可逆矩阵。\n",
    "\n",
    "证明：如果 A 为可逆矩阵，表示 $|A| \\neq 0$，且因为\n",
    "\n",
    "$$\n",
    "A\\cdot adj\\ A = |A|\\ \\mathbf{I}\n",
    "\\\\\n",
    "|adj\\ A| = |A|^{n-1} \\neq 0\n",
    "$$\n",
    "\n",
    "得证 $adj\\ A$ 为可逆矩阵。"
   ]
  },
  {
   "cell_type": "markdown",
   "metadata": {},
   "source": [
    "### 2-4\n",
    "$$\n",
    "(AB)^{-1} = B^{-1}A^{-1}\\quad\\quad\\dots |A|\\neq 0,\\ |B|\\neq 0\n",
    "$$\n",
    "\n",
    "证明：\n",
    "\n",
    "$$\\begin{align}\n",
    "(AB)(AB)^{-1} &= \\mathbf{I}\n",
    "\\\\\n",
    "B(AB)^{-1} &= A^{-1}\n",
    "\\\\\n",
    "(AB)^{-1} &= B^{-1}A^{-1}\n",
    "\\end{align}$$"
   ]
  },
  {
   "cell_type": "code",
   "execution_count": 20,
   "metadata": {},
   "outputs": [],
   "source": [
    "B = np.array([[4, 2, 7],\n",
    "              [3, 8, 9],\n",
    "              [1, 4, 2]])"
   ]
  },
  {
   "cell_type": "code",
   "execution_count": 21,
   "metadata": {},
   "outputs": [
    {
     "data": {
      "text/plain": [
       "array([[-0.52848576,  0.49325337,  0.00524738],\n",
       "       [ 0.1697901 , -0.05847076, -0.03785607],\n",
       "       [ 0.12293853, -0.1814093 ,  0.02998501]])"
      ]
     },
     "execution_count": 21,
     "metadata": {},
     "output_type": "execute_result"
    }
   ],
   "source": [
    "inverse(np.dot(A, B))"
   ]
  },
  {
   "cell_type": "code",
   "execution_count": 22,
   "metadata": {
    "scrolled": true
   },
   "outputs": [
    {
     "data": {
      "text/plain": [
       "array([[-0.52848576,  0.49325337,  0.00524738],\n",
       "       [ 0.1697901 , -0.05847076, -0.03785607],\n",
       "       [ 0.12293853, -0.1814093 ,  0.02998501]])"
      ]
     },
     "execution_count": 22,
     "metadata": {},
     "output_type": "execute_result"
    }
   ],
   "source": [
    "np.dot(inverse(B), inverse(A))"
   ]
  },
  {
   "cell_type": "markdown",
   "metadata": {},
   "source": [
    "同理 $(ABC)^{-1} = C^{-1}B^{-1}A^{-1}$."
   ]
  },
  {
   "cell_type": "markdown",
   "metadata": {},
   "source": [
    "### 2-5\n",
    "$$\n",
    "(A^T)^{-1} = (A^{-1})^T\n",
    "$$\n",
    "\n",
    "证明：\n",
    "\n",
    "$$\\begin{align}\n",
    "AA^{-1} &= \\mathbf{I}\n",
    "\\\\\n",
    "(AA^{-1})^T &= \\mathbf{I}^T = \\mathbf{I}\n",
    "\\\\\n",
    "(A^{-1})^TA^T &= \\mathbf{I}\n",
    "\\\\\n",
    "故\\ (A^T)^{-1} &= (A^{-1})^T\n",
    "\\end{align}$$"
   ]
  },
  {
   "cell_type": "code",
   "execution_count": 23,
   "metadata": {},
   "outputs": [
    {
     "data": {
      "text/plain": [
       "array([[-0.9137931 ,  0.87931034,  0.39655172],\n",
       "       [ 0.5862069 , -0.62068966, -0.10344828],\n",
       "       [ 0.15517241, -0.01724138, -0.0862069 ]])"
      ]
     },
     "execution_count": 23,
     "metadata": {},
     "output_type": "execute_result"
    }
   ],
   "source": [
    "inverse(A.T)"
   ]
  },
  {
   "cell_type": "code",
   "execution_count": 24,
   "metadata": {},
   "outputs": [
    {
     "data": {
      "text/plain": [
       "array([[-0.9137931 ,  0.87931034,  0.39655172],\n",
       "       [ 0.5862069 , -0.62068966, -0.10344828],\n",
       "       [ 0.15517241, -0.01724138, -0.0862069 ]])"
      ]
     },
     "execution_count": 24,
     "metadata": {},
     "output_type": "execute_result"
    }
   ],
   "source": [
    "inverse(A).T"
   ]
  },
  {
   "cell_type": "markdown",
   "metadata": {},
   "source": [
    "### 2-6\n",
    "$$\n",
    "(A^{-1})^{-1} = A\n",
    "$$\n",
    "\n",
    "证明：\n",
    "\n",
    "$$\\begin{align}\n",
    "AA^{-1} &= \\mathbf{I}\n",
    "\\\\\n",
    "(AA^{-1})^{-1} &= \\mathbf{I}^{-1} = \\mathbf{I}\n",
    "\\\\\n",
    "(A^{-1})^{-1}A^{-1} &= \\mathbf{I}\n",
    "\\end{align}$$\n",
    "\n",
    "与上式比较则得：$(A^{-1})^{-1} = A$."
   ]
  },
  {
   "cell_type": "code",
   "execution_count": 25,
   "metadata": {},
   "outputs": [
    {
     "data": {
      "text/plain": [
       "array([[3., 2., 5.],\n",
       "       [4., 1., 7.],\n",
       "       [9., 8., 3.]])"
      ]
     },
     "execution_count": 25,
     "metadata": {},
     "output_type": "execute_result"
    }
   ],
   "source": [
    "inverse(inverse(A))"
   ]
  },
  {
   "cell_type": "code",
   "execution_count": 26,
   "metadata": {},
   "outputs": [
    {
     "data": {
      "text/plain": [
       "array([[3, 2, 5],\n",
       "       [4, 1, 7],\n",
       "       [9, 8, 3]])"
      ]
     },
     "execution_count": 26,
     "metadata": {},
     "output_type": "execute_result"
    }
   ],
   "source": [
    "A"
   ]
  },
  {
   "cell_type": "markdown",
   "metadata": {},
   "source": [
    "### 2-7\n",
    "如果 k 为常数，A 为 n 阶方阵，且 $|A|\\neq 0$，则：\n",
    "\n",
    "$$\n",
    "|kA^{-1}| = \\frac{k^n}{|A|}\n",
    "$$\n",
    "\n",
    "证明：\n",
    "\n",
    "$$\n",
    "|kA^{-1}| = k^n |A^{-1}| = \\frac{k^n}{|A|}\n",
    "$$"
   ]
  },
  {
   "cell_type": "code",
   "execution_count": 27,
   "metadata": {},
   "outputs": [
    {
     "data": {
      "text/plain": [
       "5.913793103448269"
      ]
     },
     "execution_count": 27,
     "metadata": {},
     "output_type": "execute_result"
    }
   ],
   "source": [
    "determinant(7 * inverse(A))"
   ]
  },
  {
   "cell_type": "code",
   "execution_count": 28,
   "metadata": {},
   "outputs": [
    {
     "data": {
      "text/plain": [
       "5.913793103448271"
      ]
     },
     "execution_count": 28,
     "metadata": {},
     "output_type": "execute_result"
    }
   ],
   "source": [
    "(7 ** 3) / determinant(A)"
   ]
  },
  {
   "cell_type": "markdown",
   "metadata": {},
   "source": [
    "### 2-8\n",
    "如果 A 是 `对角矩阵`，则 $A{-1}$ 一样是对角矩阵，且对角线上元素恰好是 A 对角线上元素得倒数。"
   ]
  },
  {
   "cell_type": "code",
   "execution_count": 29,
   "metadata": {},
   "outputs": [
    {
     "data": {
      "text/plain": [
       "array([[4, 0, 0],\n",
       "       [0, 2, 0],\n",
       "       [0, 0, 5]])"
      ]
     },
     "execution_count": 29,
     "metadata": {},
     "output_type": "execute_result"
    }
   ],
   "source": [
    "C = np.diag([4, 2, 5])\n",
    "C"
   ]
  },
  {
   "cell_type": "code",
   "execution_count": 30,
   "metadata": {},
   "outputs": [
    {
     "data": {
      "text/plain": [
       "array([[ 0.25, -0.  ,  0.  ],\n",
       "       [-0.  ,  0.5 , -0.  ],\n",
       "       [ 0.  , -0.  ,  0.2 ]])"
      ]
     },
     "execution_count": 30,
     "metadata": {},
     "output_type": "execute_result"
    }
   ],
   "source": [
    "inverse(C)"
   ]
  },
  {
   "cell_type": "code",
   "execution_count": null,
   "metadata": {},
   "outputs": [],
   "source": []
  }
 ],
 "metadata": {
  "kernelspec": {
   "display_name": "Python 3",
   "language": "python",
   "name": "python3"
  },
  "language_info": {
   "codemirror_mode": {
    "name": "ipython",
    "version": 3
   },
   "file_extension": ".py",
   "mimetype": "text/x-python",
   "name": "python",
   "nbconvert_exporter": "python",
   "pygments_lexer": "ipython3",
   "version": "3.6.2"
  }
 },
 "nbformat": 4,
 "nbformat_minor": 2
}
