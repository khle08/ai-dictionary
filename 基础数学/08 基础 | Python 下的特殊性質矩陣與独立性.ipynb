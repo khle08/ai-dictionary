{
 "cells": [
  {
   "cell_type": "markdown",
   "metadata": {},
   "source": [
    "> 关键词：线性代数 / 独立性 / 基础数学\n",
    ">\n",
    "> 再复杂的算法，也逃脱不了线性代数的掌心，AI 算法辞典帮你复习矩阵计算！\n",
    "\n",
    "矩阵计算是世界上所有算法的祖宗，今天小编就来为读者们好好复习两个知识点：`特殊矩阵性质` 与 `独立性`！特殊的矩阵特殊处理，往往可以通过很巧妙的方式避开非特殊情况下的各种麻烦，理解了矩阵的特殊性才有机会让我们在面对不同问题的时候看到捷径的可能，因此这些性质至关重要！"
   ]
  },
  {
   "cell_type": "code",
   "execution_count": 1,
   "metadata": {},
   "outputs": [],
   "source": [
    "import numpy as np\n",
    "import linalg as la"
   ]
  },
  {
   "cell_type": "markdown",
   "metadata": {},
   "source": [
    "# 特殊矩阵性质\n",
    "\n",
    "## 1. 正交矩阵 Orthogonal matrix\n",
    "\n",
    "### 1-1\n",
    "如果 $A$ 为正交矩阵，则 $det(A) = \\pm 1$。\n",
    "\n",
    "证明：\n",
    "\n",
    "$$\\begin{align}\n",
    "A^TA &= \\mathbf{I}\n",
    "\\\\\n",
    "|A^TA| &= |\\mathbf{I}| = 1\n",
    "\\\\\n",
    "|A^T||A| &= 1\n",
    "\\\\\n",
    "|A||A| &= 1 \\rightarrow |A| =\\pm 1\n",
    "\\end{align}$$"
   ]
  },
  {
   "cell_type": "code",
   "execution_count": 2,
   "metadata": {},
   "outputs": [],
   "source": [
    "A = np.array([[-0.23939017,  0.58743526, -0.77305379],\n",
    "              [ 0.81921268, -0.30515101, -0.48556508],\n",
    "              [-0.52113619, -0.74953498, -0.40818426]])"
   ]
  },
  {
   "cell_type": "code",
   "execution_count": 3,
   "metadata": {},
   "outputs": [
    {
     "data": {
      "text/plain": [
       "1.0000000030962668"
      ]
     },
     "execution_count": 3,
     "metadata": {},
     "output_type": "execute_result"
    }
   ],
   "source": [
    "la.determinant(A)"
   ]
  },
  {
   "cell_type": "markdown",
   "metadata": {},
   "source": [
    "### 1-2\n",
    "若 $A, B$ 皆为正交矩阵，则 $A\\dot B$ 一样也是正交矩阵。\n",
    "\n",
    "证明：\n",
    "\n",
    "$$\\begin{align}\n",
    "(AB)^T(AB) &= B^TA^TAB\n",
    "\\\\\n",
    "&= B^T\\mathbf{I}B = \\mathbf{I}\n",
    "\\end{align}$$"
   ]
  },
  {
   "cell_type": "code",
   "execution_count": 4,
   "metadata": {},
   "outputs": [],
   "source": [
    "B = np.array([[2, -2,  1],\n",
    "              [1,  2,  2],\n",
    "              [2,  1, -2]]) * (1 / 3)"
   ]
  },
  {
   "cell_type": "code",
   "execution_count": 5,
   "metadata": {},
   "outputs": [
    {
     "data": {
      "text/plain": [
       "True"
      ]
     },
     "execution_count": 5,
     "metadata": {},
     "output_type": "execute_result"
    }
   ],
   "source": [
    "la.orthogonalIO(np.dot(A, B))"
   ]
  },
  {
   "cell_type": "markdown",
   "metadata": {},
   "source": [
    "## 2. 厄米特矩阵 Hermitian Matrix\n",
    "\n",
    "### 2-1\n",
    "若 $A$ 为 Hermitian Matrix，则 $|A|$ 必为实数。\n",
    "\n",
    "证明：因为 $A$ 为 Hermitian Matrix，则\n",
    "\n",
    "$$\\begin{align}\n",
    "A^\\star &= A\n",
    "\\\\\n",
    "|A^\\star| &= |A|\n",
    "\\\\\n",
    "|\\bar{A}| &= |A| = \\overline{|A|}\n",
    "\\end{align}$$\n",
    "\n",
    "令 $|A| = a + ib$，且 $\\overline{|A|} = a - ib$，则：\n",
    "\n",
    "$$\n",
    "a - ib = a + ib\n",
    "\\\\\n",
    "2ib = 0 \\rightarrow b = 0\n",
    "$$\n",
    "\n",
    "即 $|A| = a$ 必为实数。"
   ]
  },
  {
   "cell_type": "code",
   "execution_count": 6,
   "metadata": {},
   "outputs": [],
   "source": [
    "C = np.array([[    1, 1+1.j,   5],\n",
    "              [1-1.j,     2, 1.j],\n",
    "              [    5,  -1.j,   7]])"
   ]
  },
  {
   "cell_type": "code",
   "execution_count": 7,
   "metadata": {
    "scrolled": true
   },
   "outputs": [
    {
     "data": {
      "text/plain": [
       "(-61-0j)"
      ]
     },
     "execution_count": 7,
     "metadata": {},
     "output_type": "execute_result"
    }
   ],
   "source": [
    "np.round(la.determinant(C), decimals=5)"
   ]
  },
  {
   "cell_type": "markdown",
   "metadata": {},
   "source": [
    "### 2-2\n",
    "若 $A$ 为 Hermitian matrix，则 $A^{-1}$ 也同样是 Hermitian matrix。\n",
    "\n",
    "证明：$(A^{-1})^\\star = (A^\\star)^{-1} = A^{-1}$"
   ]
  },
  {
   "cell_type": "code",
   "execution_count": 8,
   "metadata": {
    "scrolled": true
   },
   "outputs": [
    {
     "name": "stderr",
     "output_type": "stream",
     "text": [
      "/Users/kcl/Documents/Python_Projects/AI算法词典/基础数学/08 | Python 下的特殊性質矩陣與独立性/linalg.py:62: ComplexWarning: Casting complex values to real discards the imaginary part\n",
      "  adj[row, col] = cofactor(mat, row, col)\n"
     ]
    },
    {
     "data": {
      "text/plain": [
       "array([[-0.21311-0.j,  0.11475+0.j,  0.18033+0.j],\n",
       "       [ 0.11475+0.j,  0.29508+0.j, -0.08197-0.j],\n",
       "       [ 0.18033+0.j, -0.08197-0.j, -0.     +0.j]])"
      ]
     },
     "execution_count": 8,
     "metadata": {},
     "output_type": "execute_result"
    }
   ],
   "source": [
    "np.round(la.conj_T(la.inverse(C)), decimals=5)"
   ]
  },
  {
   "cell_type": "code",
   "execution_count": 9,
   "metadata": {},
   "outputs": [
    {
     "data": {
      "text/plain": [
       "array([[-0.21311+0.j,  0.11475-0.j,  0.18033-0.j],\n",
       "       [ 0.11475-0.j,  0.29508-0.j, -0.08197+0.j],\n",
       "       [ 0.18033-0.j, -0.08197+0.j, -0.     -0.j]])"
      ]
     },
     "execution_count": 9,
     "metadata": {},
     "output_type": "execute_result"
    }
   ],
   "source": [
    "np.round(la.inverse(C), decimals=5)"
   ]
  },
  {
   "cell_type": "markdown",
   "metadata": {},
   "source": [
    "### 2-3\n",
    "若 $A, B$ 皆为 Hermitian matrix，则\n",
    "+ $A - B$\n",
    "+ $A + B$\n",
    "+ $AB + BA$\n",
    "\n",
    "也是 Hermitian matrix。\n",
    "\n",
    "证明：\n",
    "\n",
    "$$\\begin{align}\n",
    "(A\\pm B)^\\star &= A^\\star \\pm B^\\star = A \\pm B\\quad \\dots (1)\n",
    "\\\\\n",
    "(AB + BA)^\\star &= (AB)^\\star + (BA)^\\star \n",
    "\\\\\n",
    "&= B^\\star A^\\star + A^\\star B^\\star\n",
    "\\\\\n",
    "&= BA + AB\n",
    "\\\\\n",
    "&= AB + BA\\quad \\dots (2)\n",
    "\\end{align}$$"
   ]
  },
  {
   "cell_type": "code",
   "execution_count": 10,
   "metadata": {},
   "outputs": [],
   "source": [
    "D = np.array([[    2, 2+1.j,   4],\n",
    "              [2-1.j,     3, 1.j],\n",
    "              [    4,  -1.j,   1]])"
   ]
  },
  {
   "cell_type": "code",
   "execution_count": 11,
   "metadata": {},
   "outputs": [
    {
     "data": {
      "text/plain": [
       "True"
      ]
     },
     "execution_count": 11,
     "metadata": {},
     "output_type": "execute_result"
    }
   ],
   "source": [
    "la.hermitianIO(D)"
   ]
  },
  {
   "cell_type": "code",
   "execution_count": 12,
   "metadata": {},
   "outputs": [
    {
     "data": {
      "text/plain": [
       "True"
      ]
     },
     "execution_count": 12,
     "metadata": {},
     "output_type": "execute_result"
    }
   ],
   "source": [
    "la.hermitianIO(C + D)"
   ]
  },
  {
   "cell_type": "code",
   "execution_count": 13,
   "metadata": {},
   "outputs": [
    {
     "data": {
      "text/plain": [
       "True"
      ]
     },
     "execution_count": 13,
     "metadata": {},
     "output_type": "execute_result"
    }
   ],
   "source": [
    "la.hermitianIO(C - D)"
   ]
  },
  {
   "cell_type": "code",
   "execution_count": 14,
   "metadata": {
    "scrolled": true
   },
   "outputs": [
    {
     "data": {
      "text/plain": [
       "True"
      ]
     },
     "execution_count": 14,
     "metadata": {},
     "output_type": "execute_result"
    }
   ],
   "source": [
    "la.hermitianIO(np.dot(C, D) + np.dot(D, C))"
   ]
  },
  {
   "cell_type": "markdown",
   "metadata": {},
   "source": [
    "### 2-4\n",
    "任意方阵必可表示成 Hermitian matrix 与 skew-Hermitian matrix 的和。\n",
    "\n",
    "证明：令 $A = \\frac{1}{2}(A + A^\\star) + \\frac{1}{2}(A - A^\\star)$\n",
    "\n",
    "$$\\begin{align}\n",
    "因\\ \\big(\\frac{1}{2}(A + A^\\star) \\big)^\\star &= \\frac{1}{2}(A + A^\\star)^\\star = \\frac{1}{2}(A^\\star + A)\n",
    "\\\\\n",
    "因\\ \\big(\\frac{1}{2}(A - A^\\star) \\big)^\\star &= \\frac{1}{2}(A - A^\\star)^\\star = \\frac{1}{2}(A^\\star - A) = \\frac{-1}{2}(A - A^\\star)\n",
    "\\end{align}$$\n",
    "\n",
    "结果分别是 Hermitian matrix 与 skew-Hermitian matrix，故得证。"
   ]
  },
  {
   "cell_type": "markdown",
   "metadata": {},
   "source": [
    "## 3. Unitary matrix\n",
    "\n",
    "### 3-1\n",
    "若 A 为 unitary matrix，则 $|det(A)| = 1$。\n",
    "\n",
    "证明：\n",
    "\n",
    "$$\\begin{align}\n",
    "A^\\star A &= \\mathbf{I}\n",
    "\\\\\n",
    "|A^\\star A| &= |\\mathbf{I}| = 1\n",
    "\\\\\n",
    "|A^\\star||A| &= 1\n",
    "\\\\\n",
    "|\\bar{A}||A| &= 1\n",
    "\\\\\n",
    "\\overline{|A|}|A| &= 1\n",
    "\\end{align}$$\n",
    "\n",
    "令：$|A| = a + ib$，且 $\\overline{|A|} = a - ib$，得：$a^2 + b^2 = 1\\ \\rightarrow |det(A)| = 1$。"
   ]
  },
  {
   "cell_type": "code",
   "execution_count": 15,
   "metadata": {},
   "outputs": [
    {
     "data": {
      "text/plain": [
       "1.0000000030962668"
      ]
     },
     "execution_count": 15,
     "metadata": {},
     "output_type": "execute_result"
    }
   ],
   "source": [
    "np.abs(la.determinant(A))"
   ]
  },
  {
   "cell_type": "code",
   "execution_count": 16,
   "metadata": {},
   "outputs": [
    {
     "data": {
      "text/plain": [
       "1.0"
      ]
     },
     "execution_count": 16,
     "metadata": {},
     "output_type": "execute_result"
    }
   ],
   "source": [
    "np.abs(la.determinant(B))"
   ]
  },
  {
   "cell_type": "markdown",
   "metadata": {},
   "source": [
    "### 3-2\n",
    "若 $A, B$ 皆为 unitary matrix，则 AB 一样也是 unitary matrix。\n",
    "\n",
    "证明：\n",
    "\n",
    "$$\n",
    "(AB)^\\star(AB) = B^\\star A^\\star AB = B^\\star\\mathbf{I}B = \\mathbf{I}\n",
    "$$"
   ]
  },
  {
   "cell_type": "code",
   "execution_count": 17,
   "metadata": {},
   "outputs": [
    {
     "data": {
      "text/plain": [
       "1.0000000030962666"
      ]
     },
     "execution_count": 17,
     "metadata": {},
     "output_type": "execute_result"
    }
   ],
   "source": [
    "np.abs(la.determinant(np.dot(A, B)))"
   ]
  },
  {
   "cell_type": "markdown",
   "metadata": {},
   "source": [
    "---"
   ]
  },
  {
   "cell_type": "markdown",
   "metadata": {},
   "source": [
    "## 4. 线性独立 & 线性相依\n",
    "`线性独立` 与 `线性相依` 是两个相反的概念，判断标准为向量之间是否指向同一个方向。令行向量 = $\\{x_1, x_2, \\dots, x_n\\}$，若存在全部为 0 的常数 $C_1, C_2, \\dots, C_n$ 才使得\n",
    "\n",
    "$$\n",
    "C_1x_1 + C_2x_2 + \\dots + C_nx_n = 0\n",
    "$$\n",
    "\n",
    "则称这些向量所在的集合为 `线性独立` 集合。反之，如果可以找得到不全为 0 的常数就能达到上式为 0 的结果，则该集合为 `线性相依` 集合。"
   ]
  },
  {
   "cell_type": "markdown",
   "metadata": {},
   "source": [
    "## 5. 线性组合\n",
    "若行向量 = $\\{x_1, x_2, \\dots, x_n\\}$，且 $C_1, C_2, \\dots, C_n$ 为任意常数，则：\n",
    "\n",
    "$$\n",
    "\\mathbf{X} = C_1x_1 + C_2x_2 + \\dots + C_nx_n\n",
    "$$\n",
    "\n",
    "称 $\\mathbf{X}$ 为 $x_1, x_2, \\dots, x_n$ 的线性组合。"
   ]
  },
  {
   "cell_type": "markdown",
   "metadata": {},
   "source": [
    "## 6. 展延 span\n",
    "给定一系列相互独立的行向量 $\\{x_1, x_2, \\dots, x_n\\}$，把行向量做多次任意的 `线性组合` 得出来的新向量放到一个集合 $\\mathbb{V}$ 中，则集合 $\\mathbb{V}$ 即为 该系列相互独立的行向量的展延，表示为：$span\\{x_1, x_2, \\dots, x_n\\}$。"
   ]
  },
  {
   "cell_type": "markdown",
   "metadata": {},
   "source": [
    "## 7. 向量空间\n",
    "如果 $\\mathbb{V}$ 是由向量组成的集合，则集合内的向量满足以下条件：\n",
    "1. 封闭性：$x + y$ 同样在集合 $\\mathbb{V}$ 内\n",
    "2. 交换性：$x + y = y + x$\n",
    "3. 结合性：$(x + y) + z = x + (y + z)$\n",
    "4. $x + 0 = 0 + x = x$\n",
    "5. $x + (-x) = 0$\n",
    "\n",
    "集合内的向量 $(x, y)$ 和纯量 $(\\alpha, \\beta)$ 满足以下条件：\n",
    "1. 封闭性：$\\alpha x$ 同样在集合 $\\mathbb{V}$ 内\n",
    "2. 分配性：$\\alpha(x + y) = \\alpha x + \\alpha y$\n",
    "3. 分配性：$(\\alpha + \\beta)x = \\alpha x + \\beta x$\n",
    "4. 结合性：$(\\alpha\\beta)x = \\alpha(\\beta x)$\n",
    "5. $1\\cdot x = x\\cdot 1 = x$\n",
    "\n",
    "则称 $\\mathbb{V}$ 为一个向量空间。"
   ]
  },
  {
   "cell_type": "markdown",
   "metadata": {},
   "source": [
    "## 8. 维度 Dimension\n",
    "若一个向量空间 $\\mathbb{V}$ 其线性独立向量的最大个数为 n，则定义向量空间 $\\mathbb{V}$ 的维数 = n，又可以被表示为 $\\dim\\mathbb{V}$"
   ]
  },
  {
   "cell_type": "markdown",
   "metadata": {},
   "source": [
    "## 9. 基底 Basis\n",
    "如果一个向量空间 $\\mathbb{V} = \\{x_1, x_2, \\dots, x_n\\}$，且每个向量之间相互线性独立，当 $\\mathbb{V}$ 内每个向量皆可利用上述线性独立向量做线性组合而得到时，则称 $x_1, x_2, \\dots, x_n$ 为向量空间 $\\mathbb{V}$ 的基底，且 $基底数 = \\dim\\mathbb{V}$."
   ]
  },
  {
   "cell_type": "markdown",
   "metadata": {},
   "source": [
    "## 10. 列空间与行空间\n",
    "假设一个向量空间 A 定义如下：\n",
    "\n",
    "$$\n",
    "A = \n",
    "\\begin{bmatrix} a_{11} & a_{12} & a_{13} & \\cdots & a_{1n} \\\\\n",
    "                a_{21} & a_{22} & a_{23} & \\cdots & a_{2n} \\\\\n",
    "                ...  & ...  & ...  & \\quad  & ... \\\\\n",
    "                a_{m1} & a_{m2} & a_{m3} & \\cdots & a_{mn}\\end{bmatrix}\n",
    "$$\n",
    "\n",
    "即可令\n",
    "\n",
    "$$\\begin{align}\n",
    "R_1 &= \\begin{bmatrix}a_{11} & a_{12} & a_{13} & \\cdots & a_{1n}\\end{bmatrix}\n",
    "\\\\\n",
    "R_2 &= \\begin{bmatrix}a_{21} & a_{22} & a_{23} & \\cdots & a_{2n}\\end{bmatrix}\n",
    "\\\\\n",
    "\\cdots\n",
    "\\\\\n",
    "C_1 &= \\begin{bmatrix}a_{11} & a_{21} & a_{31} & \\cdots & a_{m1}\\end{bmatrix}^T\n",
    "\\\\\n",
    "C_2 &= \\begin{bmatrix}a_{12} & a_{22} & a_{32} & \\cdots & a_{m2}\\end{bmatrix}^T\n",
    "\\\\\n",
    "\\cdots\n",
    "\\end{align}$$\n",
    "\n",
    "则 A 矩阵的空间向量定义如下：\n",
    "+ 列空间：$span\\ \\{R_1, R_2, \\dots, R_m\\}$\n",
    "+ 行空间：$span\\ \\{C_1, C_2, \\dots, C_n\\}$"
   ]
  },
  {
   "cell_type": "markdown",
   "metadata": {},
   "source": [
    "A = np.random.randint(1, 15, 12).reshape(3, 4)\n",
    "A"
   ]
  },
  {
   "cell_type": "markdown",
   "metadata": {},
   "source": [
    "## 11. 秩 Rank\n",
    "+ 矩阵中列空间的维度称为该矩阵的 `列秩`。\n",
    "+ 矩阵中行空间的维度称为该矩阵的 `行秩`。\n",
    "\n",
    "p.s. 列秩 = 行秩（对于所有矩阵）。\n",
    "\n",
    "秩的定义：矩阵 A 中线性独立行向量个数（或列向量个数）以 rank(A) 表示。"
   ]
  },
  {
   "cell_type": "markdown",
   "metadata": {},
   "source": [
    "### 11-1\n",
    "$$\n",
    "rank(A) = rank(A^T)\n",
    "$$"
   ]
  },
  {
   "cell_type": "code",
   "execution_count": 18,
   "metadata": {},
   "outputs": [
    {
     "data": {
      "text/plain": [
       "3"
      ]
     },
     "execution_count": 18,
     "metadata": {},
     "output_type": "execute_result"
    }
   ],
   "source": [
    "np.linalg.matrix_rank(A)"
   ]
  },
  {
   "cell_type": "code",
   "execution_count": 19,
   "metadata": {},
   "outputs": [
    {
     "data": {
      "text/plain": [
       "3"
      ]
     },
     "execution_count": 19,
     "metadata": {},
     "output_type": "execute_result"
    }
   ],
   "source": [
    "np.linalg.matrix_rank(A.T)"
   ]
  },
  {
   "cell_type": "markdown",
   "metadata": {},
   "source": [
    "### 11-2\n",
    "若 $A_k$ 表矩阵 $A$ 经由基本列运算后所得的矩阵，则：\n",
    "\n",
    "$$\n",
    "rank(A) = rank(A_k) = A_K \\quad\\quad\\dots 的非零列列数\n",
    "$$"
   ]
  },
  {
   "cell_type": "markdown",
   "metadata": {},
   "source": [
    "### 11-3\n",
    "若 $A$ 为 $n\\times n$ 阶方阵，并且 $rank(A) = n$，则 $A$ 的简化矩阵必为单位矩阵 $I$。"
   ]
  },
  {
   "cell_type": "code",
   "execution_count": 20,
   "metadata": {},
   "outputs": [],
   "source": [
    "B = np.array([[1, 0, 3, 0],\n",
    "              [0, 1, 0, 3],\n",
    "              [1, 0, 3, 1]])"
   ]
  },
  {
   "cell_type": "code",
   "execution_count": 21,
   "metadata": {},
   "outputs": [
    {
     "data": {
      "text/plain": [
       "3"
      ]
     },
     "execution_count": 21,
     "metadata": {},
     "output_type": "execute_result"
    }
   ],
   "source": [
    "np.linalg.matrix_rank(B)"
   ]
  },
  {
   "cell_type": "markdown",
   "metadata": {},
   "source": [
    "根据 `8-1` 的规则，可以得知：$行秩 = 列秩 = 3$。"
   ]
  }
 ],
 "metadata": {
  "kernelspec": {
   "display_name": "Python 3",
   "language": "python",
   "name": "python3"
  },
  "language_info": {
   "codemirror_mode": {
    "name": "ipython",
    "version": 3
   },
   "file_extension": ".py",
   "mimetype": "text/x-python",
   "name": "python",
   "nbconvert_exporter": "python",
   "pygments_lexer": "ipython3",
   "version": "3.6.2"
  }
 },
 "nbformat": 4,
 "nbformat_minor": 2
}
